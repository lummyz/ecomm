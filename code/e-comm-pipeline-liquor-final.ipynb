{
 "cells": [
  {
   "cell_type": "code",
   "execution_count": 1,
   "id": "ac5c5d56-328c-42ac-b783-42cabfdf50bb",
   "metadata": {},
   "outputs": [],
   "source": [
    "import findspark\n",
    "findspark.init()\n",
    "import pyspark\n",
    "from pyspark.sql import SparkSession\n",
    "import os\n",
    "import sys\n",
    "from pyspark.sql.functions import *\n",
    "from calendar import month_name\n",
    "from pyspark.ml.feature import *\n",
    "from pyspark.sql.types import *\n",
    "from pyspark.ml.clustering import KMeans\n",
    "from pyspark.ml import Pipeline\n",
    "import re"
   ]
  },
  {
   "cell_type": "code",
   "execution_count": 2,
   "id": "ed371341-ecd6-45f6-9300-e0b92ded7198",
   "metadata": {},
   "outputs": [
    {
     "name": "stdout",
     "output_type": "stream",
     "text": [
      "+-----+\n",
      "|hello|\n",
      "+-----+\n",
      "|spark|\n",
      "+-----+\n",
      "\n"
     ]
    }
   ],
   "source": [
    "spark = SparkSession.builder \\\n",
    "    .appName('app_name') \\\n",
    "    .master('local[*]') \\\n",
    "    .config('spark.sql.execution.arrow.pyspark.enabled', True) \\\n",
    "    .config('spark.sql.session.timeZone', 'UTC') \\\n",
    "    .config('spark.driver.memory','32G') \\\n",
    "    .config('spark.ui.showConsoleProgress', True) \\\n",
    "    .config('spark.sql.repl.eagerEval.enabled', True) \\\n",
    "    .getOrCreate()"
   ]
  },
  {
   "cell_type": "code",
   "execution_count": 3,
   "id": "57d15de9-53ad-4e98-9e8b-912b1a9cbda2",
   "metadata": {},
   "outputs": [
    {
     "name": "stdout",
     "output_type": "stream",
     "text": [
      "root\n",
      " |-- Invoice/Item Number: string (nullable = true)\n",
      " |-- Date: string (nullable = true)\n",
      " |-- Store Number: integer (nullable = true)\n",
      " |-- Store Name: string (nullable = true)\n",
      " |-- Address: string (nullable = true)\n",
      " |-- City: string (nullable = true)\n",
      " |-- Zip Code: string (nullable = true)\n",
      " |-- Store Location: string (nullable = true)\n",
      " |-- County Number: integer (nullable = true)\n",
      " |-- County: string (nullable = true)\n",
      " |-- Category: integer (nullable = true)\n",
      " |-- Category Name: string (nullable = true)\n",
      " |-- Vendor Number: integer (nullable = true)\n",
      " |-- Vendor Name: string (nullable = true)\n",
      " |-- Item Number: string (nullable = true)\n",
      " |-- Item Description: string (nullable = true)\n",
      " |-- Pack: integer (nullable = true)\n",
      " |-- Bottle Volume (ml): integer (nullable = true)\n",
      " |-- State Bottle Cost: double (nullable = true)\n",
      " |-- State Bottle Retail: double (nullable = true)\n",
      " |-- Bottles Sold: integer (nullable = true)\n",
      " |-- Sale (Dollars): double (nullable = true)\n",
      " |-- Volume Sold (Liters): double (nullable = true)\n",
      " |-- Volume Sold (Gallons): double (nullable = true)\n",
      "\n"
     ]
    }
   ],
   "source": [
    "liquor_data_df = spark.read.csv(\"DE_CaseStudy_Dataset/Sales_Data/Liquor_Sales.csv\", header=True, inferSchema=True)\n",
    "\n",
    "liquor_data_df.printSchema()"
   ]
  },
  {
   "cell_type": "code",
   "execution_count": 4,
   "id": "948bf1ba-cfb1-4719-96aa-a653a8726ae6",
   "metadata": {},
   "outputs": [
    {
     "name": "stdout",
     "output_type": "stream",
     "text": [
      "+-------------------+----------+------------+--------------------+--------------------+---------------+--------+--------------------+-------------+-------------+--------+--------------------+-------------+--------------------+-----------+--------------------+----+------------------+-----------------+-------------------+------------+--------------+--------------------+---------------------+\n",
      "|Invoice/Item Number|      Date|Store Number|          Store Name|             Address|           City|Zip Code|      Store Location|County Number|       County|Category|       Category Name|Vendor Number|         Vendor Name|Item Number|    Item Description|Pack|Bottle Volume (ml)|State Bottle Cost|State Bottle Retail|Bottles Sold|Sale (Dollars)|Volume Sold (Liters)|Volume Sold (Gallons)|\n",
      "+-------------------+----------+------------+--------------------+--------------------+---------------+--------+--------------------+-------------+-------------+--------+--------------------+-------------+--------------------+-----------+--------------------+----+------------------+-----------------+-------------------+------------+--------------+--------------------+---------------------+\n",
      "|       S24127700024|02/19/2015|        3678|     Smoke Shop, The|     1918 SE 14TH ST|     DES MOINES|   50320|POINT (-93.597011...|           77|         Polk| 1031200|      VODKA FLAVORED|          380|Phillips Beverage...|      41783|Uv Blue Raspberry...|   6|               500|             4.89|               7.34|           2|         14.68|                 1.0|                 0.26|\n",
      "|       S15066200002|10/10/2013|        2633|Hy-Vee #3 / BDI /...|     3221 SE 14TH ST|     DES MOINES|   50320|POINT (-93.596754...|           77|         Polk| 1082900|MISC. IMPORTED CO...|          305|             MHW Ltd|     904969|Sabe Premiom Sake...|   6|               750|            14.99|              22.49|           6|        134.94|                 4.5|                 1.19|\n",
      "|       S19323500030|06/03/2014|        2607|Hy-Vee Wine and S...|      520 SO FREMONT|     SHENANDOAH|   51601|POINT (-95.385111...|           73|         Page| 1062200|PUERTO RICO & VIR...|          434|      Luxco-St Louis|      45277| Paramount White Rum|  12|              1000|             4.34|               6.51|          12|         78.12|                12.0|                 3.17|\n",
      "|       S23334500013|01/06/2015|        4810|Kum & Go #518 / A...|3603 NE OTTERVIEW...|         ANKENY|   50021|POINT (-93.572458...|           77|         Polk| 1062200|PUERTO RICO & VIR...|           35|Bacardi U.S.A., Inc.|      43121|Bacardi Superior ...|  12|               500|             5.54|               8.31|           1|          8.31|                 0.5|                 0.13|\n",
      "|       S09742200010|12/27/2012|        4025|Karam Kaur Khasri...|         702 13TH ST|   BELLE PLAINE|   52208|POINT (-92.277759...|            6|       Benton| 1012100|   CANADIAN WHISKIES|          260|     Diageo Americas|      11298|Crown Royal Canad...|   6|              1750|             31.0|              46.49|           2|         92.98|                 3.5|                 0.92|\n",
      "|       S15034600007|10/09/2013|        4583|Kum & Go #5100 / ...|         208 MAIN ST|         MANSON|   50563|POINT (-94.534532...|           13|      Calhoun| 1081200|      CREAM LIQUEURS|          305|             MHW Ltd|      73050|            Rumchata|   6|               750|             12.5|              18.75|           6|         112.5|                 4.5|                 1.19|\n",
      "|       S25185100053|04/21/2015|        5080|    C's Liquor Store|       719 2ND AVE W|        SPENCER|   51301|POINT (-95.147741...|           21|         Clay| 1081390|   IMPORTED SCHNAPPS|          421|   Sazerac Co., Inc.|      69713|Dr. McGillicuddy'...|  12|               500|             4.96|               7.44|           1|          7.44|                 0.5|                 0.13|\n",
      "|       S25786400073|05/21/2015|        5102|      Wilkie Liquors|    724, 1st  ST  SE|   MOUNT VERNON|   52314|POINT (-91.410401...|           57|         Linn| 1031080|      VODKA 80 PROOF|          434|      Luxco-St Louis|      36307|       Hawkeye Vodka|  12|              1000|             4.05|               6.08|          24|        145.92|                24.0|                 6.34|\n",
      "|       S26178600169|06/15/2015|        2506|Hy-Vee #1044 / Bu...|         3140 AGENCY|     BURLINGTON|   52601|POINT (-91.136655...|           29|   Des Moines| 1081600|     WHISKEY LIQUEUR|          260|     Diageo Americas|      66206|Piehole Cherry Pi...|  12|               500|              4.9|               7.35|           1|          7.35|                 0.5|                 0.13|\n",
      "|       S11599200028|04/11/2013|        2630|Hy-Vee Drugstore ...|       1010  60TH ST|WEST DES MOINES|   50266|POINT (-93.790534...|           77|         Polk| 1071100|  AMERICAN COCKTAILS|          395|             Proximo|      58838|Jose Cuervo Authe...|   6|              1750|              8.2|               12.3|           6|          73.8|                10.5|                 2.77|\n",
      "|       S14039300026|08/21/2013|        3916|Smokin' Joe's #5 ...|       1115 ALBIA RD|        OTTUMWA|   52501|POINT (-92.437224...|           90|      Wapello| 1012100|   CANADIAN WHISKIES|          260|     Diageo Americas|      11294|Crown Royal Canad...|  24|               375|             7.65|              11.48|           1|         11.48|                0.38|                  0.1|\n",
      "|       S14777200004|09/25/2013|        4073|  Uptown Liquor, Llc|    306 HWY 69 SOUTH|    FOREST CITY|   50436|POINT (-93.633306...|           95|    Winnebago| 1012100|   CANADIAN WHISKIES|           55|Sazerac North Ame...|      12407| Canadian Ltd Whisky|  12|              1000|              5.5|               8.25|          12|          99.0|                12.0|                 3.17|\n",
      "|       S28698700004|10/27/2015|        2578|Hy-Vee / Charles ...|        901 KELLY ST|   CHARLES CITY|   50616|POINT (-92.675560...|           34|        Floyd| 1031080|      VODKA 80 PROOF|          260|     Diageo Americas|      37426|Popov Vodka 80 Pr...|  12|               750|              4.5|               6.75|          12|          81.0|                 9.0|                 2.38|\n",
      "|       S15825800006|11/20/2013|        4465| HOME TOWN FOOD ON 4|       714 S EAST ST|        POMEROY|   50575|POINT (-94.678054...|           13|      Calhoun| 1011100|    BLENDED WHISKIES|          434|      Luxco-St Louis|      24156|Hawkeye Blend Whi...|  12|               750|             3.36|               5.04|          24|        120.96|                18.0|                 4.76|\n",
      "|       S27233900076|08/10/2015|        2613|Hy-Vee Food Store...|     2323 W BROADWAY| COUNCIL BLUFFS|   51501|POINT (-95.879662...|           78|Pottawattamie| 1022100|             TEQUILA|          410|The Patron Spirit...|      88296|Patron Tequila Si...|  12|               750|             27.0|               40.5|          12|         486.0|                 9.0|                 2.38|\n",
      "|       S11716100052|04/17/2013|        3990|Cork and Bottle /...|      309 A AVE WEST|      OSKALOOSA|   52577|POINT (-92.648153...|           62|      Mahaska| 1032200|IMPORTED VODKA - ...|           35|Bacardi U.S.A., Inc.|      34436|Grey Goose Vodka ...|   6|               750|            17.97|              26.96|           1|         26.96|                0.75|                  0.2|\n",
      "|       S28977300019|11/10/2015|        4743|No Frills Superma...| 1801 VALLEY VIEW DR| COUNCIL BLUFFS|   51503|POINT (-95.818775...|           78|Pottawattamie| 1022100|             TEQUILA|          395|             Proximo|      89198|Jose Cuervo Espec...|   6|              1750|            20.25|              30.38|           6|        182.28|                10.5|                 2.77|\n",
      "|       S10005300010|01/15/2013|        2460|   Liquor Barn, Inc.|721 CENTRAL AVENU...|        HAMPTON|   50441|POINT (-93.21693 ...|           35|     Franklin| 1012100|   CANADIAN WHISKIES|           85|Brown-Forman Corp...|      12476|Canadian Mist Whi...|  12|               750|             5.44|               8.15|          12|          97.8|                 9.0|                 2.38|\n",
      "|       S08028500005|10/01/2012|        4109|           Best Trip|         1516 SE 1ST|     DES MOINES|   50315|POINT (-93.613469...|           77|         Polk| 1011500|STRAIGHT RYE WHIS...|          255| Wilson Daniels Ltd.|      27102|       Templeton Rye|   6|               750|            18.08|              27.13|           6|        162.78|                 4.5|                 1.19|\n",
      "|       S12260600026|05/16/2013|        3918|Smokin' Joe's #1 ...|  3120 ROCKINGHAM RD|      DAVENPORT|   52802|POINT (-90.621541...|           82|        Scott| 1081300| PEPPERMINT SCHNAPPS|          434|      Luxco-St Louis|      80576|Arrow Peppermint ...|  12|               750|             3.42|               5.13|           1|          5.13|                0.75|                  0.2|\n",
      "+-------------------+----------+------------+--------------------+--------------------+---------------+--------+--------------------+-------------+-------------+--------+--------------------+-------------+--------------------+-----------+--------------------+----+------------------+-----------------+-------------------+------------+--------------+--------------------+---------------------+\n",
      "only showing top 20 rows\n",
      "\n"
     ]
    }
   ],
   "source": [
    "liquor_data_df.show()"
   ]
  },
  {
   "cell_type": "code",
   "execution_count": 5,
   "id": "d9ad6036-aeb1-40b4-8385-7fb0efac5163",
   "metadata": {},
   "outputs": [
    {
     "name": "stdout",
     "output_type": "stream",
     "text": [
      "+-------------------+----------+------------+--------------------+--------------------+---------------+--------+--------------------+-------------+-------------+--------+--------------------+-------------+--------------------+-----------+--------------------+----+----------------+-----------------+-------------------+------------+------------+------------------+-------------------+\n",
      "|invoice_item_number|      date|store_number|          store_name|             address|           city|zip_code|      store_location|county_number|       county|category|       category_name|vendor_number|         vendor_name|item_number|    item_description|pack|bottle_volume_ml|state_bottle_cost|state_bottle_retail|bottles_sold|sale_dollars|volume_sold_liters|volume_sold_gallons|\n",
      "+-------------------+----------+------------+--------------------+--------------------+---------------+--------+--------------------+-------------+-------------+--------+--------------------+-------------+--------------------+-----------+--------------------+----+----------------+-----------------+-------------------+------------+------------+------------------+-------------------+\n",
      "|       S24127700024|02/19/2015|        3678|     Smoke Shop, The|     1918 SE 14TH ST|     DES MOINES|   50320|POINT (-93.597011...|           77|         Polk| 1031200|      VODKA FLAVORED|          380|Phillips Beverage...|      41783|Uv Blue Raspberry...|   6|             500|             4.89|               7.34|           2|       14.68|               1.0|               0.26|\n",
      "|       S15066200002|10/10/2013|        2633|Hy-Vee #3 / BDI /...|     3221 SE 14TH ST|     DES MOINES|   50320|POINT (-93.596754...|           77|         Polk| 1082900|MISC. IMPORTED CO...|          305|             MHW Ltd|     904969|Sabe Premiom Sake...|   6|             750|            14.99|              22.49|           6|      134.94|               4.5|               1.19|\n",
      "|       S19323500030|06/03/2014|        2607|Hy-Vee Wine and S...|      520 SO FREMONT|     SHENANDOAH|   51601|POINT (-95.385111...|           73|         Page| 1062200|PUERTO RICO & VIR...|          434|      Luxco-St Louis|      45277| Paramount White Rum|  12|            1000|             4.34|               6.51|          12|       78.12|              12.0|               3.17|\n",
      "|       S23334500013|01/06/2015|        4810|Kum & Go #518 / A...|3603 NE OTTERVIEW...|         ANKENY|   50021|POINT (-93.572458...|           77|         Polk| 1062200|PUERTO RICO & VIR...|           35|Bacardi U.S.A., Inc.|      43121|Bacardi Superior ...|  12|             500|             5.54|               8.31|           1|        8.31|               0.5|               0.13|\n",
      "|       S09742200010|12/27/2012|        4025|Karam Kaur Khasri...|         702 13TH ST|   BELLE PLAINE|   52208|POINT (-92.277759...|            6|       Benton| 1012100|   CANADIAN WHISKIES|          260|     Diageo Americas|      11298|Crown Royal Canad...|   6|            1750|             31.0|              46.49|           2|       92.98|               3.5|               0.92|\n",
      "|       S15034600007|10/09/2013|        4583|Kum & Go #5100 / ...|         208 MAIN ST|         MANSON|   50563|POINT (-94.534532...|           13|      Calhoun| 1081200|      CREAM LIQUEURS|          305|             MHW Ltd|      73050|            Rumchata|   6|             750|             12.5|              18.75|           6|       112.5|               4.5|               1.19|\n",
      "|       S25185100053|04/21/2015|        5080|    C's Liquor Store|       719 2ND AVE W|        SPENCER|   51301|POINT (-95.147741...|           21|         Clay| 1081390|   IMPORTED SCHNAPPS|          421|   Sazerac Co., Inc.|      69713|Dr. McGillicuddy'...|  12|             500|             4.96|               7.44|           1|        7.44|               0.5|               0.13|\n",
      "|       S25786400073|05/21/2015|        5102|      Wilkie Liquors|    724, 1st  ST  SE|   MOUNT VERNON|   52314|POINT (-91.410401...|           57|         Linn| 1031080|      VODKA 80 PROOF|          434|      Luxco-St Louis|      36307|       Hawkeye Vodka|  12|            1000|             4.05|               6.08|          24|      145.92|              24.0|               6.34|\n",
      "|       S26178600169|06/15/2015|        2506|Hy-Vee #1044 / Bu...|         3140 AGENCY|     BURLINGTON|   52601|POINT (-91.136655...|           29|   Des Moines| 1081600|     WHISKEY LIQUEUR|          260|     Diageo Americas|      66206|Piehole Cherry Pi...|  12|             500|              4.9|               7.35|           1|        7.35|               0.5|               0.13|\n",
      "|       S11599200028|04/11/2013|        2630|Hy-Vee Drugstore ...|       1010  60TH ST|WEST DES MOINES|   50266|POINT (-93.790534...|           77|         Polk| 1071100|  AMERICAN COCKTAILS|          395|             Proximo|      58838|Jose Cuervo Authe...|   6|            1750|              8.2|               12.3|           6|        73.8|              10.5|               2.77|\n",
      "|       S14039300026|08/21/2013|        3916|Smokin' Joe's #5 ...|       1115 ALBIA RD|        OTTUMWA|   52501|POINT (-92.437224...|           90|      Wapello| 1012100|   CANADIAN WHISKIES|          260|     Diageo Americas|      11294|Crown Royal Canad...|  24|             375|             7.65|              11.48|           1|       11.48|              0.38|                0.1|\n",
      "|       S14777200004|09/25/2013|        4073|  Uptown Liquor, Llc|    306 HWY 69 SOUTH|    FOREST CITY|   50436|POINT (-93.633306...|           95|    Winnebago| 1012100|   CANADIAN WHISKIES|           55|Sazerac North Ame...|      12407| Canadian Ltd Whisky|  12|            1000|              5.5|               8.25|          12|        99.0|              12.0|               3.17|\n",
      "|       S28698700004|10/27/2015|        2578|Hy-Vee / Charles ...|        901 KELLY ST|   CHARLES CITY|   50616|POINT (-92.675560...|           34|        Floyd| 1031080|      VODKA 80 PROOF|          260|     Diageo Americas|      37426|Popov Vodka 80 Pr...|  12|             750|              4.5|               6.75|          12|        81.0|               9.0|               2.38|\n",
      "|       S15825800006|11/20/2013|        4465| HOME TOWN FOOD ON 4|       714 S EAST ST|        POMEROY|   50575|POINT (-94.678054...|           13|      Calhoun| 1011100|    BLENDED WHISKIES|          434|      Luxco-St Louis|      24156|Hawkeye Blend Whi...|  12|             750|             3.36|               5.04|          24|      120.96|              18.0|               4.76|\n",
      "|       S27233900076|08/10/2015|        2613|Hy-Vee Food Store...|     2323 W BROADWAY| COUNCIL BLUFFS|   51501|POINT (-95.879662...|           78|Pottawattamie| 1022100|             TEQUILA|          410|The Patron Spirit...|      88296|Patron Tequila Si...|  12|             750|             27.0|               40.5|          12|       486.0|               9.0|               2.38|\n",
      "|       S11716100052|04/17/2013|        3990|Cork and Bottle /...|      309 A AVE WEST|      OSKALOOSA|   52577|POINT (-92.648153...|           62|      Mahaska| 1032200|IMPORTED VODKA - ...|           35|Bacardi U.S.A., Inc.|      34436|Grey Goose Vodka ...|   6|             750|            17.97|              26.96|           1|       26.96|              0.75|                0.2|\n",
      "|       S28977300019|11/10/2015|        4743|No Frills Superma...| 1801 VALLEY VIEW DR| COUNCIL BLUFFS|   51503|POINT (-95.818775...|           78|Pottawattamie| 1022100|             TEQUILA|          395|             Proximo|      89198|Jose Cuervo Espec...|   6|            1750|            20.25|              30.38|           6|      182.28|              10.5|               2.77|\n",
      "|       S10005300010|01/15/2013|        2460|   Liquor Barn, Inc.|721 CENTRAL AVENU...|        HAMPTON|   50441|POINT (-93.21693 ...|           35|     Franklin| 1012100|   CANADIAN WHISKIES|           85|Brown-Forman Corp...|      12476|Canadian Mist Whi...|  12|             750|             5.44|               8.15|          12|        97.8|               9.0|               2.38|\n",
      "|       S08028500005|10/01/2012|        4109|           Best Trip|         1516 SE 1ST|     DES MOINES|   50315|POINT (-93.613469...|           77|         Polk| 1011500|STRAIGHT RYE WHIS...|          255| Wilson Daniels Ltd.|      27102|       Templeton Rye|   6|             750|            18.08|              27.13|           6|      162.78|               4.5|               1.19|\n",
      "|       S12260600026|05/16/2013|        3918|Smokin' Joe's #1 ...|  3120 ROCKINGHAM RD|      DAVENPORT|   52802|POINT (-90.621541...|           82|        Scott| 1081300| PEPPERMINT SCHNAPPS|          434|      Luxco-St Louis|      80576|Arrow Peppermint ...|  12|             750|             3.42|               5.13|           1|        5.13|              0.75|                0.2|\n",
      "+-------------------+----------+------------+--------------------+--------------------+---------------+--------+--------------------+-------------+-------------+--------+--------------------+-------------+--------------------+-----------+--------------------+----+----------------+-----------------+-------------------+------------+------------+------------------+-------------------+\n",
      "only showing top 20 rows\n",
      "\n"
     ]
    }
   ],
   "source": [
    "liquor_mapped_df = liquor_data_df.select(\n",
    "    col(\"Invoice/Item Number\").alias(\"invoice_item_number\"),\n",
    "    col(\"Date\").alias(\"date\"),\n",
    "    col(\"Store Number\").alias(\"store_number\"),\n",
    "    col(\"Store Name\").alias(\"store_name\"),\n",
    "    col(\"Address\").alias(\"address\"),\n",
    "    col(\"City\").alias(\"city\"),\n",
    "    col(\"Zip Code\").alias(\"zip_code\"),\n",
    "    col(\"Store Location\").alias(\"store_location\"),\n",
    "    col(\"County Number\").alias(\"county_number\"),\n",
    "    col(\"County\").alias(\"county\"),\n",
    "    col(\"Category\").alias(\"category\"),\n",
    "    col(\"Category Name\").alias(\"category_name\"),\n",
    "    col(\"Vendor Number\").alias(\"vendor_number\"),\n",
    "    col(\"Vendor Name\").alias(\"vendor_name\"),\n",
    "    col(\"Item Number\").alias(\"item_number\"),\n",
    "    col(\"Item Description\").alias(\"item_description\"),\n",
    "    col(\"Pack\").alias(\"pack\"),\n",
    "    col(\"Bottle Volume (ml)\").alias(\"bottle_volume_ml\"),\n",
    "    col(\"State Bottle Cost\").alias(\"state_bottle_cost\"),\n",
    "    col(\"State Bottle Retail\").alias(\"state_bottle_retail\"),\n",
    "    col(\"Bottles Sold\").alias(\"bottles_sold\"),\n",
    "    col(\"Sale (Dollars)\").alias(\"sale_dollars\"),\n",
    "    col(\"Volume Sold (Liters)\").alias(\"volume_sold_liters\"),\n",
    "    col(\"Volume Sold (Gallons)\").alias(\"volume_sold_gallons\")\n",
    ")\n",
    "liquor_mapped_df.show()"
   ]
  },
  {
   "cell_type": "code",
   "execution_count": 6,
   "id": "be4af174-28da-4723-b8a2-67c84f891232",
   "metadata": {},
   "outputs": [],
   "source": [
    "liquor_data_clean_df = liquor_mapped_df.na.drop(\"any\")"
   ]
  },
  {
   "cell_type": "code",
   "execution_count": 7,
   "id": "63110fc6-a510-4079-93c6-a187bb8cbc64",
   "metadata": {},
   "outputs": [
    {
     "name": "stdout",
     "output_type": "stream",
     "text": [
      "[Column<'(invoice_item_number IS NULL) AS invoice_item_number'>, Column<'(date IS NULL) AS date'>, Column<'(store_number IS NULL) AS store_number'>, Column<'(store_name IS NULL) AS store_name'>, Column<'(address IS NULL) AS address'>, Column<'(city IS NULL) AS city'>, Column<'(zip_code IS NULL) AS zip_code'>, Column<'(store_location IS NULL) AS store_location'>, Column<'(county_number IS NULL) AS county_number'>, Column<'(county IS NULL) AS county'>, Column<'(category IS NULL) AS category'>, Column<'(category_name IS NULL) AS category_name'>, Column<'(vendor_number IS NULL) AS vendor_number'>, Column<'(vendor_name IS NULL) AS vendor_name'>, Column<'(item_number IS NULL) AS item_number'>, Column<'(item_description IS NULL) AS item_description'>, Column<'(pack IS NULL) AS pack'>, Column<'(bottle_volume_ml IS NULL) AS bottle_volume_ml'>, Column<'(state_bottle_cost IS NULL) AS state_bottle_cost'>, Column<'(state_bottle_retail IS NULL) AS state_bottle_retail'>, Column<'(bottles_sold IS NULL) AS bottles_sold'>, Column<'(sale_dollars IS NULL) AS sale_dollars'>, Column<'(volume_sold_liters IS NULL) AS volume_sold_liters'>, Column<'(volume_sold_gallons IS NULL) AS volume_sold_gallons'>]\n"
     ]
    }
   ],
   "source": [
    "# Check for nulls in each row\n",
    "columns_with_nulls = [col(column).isNull().alias(column) for column in liquor_data_clean_df.columns]\n",
    "\n",
    "print(columns_with_nulls)"
   ]
  },
  {
   "cell_type": "code",
   "execution_count": 8,
   "id": "52e32582-31ff-461a-8bd6-92ef45daedf4",
   "metadata": {},
   "outputs": [
    {
     "name": "stdout",
     "output_type": "stream",
     "text": [
      "+-------------------+----+------------+----------+-------+----+--------+--------------+-------------+------+--------+-------------+-------------+-----------+-----------+----------------+----+----------------+-----------------+-------------------+------------+------------+------------------+-------------------+-------------+\n",
      "|invoice_item_number|date|store_number|store_name|address|city|zip_code|store_location|county_number|county|category|category_name|vendor_number|vendor_name|item_number|item_description|pack|bottle_volume_ml|state_bottle_cost|state_bottle_retail|bottles_sold|sale_dollars|volume_sold_liters|volume_sold_gallons|contains_null|\n",
      "+-------------------+----+------------+----------+-------+----+--------+--------------+-------------+------+--------+-------------+-------------+-----------+-----------+----------------+----+----------------+-----------------+-------------------+------------+------------+------------------+-------------------+-------------+\n",
      "+-------------------+----+------------+----------+-------+----+--------+--------------+-------------+------+--------+-------------+-------------+-----------+-----------+----------------+----+----------------+-----------------+-------------------+------------+------------+------------------+-------------------+-------------+\n",
      "\n",
      "+-------------------+----------+------------+--------------------+--------------------+---------------+--------+--------------------+-------------+-------------+--------+--------------------+-------------+--------------------+-----------+--------------------+----+----------------+-----------------+-------------------+------------+------------+------------------+-------------------+\n",
      "|invoice_item_number|      date|store_number|          store_name|             address|           city|zip_code|      store_location|county_number|       county|category|       category_name|vendor_number|         vendor_name|item_number|    item_description|pack|bottle_volume_ml|state_bottle_cost|state_bottle_retail|bottles_sold|sale_dollars|volume_sold_liters|volume_sold_gallons|\n",
      "+-------------------+----------+------------+--------------------+--------------------+---------------+--------+--------------------+-------------+-------------+--------+--------------------+-------------+--------------------+-----------+--------------------+----+----------------+-----------------+-------------------+------------+------------+------------------+-------------------+\n",
      "|       S24127700024|02/19/2015|        3678|     Smoke Shop, The|     1918 SE 14TH ST|     DES MOINES|   50320|POINT (-93.597011...|           77|         Polk| 1031200|      VODKA FLAVORED|          380|Phillips Beverage...|      41783|Uv Blue Raspberry...|   6|             500|             4.89|               7.34|           2|       14.68|               1.0|               0.26|\n",
      "|       S15066200002|10/10/2013|        2633|Hy-Vee #3 / BDI /...|     3221 SE 14TH ST|     DES MOINES|   50320|POINT (-93.596754...|           77|         Polk| 1082900|MISC. IMPORTED CO...|          305|             MHW Ltd|     904969|Sabe Premiom Sake...|   6|             750|            14.99|              22.49|           6|      134.94|               4.5|               1.19|\n",
      "|       S19323500030|06/03/2014|        2607|Hy-Vee Wine and S...|      520 SO FREMONT|     SHENANDOAH|   51601|POINT (-95.385111...|           73|         Page| 1062200|PUERTO RICO & VIR...|          434|      Luxco-St Louis|      45277| Paramount White Rum|  12|            1000|             4.34|               6.51|          12|       78.12|              12.0|               3.17|\n",
      "|       S23334500013|01/06/2015|        4810|Kum & Go #518 / A...|3603 NE OTTERVIEW...|         ANKENY|   50021|POINT (-93.572458...|           77|         Polk| 1062200|PUERTO RICO & VIR...|           35|Bacardi U.S.A., Inc.|      43121|Bacardi Superior ...|  12|             500|             5.54|               8.31|           1|        8.31|               0.5|               0.13|\n",
      "|       S09742200010|12/27/2012|        4025|Karam Kaur Khasri...|         702 13TH ST|   BELLE PLAINE|   52208|POINT (-92.277759...|            6|       Benton| 1012100|   CANADIAN WHISKIES|          260|     Diageo Americas|      11298|Crown Royal Canad...|   6|            1750|             31.0|              46.49|           2|       92.98|               3.5|               0.92|\n",
      "|       S15034600007|10/09/2013|        4583|Kum & Go #5100 / ...|         208 MAIN ST|         MANSON|   50563|POINT (-94.534532...|           13|      Calhoun| 1081200|      CREAM LIQUEURS|          305|             MHW Ltd|      73050|            Rumchata|   6|             750|             12.5|              18.75|           6|       112.5|               4.5|               1.19|\n",
      "|       S25185100053|04/21/2015|        5080|    C's Liquor Store|       719 2ND AVE W|        SPENCER|   51301|POINT (-95.147741...|           21|         Clay| 1081390|   IMPORTED SCHNAPPS|          421|   Sazerac Co., Inc.|      69713|Dr. McGillicuddy'...|  12|             500|             4.96|               7.44|           1|        7.44|               0.5|               0.13|\n",
      "|       S25786400073|05/21/2015|        5102|      Wilkie Liquors|    724, 1st  ST  SE|   MOUNT VERNON|   52314|POINT (-91.410401...|           57|         Linn| 1031080|      VODKA 80 PROOF|          434|      Luxco-St Louis|      36307|       Hawkeye Vodka|  12|            1000|             4.05|               6.08|          24|      145.92|              24.0|               6.34|\n",
      "|       S26178600169|06/15/2015|        2506|Hy-Vee #1044 / Bu...|         3140 AGENCY|     BURLINGTON|   52601|POINT (-91.136655...|           29|   Des Moines| 1081600|     WHISKEY LIQUEUR|          260|     Diageo Americas|      66206|Piehole Cherry Pi...|  12|             500|              4.9|               7.35|           1|        7.35|               0.5|               0.13|\n",
      "|       S11599200028|04/11/2013|        2630|Hy-Vee Drugstore ...|       1010  60TH ST|WEST DES MOINES|   50266|POINT (-93.790534...|           77|         Polk| 1071100|  AMERICAN COCKTAILS|          395|             Proximo|      58838|Jose Cuervo Authe...|   6|            1750|              8.2|               12.3|           6|        73.8|              10.5|               2.77|\n",
      "|       S14039300026|08/21/2013|        3916|Smokin' Joe's #5 ...|       1115 ALBIA RD|        OTTUMWA|   52501|POINT (-92.437224...|           90|      Wapello| 1012100|   CANADIAN WHISKIES|          260|     Diageo Americas|      11294|Crown Royal Canad...|  24|             375|             7.65|              11.48|           1|       11.48|              0.38|                0.1|\n",
      "|       S14777200004|09/25/2013|        4073|  Uptown Liquor, Llc|    306 HWY 69 SOUTH|    FOREST CITY|   50436|POINT (-93.633306...|           95|    Winnebago| 1012100|   CANADIAN WHISKIES|           55|Sazerac North Ame...|      12407| Canadian Ltd Whisky|  12|            1000|              5.5|               8.25|          12|        99.0|              12.0|               3.17|\n",
      "|       S28698700004|10/27/2015|        2578|Hy-Vee / Charles ...|        901 KELLY ST|   CHARLES CITY|   50616|POINT (-92.675560...|           34|        Floyd| 1031080|      VODKA 80 PROOF|          260|     Diageo Americas|      37426|Popov Vodka 80 Pr...|  12|             750|              4.5|               6.75|          12|        81.0|               9.0|               2.38|\n",
      "|       S15825800006|11/20/2013|        4465| HOME TOWN FOOD ON 4|       714 S EAST ST|        POMEROY|   50575|POINT (-94.678054...|           13|      Calhoun| 1011100|    BLENDED WHISKIES|          434|      Luxco-St Louis|      24156|Hawkeye Blend Whi...|  12|             750|             3.36|               5.04|          24|      120.96|              18.0|               4.76|\n",
      "|       S27233900076|08/10/2015|        2613|Hy-Vee Food Store...|     2323 W BROADWAY| COUNCIL BLUFFS|   51501|POINT (-95.879662...|           78|Pottawattamie| 1022100|             TEQUILA|          410|The Patron Spirit...|      88296|Patron Tequila Si...|  12|             750|             27.0|               40.5|          12|       486.0|               9.0|               2.38|\n",
      "|       S11716100052|04/17/2013|        3990|Cork and Bottle /...|      309 A AVE WEST|      OSKALOOSA|   52577|POINT (-92.648153...|           62|      Mahaska| 1032200|IMPORTED VODKA - ...|           35|Bacardi U.S.A., Inc.|      34436|Grey Goose Vodka ...|   6|             750|            17.97|              26.96|           1|       26.96|              0.75|                0.2|\n",
      "|       S28977300019|11/10/2015|        4743|No Frills Superma...| 1801 VALLEY VIEW DR| COUNCIL BLUFFS|   51503|POINT (-95.818775...|           78|Pottawattamie| 1022100|             TEQUILA|          395|             Proximo|      89198|Jose Cuervo Espec...|   6|            1750|            20.25|              30.38|           6|      182.28|              10.5|               2.77|\n",
      "|       S10005300010|01/15/2013|        2460|   Liquor Barn, Inc.|721 CENTRAL AVENU...|        HAMPTON|   50441|POINT (-93.21693 ...|           35|     Franklin| 1012100|   CANADIAN WHISKIES|           85|Brown-Forman Corp...|      12476|Canadian Mist Whi...|  12|             750|             5.44|               8.15|          12|        97.8|               9.0|               2.38|\n",
      "|       S08028500005|10/01/2012|        4109|           Best Trip|         1516 SE 1ST|     DES MOINES|   50315|POINT (-93.613469...|           77|         Polk| 1011500|STRAIGHT RYE WHIS...|          255| Wilson Daniels Ltd.|      27102|       Templeton Rye|   6|             750|            18.08|              27.13|           6|      162.78|               4.5|               1.19|\n",
      "|       S12260600026|05/16/2013|        3918|Smokin' Joe's #1 ...|  3120 ROCKINGHAM RD|      DAVENPORT|   52802|POINT (-90.621541...|           82|        Scott| 1081300| PEPPERMINT SCHNAPPS|          434|      Luxco-St Louis|      80576|Arrow Peppermint ...|  12|             750|             3.42|               5.13|           1|        5.13|              0.75|                0.2|\n",
      "+-------------------+----------+------------+--------------------+--------------------+---------------+--------+--------------------+-------------+-------------+--------+--------------------+-------------+--------------------+-----------+--------------------+----+----------------+-----------------+-------------------+------------+------------+------------------+-------------------+\n",
      "only showing top 20 rows\n",
      "\n"
     ]
    }
   ],
   "source": [
    "df_with_nulls = liquor_data_clean_df.withColumn(\"contains_null\", lit(0))\n",
    "for column_with_nulls in columns_with_nulls:\n",
    "    df_with_nulls = df_with_nulls.withColumn(\"contains_null\", col(\"contains_null\").cast(\"boolean\") | column_with_nulls)\n",
    "\n",
    "rows_with_nulls = df_with_nulls.filter(\n",
    "    (col(\"contains_null\") == True)\n",
    ")\n",
    "\n",
    "rows_with_nulls.show()\n",
    "\n",
    "sales_df_cleaned = df_with_nulls.filter(\n",
    "    (col(\"contains_null\") == False) \n",
    ")\n",
    "\n",
    "liquor_data_clean_df = liquor_data_clean_df.drop(\"contains_null\")\n",
    "\n",
    "liquor_data_clean_df.show()"
   ]
  },
  {
   "cell_type": "code",
   "execution_count": 9,
   "id": "a91ac310-2745-48af-bce7-df57cd3e5f75",
   "metadata": {},
   "outputs": [],
   "source": [
    "# liquor_data_df.describe().show()"
   ]
  },
  {
   "cell_type": "code",
   "execution_count": 10,
   "id": "acc2b369-bf48-454c-adc3-de9fbc092b85",
   "metadata": {},
   "outputs": [],
   "source": [
    "liquor_data_clean_df = liquor_data_clean_df.withColumn(\"date\", to_timestamp(\"date\", \"MM/dd/yyyy\"))\n",
    "result = liquor_data_clean_df.select(\"date\")"
   ]
  },
  {
   "cell_type": "code",
   "execution_count": 11,
   "id": "ce3051a9-33f7-49b6-a880-fa65a5041d1d",
   "metadata": {},
   "outputs": [],
   "source": [
    "liquor_data_clean_df = liquor_data_clean_df.withColumn(\"order_year\", year(\"date\"))\n",
    "liquor_data_clean_df = liquor_data_clean_df.withColumn(\"order_month\", month(\"date\"))\n",
    "liquor_data_clean_df = liquor_data_clean_df.withColumn(\"order_day\", dayofmonth(\"date\"))\n",
    "liquor_data_clean_df = liquor_data_clean_df.withColumn(\"order_hour\", hour(\"date\"))\n",
    "liquor_data_clean_df = liquor_data_clean_df.withColumn(\"order_minute\", minute(\"date\"))\n",
    "liquor_data_clean_df = liquor_data_clean_df.withColumn(\"order_second\", second(\"date\"))"
   ]
  },
  {
   "cell_type": "code",
   "execution_count": 12,
   "id": "71e1f1bc-a00b-404a-99a2-52f67ce4e9a3",
   "metadata": {},
   "outputs": [
    {
     "name": "stdout",
     "output_type": "stream",
     "text": [
      "+-------------------+-------------------+------------+--------------------+--------------------+---------------+--------+--------------------+-------------+-------------+--------+--------------------+-------------+--------------------+-----------+--------------------+----+----------------+-----------------+-------------------+------------+------------+------------------+-------------------+----------+-----------+---------+----------+------------+------------+\n",
      "|invoice_item_number|               date|store_number|          store_name|             address|           city|zip_code|      store_location|county_number|       county|category|       category_name|vendor_number|         vendor_name|item_number|    item_description|pack|bottle_volume_ml|state_bottle_cost|state_bottle_retail|bottles_sold|sale_dollars|volume_sold_liters|volume_sold_gallons|order_year|order_month|order_day|order_hour|order_minute|order_second|\n",
      "+-------------------+-------------------+------------+--------------------+--------------------+---------------+--------+--------------------+-------------+-------------+--------+--------------------+-------------+--------------------+-----------+--------------------+----+----------------+-----------------+-------------------+------------+------------+------------------+-------------------+----------+-----------+---------+----------+------------+------------+\n",
      "|       S24127700024|2015-02-19 00:00:00|        3678|     Smoke Shop, The|     1918 SE 14TH ST|     DES MOINES|   50320|POINT (-93.597011...|           77|         Polk| 1031200|      VODKA FLAVORED|          380|Phillips Beverage...|      41783|Uv Blue Raspberry...|   6|             500|             4.89|               7.34|           2|       14.68|               1.0|               0.26|      2015|          2|       19|         0|           0|           0|\n",
      "|       S15066200002|2013-10-10 00:00:00|        2633|Hy-Vee #3 / BDI /...|     3221 SE 14TH ST|     DES MOINES|   50320|POINT (-93.596754...|           77|         Polk| 1082900|MISC. IMPORTED CO...|          305|             MHW Ltd|     904969|Sabe Premiom Sake...|   6|             750|            14.99|              22.49|           6|      134.94|               4.5|               1.19|      2013|         10|       10|         0|           0|           0|\n",
      "|       S19323500030|2014-06-03 00:00:00|        2607|Hy-Vee Wine and S...|      520 SO FREMONT|     SHENANDOAH|   51601|POINT (-95.385111...|           73|         Page| 1062200|PUERTO RICO & VIR...|          434|      Luxco-St Louis|      45277| Paramount White Rum|  12|            1000|             4.34|               6.51|          12|       78.12|              12.0|               3.17|      2014|          6|        3|         0|           0|           0|\n",
      "|       S23334500013|2015-01-06 00:00:00|        4810|Kum & Go #518 / A...|3603 NE OTTERVIEW...|         ANKENY|   50021|POINT (-93.572458...|           77|         Polk| 1062200|PUERTO RICO & VIR...|           35|Bacardi U.S.A., Inc.|      43121|Bacardi Superior ...|  12|             500|             5.54|               8.31|           1|        8.31|               0.5|               0.13|      2015|          1|        6|         0|           0|           0|\n",
      "|       S09742200010|2012-12-27 00:00:00|        4025|Karam Kaur Khasri...|         702 13TH ST|   BELLE PLAINE|   52208|POINT (-92.277759...|            6|       Benton| 1012100|   CANADIAN WHISKIES|          260|     Diageo Americas|      11298|Crown Royal Canad...|   6|            1750|             31.0|              46.49|           2|       92.98|               3.5|               0.92|      2012|         12|       27|         0|           0|           0|\n",
      "|       S15034600007|2013-10-09 00:00:00|        4583|Kum & Go #5100 / ...|         208 MAIN ST|         MANSON|   50563|POINT (-94.534532...|           13|      Calhoun| 1081200|      CREAM LIQUEURS|          305|             MHW Ltd|      73050|            Rumchata|   6|             750|             12.5|              18.75|           6|       112.5|               4.5|               1.19|      2013|         10|        9|         0|           0|           0|\n",
      "|       S25185100053|2015-04-21 00:00:00|        5080|    C's Liquor Store|       719 2ND AVE W|        SPENCER|   51301|POINT (-95.147741...|           21|         Clay| 1081390|   IMPORTED SCHNAPPS|          421|   Sazerac Co., Inc.|      69713|Dr. McGillicuddy'...|  12|             500|             4.96|               7.44|           1|        7.44|               0.5|               0.13|      2015|          4|       21|         0|           0|           0|\n",
      "|       S25786400073|2015-05-21 00:00:00|        5102|      Wilkie Liquors|    724, 1st  ST  SE|   MOUNT VERNON|   52314|POINT (-91.410401...|           57|         Linn| 1031080|      VODKA 80 PROOF|          434|      Luxco-St Louis|      36307|       Hawkeye Vodka|  12|            1000|             4.05|               6.08|          24|      145.92|              24.0|               6.34|      2015|          5|       21|         0|           0|           0|\n",
      "|       S26178600169|2015-06-15 00:00:00|        2506|Hy-Vee #1044 / Bu...|         3140 AGENCY|     BURLINGTON|   52601|POINT (-91.136655...|           29|   Des Moines| 1081600|     WHISKEY LIQUEUR|          260|     Diageo Americas|      66206|Piehole Cherry Pi...|  12|             500|              4.9|               7.35|           1|        7.35|               0.5|               0.13|      2015|          6|       15|         0|           0|           0|\n",
      "|       S11599200028|2013-04-11 00:00:00|        2630|Hy-Vee Drugstore ...|       1010  60TH ST|WEST DES MOINES|   50266|POINT (-93.790534...|           77|         Polk| 1071100|  AMERICAN COCKTAILS|          395|             Proximo|      58838|Jose Cuervo Authe...|   6|            1750|              8.2|               12.3|           6|        73.8|              10.5|               2.77|      2013|          4|       11|         0|           0|           0|\n",
      "|       S14039300026|2013-08-21 00:00:00|        3916|Smokin' Joe's #5 ...|       1115 ALBIA RD|        OTTUMWA|   52501|POINT (-92.437224...|           90|      Wapello| 1012100|   CANADIAN WHISKIES|          260|     Diageo Americas|      11294|Crown Royal Canad...|  24|             375|             7.65|              11.48|           1|       11.48|              0.38|                0.1|      2013|          8|       21|         0|           0|           0|\n",
      "|       S14777200004|2013-09-25 00:00:00|        4073|  Uptown Liquor, Llc|    306 HWY 69 SOUTH|    FOREST CITY|   50436|POINT (-93.633306...|           95|    Winnebago| 1012100|   CANADIAN WHISKIES|           55|Sazerac North Ame...|      12407| Canadian Ltd Whisky|  12|            1000|              5.5|               8.25|          12|        99.0|              12.0|               3.17|      2013|          9|       25|         0|           0|           0|\n",
      "|       S28698700004|2015-10-27 00:00:00|        2578|Hy-Vee / Charles ...|        901 KELLY ST|   CHARLES CITY|   50616|POINT (-92.675560...|           34|        Floyd| 1031080|      VODKA 80 PROOF|          260|     Diageo Americas|      37426|Popov Vodka 80 Pr...|  12|             750|              4.5|               6.75|          12|        81.0|               9.0|               2.38|      2015|         10|       27|         0|           0|           0|\n",
      "|       S15825800006|2013-11-20 00:00:00|        4465| HOME TOWN FOOD ON 4|       714 S EAST ST|        POMEROY|   50575|POINT (-94.678054...|           13|      Calhoun| 1011100|    BLENDED WHISKIES|          434|      Luxco-St Louis|      24156|Hawkeye Blend Whi...|  12|             750|             3.36|               5.04|          24|      120.96|              18.0|               4.76|      2013|         11|       20|         0|           0|           0|\n",
      "|       S27233900076|2015-08-10 00:00:00|        2613|Hy-Vee Food Store...|     2323 W BROADWAY| COUNCIL BLUFFS|   51501|POINT (-95.879662...|           78|Pottawattamie| 1022100|             TEQUILA|          410|The Patron Spirit...|      88296|Patron Tequila Si...|  12|             750|             27.0|               40.5|          12|       486.0|               9.0|               2.38|      2015|          8|       10|         0|           0|           0|\n",
      "|       S11716100052|2013-04-17 00:00:00|        3990|Cork and Bottle /...|      309 A AVE WEST|      OSKALOOSA|   52577|POINT (-92.648153...|           62|      Mahaska| 1032200|IMPORTED VODKA - ...|           35|Bacardi U.S.A., Inc.|      34436|Grey Goose Vodka ...|   6|             750|            17.97|              26.96|           1|       26.96|              0.75|                0.2|      2013|          4|       17|         0|           0|           0|\n",
      "|       S28977300019|2015-11-10 00:00:00|        4743|No Frills Superma...| 1801 VALLEY VIEW DR| COUNCIL BLUFFS|   51503|POINT (-95.818775...|           78|Pottawattamie| 1022100|             TEQUILA|          395|             Proximo|      89198|Jose Cuervo Espec...|   6|            1750|            20.25|              30.38|           6|      182.28|              10.5|               2.77|      2015|         11|       10|         0|           0|           0|\n",
      "|       S10005300010|2013-01-15 00:00:00|        2460|   Liquor Barn, Inc.|721 CENTRAL AVENU...|        HAMPTON|   50441|POINT (-93.21693 ...|           35|     Franklin| 1012100|   CANADIAN WHISKIES|           85|Brown-Forman Corp...|      12476|Canadian Mist Whi...|  12|             750|             5.44|               8.15|          12|        97.8|               9.0|               2.38|      2013|          1|       15|         0|           0|           0|\n",
      "|       S08028500005|2012-10-01 00:00:00|        4109|           Best Trip|         1516 SE 1ST|     DES MOINES|   50315|POINT (-93.613469...|           77|         Polk| 1011500|STRAIGHT RYE WHIS...|          255| Wilson Daniels Ltd.|      27102|       Templeton Rye|   6|             750|            18.08|              27.13|           6|      162.78|               4.5|               1.19|      2012|         10|        1|         0|           0|           0|\n",
      "|       S12260600026|2013-05-16 00:00:00|        3918|Smokin' Joe's #1 ...|  3120 ROCKINGHAM RD|      DAVENPORT|   52802|POINT (-90.621541...|           82|        Scott| 1081300| PEPPERMINT SCHNAPPS|          434|      Luxco-St Louis|      80576|Arrow Peppermint ...|  12|             750|             3.42|               5.13|           1|        5.13|              0.75|                0.2|      2013|          5|       16|         0|           0|           0|\n",
      "+-------------------+-------------------+------------+--------------------+--------------------+---------------+--------+--------------------+-------------+-------------+--------+--------------------+-------------+--------------------+-----------+--------------------+----+----------------+-----------------+-------------------+------------+------------+------------------+-------------------+----------+-----------+---------+----------+------------+------------+\n",
      "only showing top 20 rows\n",
      "\n"
     ]
    }
   ],
   "source": [
    "liquor_data_clean_df.show()"
   ]
  },
  {
   "cell_type": "code",
   "execution_count": 13,
   "id": "fc10eafe-4586-4e0b-b793-4d3fbf2c4139",
   "metadata": {},
   "outputs": [
    {
     "name": "stdout",
     "output_type": "stream",
     "text": [
      "+----------+-------+\n",
      "|order_year|  count|\n",
      "+----------+-------+\n",
      "|      2015|1984108|\n",
      "|      2013|1872144|\n",
      "|      2014|1909019|\n",
      "|      2012|1884232|\n",
      "|      2016|1962632|\n",
      "|      2017|2028323|\n",
      "|      2018|2129085|\n",
      "|      2019|2158261|\n",
      "|      2020|1760082|\n",
      "+----------+-------+\n",
      "\n"
     ]
    }
   ],
   "source": [
    "distinct_values_count = liquor_data_clean_df.groupBy('order_year').count()\n",
    "\n",
    "distinct_values_count.show()"
   ]
  },
  {
   "cell_type": "code",
   "execution_count": 13,
   "id": "ca9f17b1-58d0-43e9-a3a2-569f820a34e8",
   "metadata": {},
   "outputs": [
    {
     "name": "stdout",
     "output_type": "stream",
     "text": [
      "+----------------------------+\n",
      "|category_name               |\n",
      "+----------------------------+\n",
      "|IMPORTED SCHNAPPS           |\n",
      "|PEACH BRANDIES              |\n",
      "|AMERICAN ALCOHOL            |\n",
      "|IMPORTED VODKA - MISC       |\n",
      "|VODKA 80 PROOF              |\n",
      "|RASPBERRY SCHNAPPS          |\n",
      "|American Sloe Gins          |\n",
      "|BUTTERSCOTCH SCHNAPPS       |\n",
      "|Straight Rye Whiskies       |\n",
      "|PEPPERMINT SCHNAPPS         |\n",
      "|American Cordials & Liqueurs|\n",
      "|CANADIAN WHISKIES           |\n",
      "|AMERICAN COCKTAILS          |\n",
      "|MISCELLANEOUS SCHNAPPS      |\n",
      "|APRICOT BRANDIES            |\n",
      "|CREME DE ALMOND             |\n",
      "|CINNAMON SCHNAPPS           |\n",
      "|Spiced Rum                  |\n",
      "|AMERICAN AMARETTO           |\n",
      "|TEQUILA                     |\n",
      "+----------------------------+\n",
      "only showing top 20 rows\n",
      "\n"
     ]
    }
   ],
   "source": [
    "liquor_distinct_names = liquor_data_clean_df.select(\"category_name\").distinct()\n",
    "\n",
    "liquor_distinct_names.show(truncate=False)"
   ]
  },
  {
   "cell_type": "code",
   "execution_count": 14,
   "id": "c2c6dac9-4ba8-468a-be53-4eb4c2669d3c",
   "metadata": {},
   "outputs": [
    {
     "name": "stdout",
     "output_type": "stream",
     "text": [
      "+-------------+\n",
      "|category_name|\n",
      "+-------------+\n",
      "+-------------+\n",
      "\n"
     ]
    }
   ],
   "source": [
    "null_or_empty_rows = liquor_distinct_names.filter((col('category_name').isNull()) | (col('category_name') == ''))\n",
    "\n",
    "null_or_empty_rows.show()"
   ]
  },
  {
   "cell_type": "code",
   "execution_count": 15,
   "id": "b88b0c07-c4a1-43bb-b2fc-a4051826c8bb",
   "metadata": {},
   "outputs": [],
   "source": [
    "# def capitalize_first_letter(s):\n",
    "#     print(\"Input value:\", s)\n",
    "#     result = s.title()\n",
    "#     print(\"Output value:\", result)\n",
    "#     return result\n",
    "\n",
    "# capitalize_udf = udf(capitalize_first_letter, StringType())\n",
    "\n",
    "# liquor_distinct_names_cleaned = liquor_distinct_names.withColumn(\"category_name_cleaned\", capitalize_udf(col(\"category_name\")))\n",
    "\n",
    "# liquor_distinct_names_cleaned.show()"
   ]
  },
  {
   "cell_type": "code",
   "execution_count": 16,
   "id": "05ddfeb3-de1b-4e05-94df-1ccfff630a36",
   "metadata": {},
   "outputs": [],
   "source": [
    "# from nltk.stem import WordNetLemmatizer\n",
    "# def lemmatize_words(category_name):\n",
    "#     lemmatizer = WordNetLemmatizer()\n",
    "#     return ' '.join([lemmatizer.lemmatize(word) for word in category_name.split()])"
   ]
  },
  {
   "cell_type": "code",
   "execution_count": 17,
   "id": "caa455e2-d22e-43a1-81cb-572a8416ad3c",
   "metadata": {},
   "outputs": [],
   "source": [
    "# category_names = [\"cars vehicles automobile\", \"dogs puppies\", \"cats feline\"]\n",
    "# lemmatized_words = [lemmatize_words(category_name) for category_name in category_names]\n",
    "\n",
    "# print(lemmatized_words)"
   ]
  },
  {
   "cell_type": "code",
   "execution_count": 18,
   "id": "078c2cda-1cc4-4853-b7aa-258e7407a560",
   "metadata": {},
   "outputs": [],
   "source": [
    "# lemmatize_udf = udf(lemmatize_words)\n",
    "# df_tokens_1 = liquor_distinct_names.withColumn(\"category_name_2\", lemmatize_udf(col(\"category_name\")))\n",
    "\n",
    "# df_tokens_1.printSchema()"
   ]
  },
  {
   "cell_type": "code",
   "execution_count": 19,
   "id": "355ede22-305d-4f3b-8fd9-c40d27543576",
   "metadata": {},
   "outputs": [],
   "source": [
    "# df_tokens_1.select('category_name').show()"
   ]
  },
  {
   "cell_type": "code",
   "execution_count": 20,
   "id": "d794edcc-e7cd-41f2-bb55-b700a0483fe8",
   "metadata": {},
   "outputs": [],
   "source": [
    "tokenizer = Tokenizer(inputCol=\"category_name\", outputCol=\"tokens\")\n",
    "df_tokens_1 = tokenizer.transform(liquor_distinct_names)\n",
    "df_tokens = df_tokens_1\n",
    "# df_tokens = df_tokens_1.sample(fraction=0.00001, seed=42)\n"
   ]
  },
  {
   "cell_type": "code",
   "execution_count": 21,
   "id": "6abd7583-d8b4-4d5a-8fed-01a7b307d45c",
   "metadata": {},
   "outputs": [],
   "source": [
    "# sampled_row_count = df_tokens.count()\n",
    "# print(\"Sampled DataFrame Row Count:\", sampled_row_count)"
   ]
  },
  {
   "cell_type": "code",
   "execution_count": 22,
   "id": "6a38bb40-2e62-4325-b1b0-5302ca3fd7b2",
   "metadata": {},
   "outputs": [
    {
     "name": "stdout",
     "output_type": "stream",
     "text": [
      "root\n",
      " |-- category_name: string (nullable = true)\n",
      " |-- tokens: array (nullable = true)\n",
      " |    |-- element: string (containsNull = true)\n",
      "\n"
     ]
    }
   ],
   "source": [
    "df_tokens_1.printSchema()"
   ]
  },
  {
   "cell_type": "code",
   "execution_count": 23,
   "id": "2ad0cc55-6a3f-475d-94e9-5a87402e3f3e",
   "metadata": {},
   "outputs": [],
   "source": [
    "df_tokens = df_tokens_1.cache()\n",
    "word2vec = Word2Vec(vectorSize=100, minCount=5, inputCol=\"tokens\", outputCol=\"features\")\n",
    "word2vec_model = word2vec.fit(df_tokens)\n",
    "df_embeddings = word2vec_model.transform(df_tokens)"
   ]
  },
  {
   "cell_type": "code",
   "execution_count": 24,
   "id": "ccc006d9-efd4-4860-a4d3-f3ee72b6db10",
   "metadata": {},
   "outputs": [],
   "source": [
    "kmeans = KMeans(k=6, seed=1, featuresCol=\"features\", predictionCol=\"cluster\")\n",
    "model = kmeans.fit(df_embeddings)\n",
    "df_clustered = model.transform(df_embeddings)"
   ]
  },
  {
   "cell_type": "code",
   "execution_count": 25,
   "id": "f9ffcdce-853a-4ebf-8454-83441c38ba30",
   "metadata": {},
   "outputs": [
    {
     "name": "stdout",
     "output_type": "stream",
     "text": [
      "Cluster Centroids:\n",
      "Cluster 0: [ 1.27737941e-03  1.36509305e-03 -2.39395295e-04 -1.49798466e-03\n",
      " -1.98512327e-03  2.41788933e-03 -2.16438714e-04 -2.28344482e-03\n",
      "  1.16190709e-03 -1.71618906e-03 -1.89368509e-03 -1.19050370e-04\n",
      "  1.32603436e-03  2.20331801e-03 -5.22802446e-04  2.07670848e-03\n",
      " -1.06088116e-03 -1.35432919e-03  1.65550174e-03 -6.92083285e-04\n",
      " -1.96945799e-03  3.93802545e-04 -2.43830397e-03 -5.28264144e-04\n",
      "  1.74664303e-03  2.46748659e-03  1.37852320e-03 -1.83908430e-03\n",
      " -1.98960747e-03 -2.36063063e-03  1.51478232e-04 -5.06523561e-05\n",
      " -2.08803214e-03  7.60605382e-04 -2.50752094e-04 -1.46276249e-03\n",
      " -2.08677266e-03 -2.22870524e-04 -1.58460482e-03  8.45705319e-04\n",
      "  1.31375888e-03 -3.77004660e-04  3.95285776e-04 -9.71689790e-04\n",
      " -1.69601097e-03 -7.95215633e-04  2.78400809e-04 -2.50216606e-03\n",
      " -2.67512102e-03 -8.66733823e-04  4.01596225e-04 -1.68599541e-03\n",
      " -3.04561203e-04  2.60273102e-03  7.48104981e-04  4.63035302e-04\n",
      " -2.57100878e-03  1.88179359e-03  2.45063504e-03  9.28892538e-04\n",
      "  7.72647029e-04  1.02514212e-03 -8.15561795e-04  2.24135230e-04\n",
      "  2.04749373e-03 -1.23554466e-03  1.97340633e-03  1.42738227e-04\n",
      " -1.61885944e-03 -3.89581900e-04 -1.65411349e-04  2.07530320e-04\n",
      " -2.01007900e-03  2.77550606e-03  7.45476556e-04  8.15928002e-04\n",
      "  8.11878480e-04 -9.65268899e-04  1.48881855e-03 -1.28170314e-03\n",
      " -1.13407307e-03  1.67784705e-03 -1.27978455e-03 -6.92361446e-04\n",
      "  1.00828206e-03  5.11896991e-04  2.89830792e-04 -1.95048459e-03\n",
      "  5.27359940e-04  1.85216962e-04 -1.02642852e-03 -4.37398928e-04\n",
      " -6.58778319e-04 -3.90495817e-04  9.25603245e-04 -1.76968183e-03\n",
      "  2.34444591e-05 -9.72532969e-04  1.34200709e-04 -2.18096142e-04]\n",
      "Cluster 1: [ 5.42878910e-04 -2.38066367e-04 -1.00696392e-04 -6.92372671e-04\n",
      "  2.62998061e-04 -5.10083548e-05  3.09442326e-04 -7.74361376e-04\n",
      " -1.51860745e-04  1.12135383e-04 -1.02937103e-04  6.34967306e-04\n",
      " -4.36785717e-04  1.47614287e-04  2.56055485e-04 -4.06112515e-05\n",
      " -4.06407636e-04  1.48162624e-05 -2.08124757e-04 -4.13041276e-04\n",
      "  5.63697429e-04 -5.62729710e-04  5.08528935e-04 -4.22838400e-04\n",
      "  2.42882416e-04 -1.32545936e-04 -4.72295018e-04 -1.53841057e-04\n",
      " -3.45575711e-04  8.28865933e-05 -4.69335175e-05 -3.66862432e-05\n",
      " -5.49082438e-04  7.23366059e-04 -3.96389351e-04  8.05296250e-04\n",
      "  4.58899165e-05 -1.96287496e-04  1.41825696e-04 -4.97826967e-04\n",
      "  1.31484203e-04 -3.87668230e-04  1.85851623e-04  5.30606400e-04\n",
      "  2.76351273e-04  7.25721292e-04 -7.75030306e-04 -9.72004664e-05\n",
      " -5.00169592e-04 -1.02229316e-04  4.41708570e-05 -1.01164787e-04\n",
      " -2.48503713e-04  2.78009927e-04 -3.38416274e-04  9.33865950e-06\n",
      "  1.46492932e-04 -3.22107776e-05 -1.30688377e-04 -3.06974394e-04\n",
      " -3.41949302e-04 -4.08034548e-04  2.00564097e-04 -5.05312799e-04\n",
      "  5.09051700e-04 -4.52734374e-04  3.99043967e-04  2.49122326e-04\n",
      " -5.91341142e-06 -4.40884943e-05 -3.55255087e-04 -1.51335178e-04\n",
      " -7.35967092e-05 -1.43118163e-04  2.18433483e-04 -1.75163848e-05\n",
      "  1.76849270e-04 -4.14000186e-04  5.05234462e-04 -1.18731290e-04\n",
      "  4.69739694e-04  1.77253410e-04 -1.14513953e-04 -1.51198280e-05\n",
      "  1.33435140e-04  3.89944553e-04  1.28669391e-03 -1.92801937e-04\n",
      "  1.65543883e-04 -6.51965710e-04  5.19321118e-05  1.97853276e-04\n",
      " -3.94038832e-04 -3.53950437e-04  1.04416709e-04 -4.00672927e-04\n",
      "  9.97090456e-05 -2.38277531e-04  4.17286512e-04  7.44556731e-04]\n",
      "Cluster 2: [-4.98759217e-04 -4.36942622e-05  5.44491791e-04  1.64756823e-03\n",
      "  3.90496461e-04  1.30238680e-04  8.68383339e-04 -1.08581520e-03\n",
      "  1.08216472e-03  6.57648300e-05 -1.62258233e-03  2.73745381e-03\n",
      "  1.01306490e-03  1.03234692e-03  1.22355525e-03 -2.51803409e-03\n",
      " -4.60683502e-05  1.67680387e-05  8.51880761e-05  2.26389613e-03\n",
      "  9.95503934e-04 -4.52435123e-04 -7.63029455e-04 -2.23219970e-03\n",
      " -8.76483077e-04 -1.68400325e-03  1.36093054e-04 -1.40924791e-03\n",
      "  9.58687209e-04  7.84558080e-04  1.61074640e-03 -5.81867963e-04\n",
      " -2.06153132e-03 -6.45665620e-04  1.06635403e-03  4.29266020e-04\n",
      " -1.78192289e-04  4.11688083e-04 -1.10017808e-03  1.09347809e-03\n",
      " -3.47648179e-04 -5.78567578e-04  1.25664287e-03  1.43824918e-03\n",
      " -9.84849717e-04 -1.76831323e-03  2.08520570e-03  2.21877570e-03\n",
      "  1.03970880e-03  7.23658587e-04 -2.45761383e-03  1.21686853e-03\n",
      " -3.52733060e-04  5.12273972e-04  1.40860697e-03 -4.04844555e-05\n",
      " -6.88368476e-04 -1.42494523e-03 -3.53940380e-04 -3.15057355e-04\n",
      " -1.72287554e-03 -1.03744732e-03  1.48572184e-03  9.63279208e-05\n",
      "  5.48597644e-04 -2.51911973e-03  1.19238092e-03  3.84723086e-04\n",
      "  1.19742766e-03  5.66130407e-04  8.34507176e-04  2.07757848e-03\n",
      " -9.54888889e-04 -4.67612292e-04 -1.53668680e-03  1.51825299e-03\n",
      " -4.75602683e-04 -1.81007645e-03  2.48703167e-03  2.26829482e-04\n",
      "  1.26589237e-03  1.17526518e-03  3.34194824e-04  1.63361645e-03\n",
      "  7.65754616e-04  1.86571925e-04 -8.75645058e-04 -7.21897456e-04\n",
      " -1.31006180e-03 -1.78414644e-05 -4.81742030e-05  3.34939079e-04\n",
      " -5.41497938e-05 -2.13928272e-03  8.79177949e-04 -3.75143343e-04\n",
      "  7.25831148e-04 -1.00939715e-04  1.42355430e-03 -1.24450884e-03]\n",
      "Cluster 3: [ 1.65115110e-03 -5.39487152e-04 -2.04144155e-03 -9.16682371e-04\n",
      " -1.95471823e-03 -3.57709917e-04 -3.14247057e-04  1.33405338e-03\n",
      " -5.77720614e-04 -1.27731577e-03  4.16968054e-04 -1.47372916e-03\n",
      "  1.19628996e-04 -1.74608952e-03  1.88822698e-03  1.43873180e-03\n",
      "  2.07883717e-03 -1.00396572e-03  4.17791734e-04 -1.94322028e-03\n",
      "  7.09860135e-04 -1.08874919e-03  1.74603964e-03  1.79306422e-03\n",
      "  3.78100361e-04  6.32845395e-04  4.60074705e-04 -2.44901065e-03\n",
      " -7.81854160e-04  4.31544908e-04 -1.37908739e-03  1.57256607e-03\n",
      " -6.84840865e-04  1.76767020e-03 -1.27720848e-03  1.38188898e-03\n",
      "  5.25301726e-04  1.85795529e-04  6.73180382e-04  1.04000551e-03\n",
      " -8.40319660e-04 -1.53444437e-03  1.93387262e-03 -8.68773079e-05\n",
      " -1.85978444e-03 -1.90985165e-03  1.44311479e-03  9.04440925e-04\n",
      "  1.80813614e-03  2.04552282e-03 -2.04770747e-03  6.60817652e-04\n",
      " -2.01216479e-03  3.51912294e-04 -1.87489235e-03 -2.15780785e-04\n",
      "  1.09802468e-03  6.80229401e-04 -1.63599940e-03 -3.77015483e-04\n",
      " -1.13115409e-03 -1.12297355e-03 -1.22013529e-05  7.24469860e-04\n",
      " -1.47162306e-03  1.93217557e-03  7.40444817e-07 -1.89452182e-03\n",
      "  2.31804551e-03 -9.46935191e-04  1.52320264e-03  2.39881913e-03\n",
      " -9.32658014e-04  1.68709334e-03  1.49401625e-03 -7.73871514e-04\n",
      " -2.90238917e-04 -9.37520184e-05 -5.14592903e-04 -1.87664020e-03\n",
      " -2.44353529e-04 -1.41214457e-03  1.59663763e-03  1.74571736e-03\n",
      "  1.11352313e-03 -1.72893398e-03 -2.03739135e-04  2.45703226e-03\n",
      " -2.23874340e-03  1.20770403e-03 -1.15765125e-03  1.23164335e-03\n",
      " -1.17331702e-03  1.21970839e-03  1.17702200e-03  1.93885218e-03\n",
      "  6.97884537e-04  7.05578465e-04  8.15744948e-04 -1.29350160e-03]\n",
      "Cluster 4: [ 7.90842137e-04 -2.65604252e-05  1.83933083e-03  2.17398967e-03\n",
      " -1.32575338e-03 -1.86523416e-03 -5.44864572e-04 -2.61006704e-03\n",
      " -8.23055627e-04 -8.12900662e-04  1.30880167e-03  1.84084123e-03\n",
      "  5.33593449e-04  1.32919378e-03 -1.76258376e-03 -6.74746620e-04\n",
      " -6.37154427e-04 -8.12134620e-04 -2.17840926e-03 -6.50631473e-04\n",
      "  8.36195716e-04  1.68345836e-04  7.90341542e-04 -1.25082736e-04\n",
      "  9.53268463e-04 -1.89531796e-03  1.42639061e-03  1.22631515e-03\n",
      "  1.14790604e-03  2.17120219e-03 -1.59837415e-03 -5.86092164e-04\n",
      " -8.46453582e-04 -4.19461052e-04  2.13418781e-03  1.06132757e-03\n",
      " -1.46692403e-03 -1.54492082e-03  2.51057853e-03 -1.92144616e-03\n",
      "  1.83062706e-03 -2.11470464e-03  1.24959549e-03  7.30410921e-04\n",
      " -2.29240026e-03 -1.99944840e-03  1.10409412e-04  7.69754764e-04\n",
      "  1.16045891e-03  6.15100764e-04 -6.73500931e-04 -1.74029926e-03\n",
      " -8.46188065e-04 -6.78345889e-04 -2.88044495e-04 -1.30397137e-03\n",
      " -2.85140246e-03 -2.00720512e-03  1.89314690e-03  1.66347807e-03\n",
      "  1.62835604e-04 -7.03306287e-04  1.28808914e-03 -1.84605966e-03\n",
      "  1.85971099e-03  1.66333365e-03  5.05343644e-04 -8.78410064e-04\n",
      "  1.34590033e-03 -3.30498648e-04  1.70895744e-03 -1.61954446e-03\n",
      "  1.46125927e-03  1.13626389e-03 -1.35670484e-04 -1.26150339e-03\n",
      "  1.96634049e-03 -1.68516411e-03  2.35404848e-03  2.23317012e-03\n",
      " -9.73700555e-04  2.14360992e-03 -4.85418867e-04  5.11372095e-04\n",
      "  1.97468002e-03 -1.76653102e-03  1.14550266e-03 -1.11976757e-03\n",
      "  9.51493556e-05 -2.67538190e-05  1.00804926e-03 -2.34611335e-03\n",
      " -1.86041203e-03 -2.68486765e-03 -2.76532253e-04  1.84160020e-03\n",
      " -1.07390401e-03  6.90525677e-04  1.43133349e-03  7.20800338e-04]\n",
      "Cluster 5: [ 1.80373728e-03 -8.50972449e-04 -5.58059110e-04 -3.12790996e-04\n",
      " -1.59226375e-03  1.24995257e-03  8.19911335e-04 -1.27641183e-04\n",
      " -9.20035273e-04 -4.45259797e-05 -3.63552058e-05 -2.61423916e-04\n",
      "  9.17659936e-04 -2.52333721e-04  1.78659392e-03 -1.70093696e-03\n",
      "  1.76675020e-03 -3.94361006e-04  1.76295086e-03  2.30925303e-03\n",
      "  5.13468553e-04  2.44054422e-05 -1.90810009e-03 -1.12318780e-03\n",
      " -8.84430144e-04 -1.59911623e-03 -1.77091413e-03 -9.27013763e-04\n",
      "  3.21293884e-04  1.67178735e-03 -7.64629238e-05  9.70670128e-04\n",
      " -4.64931129e-04  1.41120119e-03  1.20411539e-03  1.27225562e-03\n",
      " -9.45508031e-04  2.12593285e-04  1.28588820e-05  1.68314164e-04\n",
      "  3.44614187e-04 -6.11115621e-04 -1.00859330e-03 -3.55907067e-05\n",
      "  9.81692182e-04  6.62920420e-05 -4.99745745e-04  1.26738539e-03\n",
      "  5.58109474e-04 -6.18737346e-04  8.53945196e-04  1.53290162e-03\n",
      "  7.80572366e-05  1.18853398e-03  3.30970033e-04 -7.11855128e-04\n",
      "  9.41855348e-05 -3.24439172e-03  6.44398383e-04  3.21346830e-04\n",
      " -2.00626304e-03 -1.00113028e-03 -3.85148106e-04 -6.73604534e-04\n",
      " -6.39580120e-04 -1.28376043e-03  1.71195613e-03 -4.77802681e-04\n",
      " -6.07553838e-04  4.81287553e-04  3.72725935e-05  1.33658325e-03\n",
      " -1.19189398e-04  4.38708488e-04  1.79766880e-03  6.80145480e-04\n",
      " -1.94637581e-04 -4.61202259e-04  8.46625922e-04  7.41389612e-04\n",
      "  1.08305186e-03  3.33364340e-04 -6.43150370e-04  2.55181864e-03\n",
      " -4.38304296e-04  9.02131713e-05 -5.07963132e-04  7.05546660e-04\n",
      " -2.72351415e-03  3.07005056e-04  1.21324401e-04 -1.21576699e-03\n",
      " -1.43684742e-03  1.53806257e-03  6.02661093e-04 -5.63086246e-04\n",
      " -1.35505013e-03 -1.96810176e-04  8.52024639e-04  7.01228519e-04]\n",
      "+------------------------------+-------+\n",
      "|category_name                 |cluster|\n",
      "+------------------------------+-------+\n",
      "|IMPORTED SCHNAPPS             |3      |\n",
      "|PEACH BRANDIES                |4      |\n",
      "|AMERICAN ALCOHOL              |2      |\n",
      "|IMPORTED VODKA - MISC         |1      |\n",
      "|VODKA 80 PROOF                |1      |\n",
      "|RASPBERRY SCHNAPPS            |3      |\n",
      "|American Sloe Gins            |2      |\n",
      "|BUTTERSCOTCH SCHNAPPS         |3      |\n",
      "|Straight Rye Whiskies         |1      |\n",
      "|PEPPERMINT SCHNAPPS           |3      |\n",
      "|American Cordials & Liqueurs  |5      |\n",
      "|Corn Whiskies                 |1      |\n",
      "|CANADIAN WHISKIES             |1      |\n",
      "|AMERICAN COCKTAILS            |2      |\n",
      "|MISCELLANEOUS SCHNAPPS        |3      |\n",
      "|APRICOT BRANDIES              |4      |\n",
      "|CREME DE ALMOND               |1      |\n",
      "|Single Barrel Bourbon Whiskies|1      |\n",
      "|CINNAMON SCHNAPPS             |3      |\n",
      "|Spiced Rum                    |0      |\n",
      "+------------------------------+-------+\n",
      "only showing top 20 rows\n",
      "\n"
     ]
    }
   ],
   "source": [
    "cluster_centroids = model.clusterCenters()\n",
    "print(\"Cluster Centroids:\")\n",
    "for i, centroid in enumerate(cluster_centroids):\n",
    "    print(f\"Cluster {i}: {centroid}\")\n",
    "\n",
    "df_result = df_clustered.select(\"category_name\", \"cluster\")\n",
    "df_result.show(truncate= False)"
   ]
  },
  {
   "cell_type": "code",
   "execution_count": 26,
   "id": "44e2bab3-3613-45e7-8bdd-04715e632e9c",
   "metadata": {},
   "outputs": [
    {
     "name": "stdout",
     "output_type": "stream",
     "text": [
      "root\n",
      " |-- category_name: string (nullable = true)\n",
      " |-- tokens: array (nullable = true)\n",
      " |    |-- element: string (containsNull = true)\n",
      " |-- features: vector (nullable = true)\n",
      " |-- cluster: integer (nullable = false)\n",
      "\n"
     ]
    }
   ],
   "source": [
    "df_clustered.printSchema()"
   ]
  },
  {
   "cell_type": "code",
   "execution_count": 27,
   "id": "12998320-c572-4b5e-ba19-fcceb78c6712",
   "metadata": {},
   "outputs": [],
   "source": [
    "df_clustered_cleaned = df_clustered.drop(\"tokens\", \"features\")"
   ]
  },
  {
   "cell_type": "code",
   "execution_count": 28,
   "id": "8ee317b8-b3f5-4a0a-b9ac-c332a0a0338b",
   "metadata": {},
   "outputs": [
    {
     "name": "stdout",
     "output_type": "stream",
     "text": [
      "root\n",
      " |-- category_name: string (nullable = true)\n",
      " |-- cluster: integer (nullable = false)\n",
      "\n"
     ]
    }
   ],
   "source": [
    "df_clustered_cleaned.printSchema()"
   ]
  },
  {
   "cell_type": "code",
   "execution_count": 29,
   "id": "056a9cde-4e7b-411d-860e-55f578f0dfc5",
   "metadata": {},
   "outputs": [
    {
     "name": "stdout",
     "output_type": "stream",
     "text": [
      "root\n",
      " |-- invoice_item_number: string (nullable = true)\n",
      " |-- date: timestamp (nullable = true)\n",
      " |-- store_number: integer (nullable = true)\n",
      " |-- store_name: string (nullable = true)\n",
      " |-- address: string (nullable = true)\n",
      " |-- city: string (nullable = true)\n",
      " |-- zip_code: string (nullable = true)\n",
      " |-- store_location: string (nullable = true)\n",
      " |-- county_number: integer (nullable = true)\n",
      " |-- county: string (nullable = true)\n",
      " |-- category: integer (nullable = true)\n",
      " |-- category_name: string (nullable = true)\n",
      " |-- vendor_number: integer (nullable = true)\n",
      " |-- vendor_name: string (nullable = true)\n",
      " |-- item_number: string (nullable = true)\n",
      " |-- item_description: string (nullable = true)\n",
      " |-- pack: integer (nullable = true)\n",
      " |-- bottle_volume_ml: integer (nullable = true)\n",
      " |-- state_bottle_cost: double (nullable = true)\n",
      " |-- state_bottle_retail: double (nullable = true)\n",
      " |-- bottles_sold: integer (nullable = true)\n",
      " |-- sale_dollars: double (nullable = true)\n",
      " |-- volume_sold_liters: double (nullable = true)\n",
      " |-- volume_sold_gallons: double (nullable = true)\n",
      " |-- order_year: integer (nullable = true)\n",
      " |-- order_month: integer (nullable = true)\n",
      " |-- order_day: integer (nullable = true)\n",
      " |-- order_hour: integer (nullable = true)\n",
      " |-- order_minute: integer (nullable = true)\n",
      " |-- order_second: integer (nullable = true)\n",
      "\n"
     ]
    }
   ],
   "source": [
    "liquor_data_clean_df.printSchema()"
   ]
  },
  {
   "cell_type": "code",
   "execution_count": 30,
   "id": "d2b25650-35b6-465d-97fd-757f12bded3d",
   "metadata": {},
   "outputs": [],
   "source": [
    "liquor_data_clean_type = liquor_data_clean_df \\\n",
    "    .withColumn(\"item_number\", col(\"item_number\").cast(IntegerType())) \\\n",
    "    .withColumn(\"vendor_number\", col(\"vendor_number\").cast(IntegerType())) "
   ]
  },
  {
   "cell_type": "code",
   "execution_count": 31,
   "id": "0108856d-85fc-4558-94da-edff887ae837",
   "metadata": {},
   "outputs": [],
   "source": [
    "jdbc_url = \"jdbc:postgresql://localhost:5432/postgres\"\n",
    "table_name = \"ecomm.liquor_category\"\n",
    "table_name2 = \"ecomm.liquor_sales\"\n",
    "properties = {\n",
    "    \"user\": \"postgres\",\n",
    "    \"password\": \"postgres\",\n",
    "    \"driver\": \"org.postgresql.Driver\"\n",
    "}\n",
    "\n",
    "# Write to PostgreSQL\n",
    "liquor_data_clean_type.write.jdbc(url=jdbc_url, table=table_name2, mode=\"overwrite\", properties=properties)\n",
    "df_clustered_cleaned.write.jdbc(url=jdbc_url, table=table_name, mode=\"overwrite\", properties=properties)"
   ]
  }
 ],
 "metadata": {
  "kernelspec": {
   "display_name": "Python 3 (ipykernel)",
   "language": "python",
   "name": "python3"
  },
  "language_info": {
   "codemirror_mode": {
    "name": "ipython",
    "version": 3
   },
   "file_extension": ".py",
   "mimetype": "text/x-python",
   "name": "python",
   "nbconvert_exporter": "python",
   "pygments_lexer": "ipython3",
   "version": "3.12.3"
  }
 },
 "nbformat": 4,
 "nbformat_minor": 5
}
