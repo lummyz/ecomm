{
 "cells": [
  {
   "cell_type": "code",
   "execution_count": 1,
   "id": "ac5c5d56-328c-42ac-b783-42cabfdf50bb",
   "metadata": {},
   "outputs": [],
   "source": [
    "import findspark\n",
    "findspark.init()\n",
    "import pyspark\n",
    "from pyspark.sql import SparkSession\n",
    "import os\n",
    "import sys\n",
    "from pyspark.sql.functions import to_timestamp, col, trim, split, regexp_replace, regexp_extract, udf, when, explode, lower, from_json, collect_list, collect_set\n",
    "from calendar import month_name\n",
    "import re\n",
    "from pyspark.ml.feature import Tokenizer, StopWordsRemover, HashingTF, IDF, VectorAssembler\n",
    "from pyspark.ml.classification import LogisticRegression\n",
    "from pyspark.ml import Pipeline\n",
    "from pyspark.sql.types import *\n",
    "from pyspark.ml.tuning import ParamGridBuilder\n",
    "from pyspark.sql.functions import udf\n",
    "from pyspark.ml.linalg import DenseVector"
   ]
  },
  {
   "cell_type": "code",
   "execution_count": 2,
   "id": "ed371341-ecd6-45f6-9300-e0b92ded7198",
   "metadata": {},
   "outputs": [],
   "source": [
    "spark = SparkSession.builder \\\n",
    "    .appName('app_name') \\\n",
    "    .master('local[*]') \\\n",
    "    .config('spark.sql.execution.arrow.pyspark.enabled', True) \\\n",
    "    .config('spark.sql.session.timeZone', 'UTC') \\\n",
    "    .config('spark.driver.memory','32G') \\\n",
    "    .config('spark.ui.showConsoleProgress', True) \\\n",
    "    .config('spark.sql.repl.eagerEval.enabled', True) \\\n",
    "    .getOrCreate()"
   ]
  },
  {
   "cell_type": "code",
   "execution_count": 3,
   "id": "57d15de9-53ad-4e98-9e8b-912b1a9cbda2",
   "metadata": {},
   "outputs": [],
   "source": [
    "books_data_df = spark.read \\\n",
    "    .format(\"csv\") \\\n",
    "    .option(\"header\", \"true\") \\\n",
    "    .option(\"inferSchema\", \"true\") \\\n",
    "    .option(\"quote\", \"\\\"\") \\\n",
    "    .option(\"escape\", \"\\\"\") \\\n",
    "    .load(\"DE_CaseStudy_Dataset/Sales_Data/books_data.csv\")\n",
    "\n",
    "# books_data_df.count()"
   ]
  },
  {
   "cell_type": "code",
   "execution_count": 4,
   "id": "948bf1ba-cfb1-4719-96aa-a653a8726ae6",
   "metadata": {},
   "outputs": [
    {
     "name": "stdout",
     "output_type": "stream",
     "text": [
      "+--------------------+--------------------+--------------------+--------------------+--------------------+--------------------+-------------+--------------------+--------------------+------------+\n",
      "|               Title|         description|             authors|               image|         previewLink|           publisher|publishedDate|            infoLink|          categories|ratingsCount|\n",
      "+--------------------+--------------------+--------------------+--------------------+--------------------+--------------------+-------------+--------------------+--------------------+------------+\n",
      "|Its Only Art If I...|                NULL|    ['Julie Strain']|http://books.goog...|http://books.goog...|                NULL|         1996|http://books.goog...|['Comics & Graphi...|        NULL|\n",
      "|Dr. Seuss: Americ...|Philip Nel takes ...|      ['Philip Nel']|http://books.goog...|http://books.goog...|           A&C Black|   2005-01-01|http://books.goog...|['Biography & Aut...|        NULL|\n",
      "|Wonderful Worship...|This resource inc...|    ['David R. Ray']|http://books.goog...|http://books.goog...|                NULL|         2000|http://books.goog...|        ['Religion']|        NULL|\n",
      "|Whispers of the W...|Julia Thomas find...| ['Veronica Haddon']|http://books.goog...|http://books.goog...|           iUniverse|      2005-02|http://books.goog...|         ['Fiction']|        NULL|\n",
      "|Nation Dance: Rel...|                NULL|     ['Edward Long']|                NULL|http://books.goog...|                NULL|   2003-03-01|http://books.goog...|                NULL|        NULL|\n",
      "|The Church of Chr...|In The Church of ...|['Everett Ferguson']|http://books.goog...|http://books.goog...|Wm. B. Eerdmans P...|         1996|http://books.goog...|        ['Religion']|         5.0|\n",
      "|The Overbury affa...|                NULL|['Miriam Allen De...|                NULL|http://books.goog...|                NULL|         1960|http://books.goog...|                NULL|        NULL|\n",
      "|A Walk in the Woo...|                NULL|    ['Lee Blessing']|                NULL|http://books.goog...|                NULL|         1988|http://books.goog...|                NULL|         3.0|\n",
      "|Saint Hyacinth of...|The story for chi...|['Mary Fabyan Win...|http://books.goog...|http://books.goog...|     Tan Books & Pub|   2009-01-01|http://books.goog...|['Biography & Aut...|        NULL|\n",
      "|Rising Sons and D...|Wardell recalls h...|  ['Steven Wardell']|                NULL|http://books.goog...|  Plympton PressIntl|         1995|http://books.goog...|  ['Social Science']|        NULL|\n",
      "|Muslim Women's Ch...|Counters the West...|['Camillia Fawzi ...|http://books.goog...|http://books.goog...|    Berg Pub Limited|   1994-02-17|http://books.goog...|        ['Religion']|        NULL|\n",
      "|Dramatica for Scr...|Dramatica for Scr...|['Armando Salda A...|http://books.goog...|http://books.goog...|                NULL|      2005-07|http://books.goog...|       ['Reference']|        NULL|\n",
      "|Mensa Number Puzz...|Acclaimed teacher...|['Evelyn B. Chris...|http://books.goog...|http://books.goog...|            Sky Pony|   2018-11-06|http://books.goog...|['Juvenile Nonfic...|        NULL|\n",
      "|Vector Quantizati...|Herb Caen, a popu...|['Allen Gersho', ...|http://books.goog...|http://books.goog...|Springer Science ...|   2012-12-06|https://play.goog...|['Technology & En...|        NULL|\n",
      "|A husband for Kutani|First published i...|      ['Frank Owen']|http://books.goog...|http://books.goog...|Pickle Partners P...|   2018-02-27|https://play.goog...|         ['History']|        NULL|\n",
      "| Gold and greenstone|Sally did most th...|     ['Barry Crump']|                NULL|http://books.goog...|                NULL|         2009|http://books.goog...|['New Zealand fic...|        NULL|\n",
      "|The Ultimate Guid...|This collection b...|    ['Fiona Cownie']|http://books.goog...|http://books.goog...|Bloomsbury Publis...|   2010-01-28|https://play.goog...|             ['Law']|        NULL|\n",
      "|The Repeal of Ret...|At a time when Am...|['Rochelle Gurste...|http://books.goog...|http://books.goog...|       Hill and Wang|   2016-01-05|https://play.goog...|['Political Scien...|        NULL|\n",
      "|Overcoming Hypert...|Like a time bomb ...|['Kenneth H. Coop...|http://books.goog...|http://books.goog...|              Bantam|   2012-02-01|https://play.goog...|['Health & Fitness']|        NULL|\n",
      "|    Alaska Sourdough|\"Sourdough is a m...|     ['Ruth Allman']|http://books.goog...|http://books.goog...|Alaska Northwest ...|         1976|http://books.goog...|         ['Cooking']|        NULL|\n",
      "+--------------------+--------------------+--------------------+--------------------+--------------------+--------------------+-------------+--------------------+--------------------+------------+\n",
      "only showing top 20 rows\n",
      "\n"
     ]
    }
   ],
   "source": [
    "books_data_df.show()"
   ]
  },
  {
   "cell_type": "code",
   "execution_count": 5,
   "id": "ee2d4720-2f14-4e99-84cb-4059e69f2f0e",
   "metadata": {},
   "outputs": [],
   "source": [
    "# books_data_df.describe().show()"
   ]
  },
  {
   "cell_type": "code",
   "execution_count": 6,
   "id": "8668bbba-675a-4ecc-8cfd-f5fdd596319a",
   "metadata": {
    "scrolled": true
   },
   "outputs": [
    {
     "name": "stdout",
     "output_type": "stream",
     "text": [
      "+--------------------+--------------------+--------------------+--------------------+--------------------+--------------------+--------------+--------------------+--------------------+-------------+\n",
      "|               title|         description|             authors|               image|        preview_link|           publisher|published_date|           info_link|          categories|ratings_count|\n",
      "+--------------------+--------------------+--------------------+--------------------+--------------------+--------------------+--------------+--------------------+--------------------+-------------+\n",
      "|Its Only Art If I...|                NULL|    ['Julie Strain']|http://books.goog...|http://books.goog...|                NULL|          1996|http://books.goog...|['Comics & Graphi...|         NULL|\n",
      "|Dr. Seuss: Americ...|Philip Nel takes ...|      ['Philip Nel']|http://books.goog...|http://books.goog...|           A&C Black|    2005-01-01|http://books.goog...|['Biography & Aut...|         NULL|\n",
      "|Wonderful Worship...|This resource inc...|    ['David R. Ray']|http://books.goog...|http://books.goog...|                NULL|          2000|http://books.goog...|        ['Religion']|         NULL|\n",
      "|Whispers of the W...|Julia Thomas find...| ['Veronica Haddon']|http://books.goog...|http://books.goog...|           iUniverse|       2005-02|http://books.goog...|         ['Fiction']|         NULL|\n",
      "|Nation Dance: Rel...|                NULL|     ['Edward Long']|                NULL|http://books.goog...|                NULL|    2003-03-01|http://books.goog...|                NULL|         NULL|\n",
      "|The Church of Chr...|In The Church of ...|['Everett Ferguson']|http://books.goog...|http://books.goog...|Wm. B. Eerdmans P...|          1996|http://books.goog...|        ['Religion']|          5.0|\n",
      "|The Overbury affa...|                NULL|['Miriam Allen De...|                NULL|http://books.goog...|                NULL|          1960|http://books.goog...|                NULL|         NULL|\n",
      "|A Walk in the Woo...|                NULL|    ['Lee Blessing']|                NULL|http://books.goog...|                NULL|          1988|http://books.goog...|                NULL|          3.0|\n",
      "|Saint Hyacinth of...|The story for chi...|['Mary Fabyan Win...|http://books.goog...|http://books.goog...|     Tan Books & Pub|    2009-01-01|http://books.goog...|['Biography & Aut...|         NULL|\n",
      "|Rising Sons and D...|Wardell recalls h...|  ['Steven Wardell']|                NULL|http://books.goog...|  Plympton PressIntl|          1995|http://books.goog...|  ['Social Science']|         NULL|\n",
      "|Muslim Women's Ch...|Counters the West...|['Camillia Fawzi ...|http://books.goog...|http://books.goog...|    Berg Pub Limited|    1994-02-17|http://books.goog...|        ['Religion']|         NULL|\n",
      "|Dramatica for Scr...|Dramatica for Scr...|['Armando Salda A...|http://books.goog...|http://books.goog...|                NULL|       2005-07|http://books.goog...|       ['Reference']|         NULL|\n",
      "|Mensa Number Puzz...|Acclaimed teacher...|['Evelyn B. Chris...|http://books.goog...|http://books.goog...|            Sky Pony|    2018-11-06|http://books.goog...|['Juvenile Nonfic...|         NULL|\n",
      "|Vector Quantizati...|Herb Caen, a popu...|['Allen Gersho', ...|http://books.goog...|http://books.goog...|Springer Science ...|    2012-12-06|https://play.goog...|['Technology & En...|         NULL|\n",
      "|A husband for Kutani|First published i...|      ['Frank Owen']|http://books.goog...|http://books.goog...|Pickle Partners P...|    2018-02-27|https://play.goog...|         ['History']|         NULL|\n",
      "| Gold and greenstone|Sally did most th...|     ['Barry Crump']|                NULL|http://books.goog...|                NULL|          2009|http://books.goog...|['New Zealand fic...|         NULL|\n",
      "|The Ultimate Guid...|This collection b...|    ['Fiona Cownie']|http://books.goog...|http://books.goog...|Bloomsbury Publis...|    2010-01-28|https://play.goog...|             ['Law']|         NULL|\n",
      "|The Repeal of Ret...|At a time when Am...|['Rochelle Gurste...|http://books.goog...|http://books.goog...|       Hill and Wang|    2016-01-05|https://play.goog...|['Political Scien...|         NULL|\n",
      "|Overcoming Hypert...|Like a time bomb ...|['Kenneth H. Coop...|http://books.goog...|http://books.goog...|              Bantam|    2012-02-01|https://play.goog...|['Health & Fitness']|         NULL|\n",
      "|    Alaska Sourdough|\"Sourdough is a m...|     ['Ruth Allman']|http://books.goog...|http://books.goog...|Alaska Northwest ...|          1976|http://books.goog...|         ['Cooking']|         NULL|\n",
      "+--------------------+--------------------+--------------------+--------------------+--------------------+--------------------+--------------+--------------------+--------------------+-------------+\n",
      "only showing top 20 rows\n",
      "\n"
     ]
    }
   ],
   "source": [
    "books_mapped_df = books_data_df.select(\n",
    "    trim(col(\"Title\")).alias(\"title\"),\n",
    "    trim(col(\"description\")).alias(\"description\"),\n",
    "    trim(col(\"authors\")).alias(\"authors\"),\n",
    "    trim(col(\"image\")).alias(\"image\"),\n",
    "    trim(col(\"previewLink\")).alias(\"preview_link\"),\n",
    "    trim(col(\"publisher\")).alias(\"publisher\"),\n",
    "    trim(col(\"publishedDate\")).alias(\"published_date\"),\n",
    "    trim(col(\"infoLink\")).alias(\"info_link\"),\n",
    "    trim(col(\"categories\")).alias(\"categories\"),\n",
    "    trim(col(\"ratingsCount\")).cast(\"FLOAT\").alias(\"ratings_count\")\n",
    ")\n",
    "\n",
    "books_mapped_df.show()"
   ]
  },
  {
   "cell_type": "code",
   "execution_count": 7,
   "id": "e4f79301-d519-458d-b241-0b099f0686cd",
   "metadata": {},
   "outputs": [
    {
     "name": "stdout",
     "output_type": "stream",
     "text": [
      "[('title', 'string'), ('description', 'string'), ('authors', 'string'), ('image', 'string'), ('preview_link', 'string'), ('publisher', 'string'), ('published_date', 'string'), ('info_link', 'string'), ('categories', 'string'), ('ratings_count', 'float')]\n"
     ]
    }
   ],
   "source": [
    "print(books_mapped_df.dtypes)"
   ]
  },
  {
   "cell_type": "code",
   "execution_count": 8,
   "id": "ad926805-6993-426a-9f18-9592e6238f01",
   "metadata": {},
   "outputs": [
    {
     "name": "stdout",
     "output_type": "stream",
     "text": [
      "+--------------------+--------------------+--------------------+--------------------+--------------------+--------------------+--------------+--------------------+--------------------+-------------+\n",
      "|               title|         description|             authors|               image|        preview_link|           publisher|published_date|           info_link|          categories|ratings_count|\n",
      "+--------------------+--------------------+--------------------+--------------------+--------------------+--------------------+--------------+--------------------+--------------------+-------------+\n",
      "|Its Only Art If I...|                NULL|    ['Julie Strain']|http://books.goog...|http://books.goog...|                NULL|          1996|http://books.goog...|[Comics & Graphic...|         NULL|\n",
      "|Dr. Seuss: Americ...|Philip Nel takes ...|      ['Philip Nel']|http://books.goog...|http://books.goog...|           A&C Black|    2005-01-01|http://books.goog...|[Biography & Auto...|         NULL|\n",
      "|Wonderful Worship...|This resource inc...|    ['David R. Ray']|http://books.goog...|http://books.goog...|                NULL|          2000|http://books.goog...|          [Religion]|         NULL|\n",
      "|Whispers of the W...|Julia Thomas find...| ['Veronica Haddon']|http://books.goog...|http://books.goog...|           iUniverse|       2005-02|http://books.goog...|           [Fiction]|         NULL|\n",
      "|Nation Dance: Rel...|                NULL|     ['Edward Long']|                NULL|http://books.goog...|                NULL|    2003-03-01|http://books.goog...|                NULL|         NULL|\n",
      "|The Church of Chr...|In The Church of ...|['Everett Ferguson']|http://books.goog...|http://books.goog...|Wm. B. Eerdmans P...|          1996|http://books.goog...|          [Religion]|          5.0|\n",
      "|The Overbury affa...|                NULL|['Miriam Allen De...|                NULL|http://books.goog...|                NULL|          1960|http://books.goog...|                NULL|         NULL|\n",
      "|A Walk in the Woo...|                NULL|    ['Lee Blessing']|                NULL|http://books.goog...|                NULL|          1988|http://books.goog...|                NULL|          3.0|\n",
      "|Saint Hyacinth of...|The story for chi...|['Mary Fabyan Win...|http://books.goog...|http://books.goog...|     Tan Books & Pub|    2009-01-01|http://books.goog...|[Biography & Auto...|         NULL|\n",
      "|Rising Sons and D...|Wardell recalls h...|  ['Steven Wardell']|                NULL|http://books.goog...|  Plympton PressIntl|          1995|http://books.goog...|    [Social Science]|         NULL|\n",
      "|Muslim Women's Ch...|Counters the West...|['Camillia Fawzi ...|http://books.goog...|http://books.goog...|    Berg Pub Limited|    1994-02-17|http://books.goog...|          [Religion]|         NULL|\n",
      "|Dramatica for Scr...|Dramatica for Scr...|['Armando Salda A...|http://books.goog...|http://books.goog...|                NULL|       2005-07|http://books.goog...|         [Reference]|         NULL|\n",
      "|Mensa Number Puzz...|Acclaimed teacher...|['Evelyn B. Chris...|http://books.goog...|http://books.goog...|            Sky Pony|    2018-11-06|http://books.goog...|[Juvenile Nonfict...|         NULL|\n",
      "|Vector Quantizati...|Herb Caen, a popu...|['Allen Gersho', ...|http://books.goog...|http://books.goog...|Springer Science ...|    2012-12-06|https://play.goog...|[Technology & Eng...|         NULL|\n",
      "|A husband for Kutani|First published i...|      ['Frank Owen']|http://books.goog...|http://books.goog...|Pickle Partners P...|    2018-02-27|https://play.goog...|           [History]|         NULL|\n",
      "| Gold and greenstone|Sally did most th...|     ['Barry Crump']|                NULL|http://books.goog...|                NULL|          2009|http://books.goog...|[New Zealand fict...|         NULL|\n",
      "|The Ultimate Guid...|This collection b...|    ['Fiona Cownie']|http://books.goog...|http://books.goog...|Bloomsbury Publis...|    2010-01-28|https://play.goog...|               [Law]|         NULL|\n",
      "|The Repeal of Ret...|At a time when Am...|['Rochelle Gurste...|http://books.goog...|http://books.goog...|       Hill and Wang|    2016-01-05|https://play.goog...| [Political Science]|         NULL|\n",
      "|Overcoming Hypert...|Like a time bomb ...|['Kenneth H. Coop...|http://books.goog...|http://books.goog...|              Bantam|    2012-02-01|https://play.goog...|  [Health & Fitness]|         NULL|\n",
      "|    Alaska Sourdough|\"Sourdough is a m...|     ['Ruth Allman']|http://books.goog...|http://books.goog...|Alaska Northwest ...|          1976|http://books.goog...|           [Cooking]|         NULL|\n",
      "+--------------------+--------------------+--------------------+--------------------+--------------------+--------------------+--------------+--------------------+--------------------+-------------+\n",
      "only showing top 20 rows\n",
      "\n"
     ]
    }
   ],
   "source": [
    "books_mapped_df = books_mapped_df.withColumn(\"categories\",from_json(col(\"categories\"), \"array<string>\"))\n",
    "\n",
    "books_mapped_df.show()"
   ]
  },
  {
   "cell_type": "code",
   "execution_count": 9,
   "id": "d905e175-3c8d-4465-95b7-e8730a69ec0c",
   "metadata": {},
   "outputs": [
    {
     "name": "stdout",
     "output_type": "stream",
     "text": [
      "[('title', 'string'), ('description', 'string'), ('authors', 'string'), ('image', 'string'), ('preview_link', 'string'), ('publisher', 'string'), ('published_date', 'string'), ('info_link', 'string'), ('categories', 'array<string>'), ('ratings_count', 'float')]\n"
     ]
    }
   ],
   "source": [
    "print(books_mapped_df.dtypes)"
   ]
  },
  {
   "cell_type": "code",
   "execution_count": 10,
   "id": "80a1686f-345a-4667-9bd3-43a21952cdba",
   "metadata": {},
   "outputs": [
    {
     "name": "stdout",
     "output_type": "stream",
     "text": [
      "+--------------------+--------------------+--------------------+--------------------+--------------------+--------------------+--------------+--------------------+--------------------+-------------+\n",
      "|               title|         description|             authors|               image|        preview_link|           publisher|published_date|           info_link|          categories|ratings_count|\n",
      "+--------------------+--------------------+--------------------+--------------------+--------------------+--------------------+--------------+--------------------+--------------------+-------------+\n",
      "|Its Only Art If I...|                NULL|    ['Julie Strain']|http://books.goog...|http://books.goog...|                NULL|          1996|http://books.goog...|comics & graphic ...|         NULL|\n",
      "|Dr. Seuss: Americ...|Philip Nel takes ...|      ['Philip Nel']|http://books.goog...|http://books.goog...|           A&C Black|    2005-01-01|http://books.goog...|biography & autob...|         NULL|\n",
      "|Wonderful Worship...|This resource inc...|    ['David R. Ray']|http://books.goog...|http://books.goog...|                NULL|          2000|http://books.goog...|            religion|         NULL|\n",
      "|Whispers of the W...|Julia Thomas find...| ['Veronica Haddon']|http://books.goog...|http://books.goog...|           iUniverse|       2005-02|http://books.goog...|             fiction|         NULL|\n",
      "|The Church of Chr...|In The Church of ...|['Everett Ferguson']|http://books.goog...|http://books.goog...|Wm. B. Eerdmans P...|          1996|http://books.goog...|            religion|          5.0|\n",
      "|Saint Hyacinth of...|The story for chi...|['Mary Fabyan Win...|http://books.goog...|http://books.goog...|     Tan Books & Pub|    2009-01-01|http://books.goog...|biography & autob...|         NULL|\n",
      "|Rising Sons and D...|Wardell recalls h...|  ['Steven Wardell']|                NULL|http://books.goog...|  Plympton PressIntl|          1995|http://books.goog...|      social science|         NULL|\n",
      "|Muslim Women's Ch...|Counters the West...|['Camillia Fawzi ...|http://books.goog...|http://books.goog...|    Berg Pub Limited|    1994-02-17|http://books.goog...|            religion|         NULL|\n",
      "|Dramatica for Scr...|Dramatica for Scr...|['Armando Salda A...|http://books.goog...|http://books.goog...|                NULL|       2005-07|http://books.goog...|           reference|         NULL|\n",
      "|Mensa Number Puzz...|Acclaimed teacher...|['Evelyn B. Chris...|http://books.goog...|http://books.goog...|            Sky Pony|    2018-11-06|http://books.goog...| juvenile nonfiction|         NULL|\n",
      "|Vector Quantizati...|Herb Caen, a popu...|['Allen Gersho', ...|http://books.goog...|http://books.goog...|Springer Science ...|    2012-12-06|https://play.goog...|technology & engi...|         NULL|\n",
      "|A husband for Kutani|First published i...|      ['Frank Owen']|http://books.goog...|http://books.goog...|Pickle Partners P...|    2018-02-27|https://play.goog...|             history|         NULL|\n",
      "| Gold and greenstone|Sally did most th...|     ['Barry Crump']|                NULL|http://books.goog...|                NULL|          2009|http://books.goog...| new zealand fiction|         NULL|\n",
      "|The Ultimate Guid...|This collection b...|    ['Fiona Cownie']|http://books.goog...|http://books.goog...|Bloomsbury Publis...|    2010-01-28|https://play.goog...|                 law|         NULL|\n",
      "|The Repeal of Ret...|At a time when Am...|['Rochelle Gurste...|http://books.goog...|http://books.goog...|       Hill and Wang|    2016-01-05|https://play.goog...|   political science|         NULL|\n",
      "|Overcoming Hypert...|Like a time bomb ...|['Kenneth H. Coop...|http://books.goog...|http://books.goog...|              Bantam|    2012-02-01|https://play.goog...|    health & fitness|         NULL|\n",
      "|    Alaska Sourdough|\"Sourdough is a m...|     ['Ruth Allman']|http://books.goog...|http://books.goog...|Alaska Northwest ...|          1976|http://books.goog...|             cooking|         NULL|\n",
      "|The Oxford Handbo...|A guide to curren...|     ['Robert Kane']|http://books.goog...|http://books.goog...|             OUP USA|    2011-07-27|http://books.goog...|          philosophy|         NULL|\n",
      "|Eyewitness Travel...|The DK Eyewitness...|['Dorling Kinders...|http://books.goog...|http://books.goog...|                NULL|    2015-06-15|http://books.goog...|              europe|         NULL|\n",
      "|Hunting The Hard Way|Thrilling stories...|     ['Howard Hill']|http://books.goog...|http://books.goog...|     Derrydale Press|    2000-04-26|https://play.goog...| sports & recreation|         NULL|\n",
      "+--------------------+--------------------+--------------------+--------------------+--------------------+--------------------+--------------+--------------------+--------------------+-------------+\n",
      "only showing top 20 rows\n",
      "\n"
     ]
    }
   ],
   "source": [
    "books_mapped_df = books_mapped_df.withColumn(\"categories\", explode(col(\"categories\")))\n",
    "\n",
    "# Remove leading/trailing whitespaces and convert category names to lowercase\n",
    "books_mapped_df = books_mapped_df.withColumn(\"categories\", trim(lower(col(\"categories\"))))\n",
    "\n",
    "books_mapped_df.show()"
   ]
  },
  {
   "cell_type": "code",
   "execution_count": 11,
   "id": "af6c6bb0-7db6-4838-b946-d6ef19409960",
   "metadata": {},
   "outputs": [
    {
     "name": "stdout",
     "output_type": "stream",
     "text": [
      "root\n",
      " |-- title: string (nullable = true)\n",
      " |-- description: string (nullable = true)\n",
      " |-- authors: string (nullable = true)\n",
      " |-- image: string (nullable = true)\n",
      " |-- preview_link: string (nullable = true)\n",
      " |-- publisher: string (nullable = true)\n",
      " |-- published_date: string (nullable = true)\n",
      " |-- info_link: string (nullable = true)\n",
      " |-- categories: string (nullable = true)\n",
      " |-- ratings_count: float (nullable = true)\n",
      "\n"
     ]
    }
   ],
   "source": [
    "books_mapped_df.printSchema()"
   ]
  },
  {
   "cell_type": "code",
   "execution_count": 12,
   "id": "ddb0ec73-ed2c-4d57-a135-1d55dd5f07c5",
   "metadata": {},
   "outputs": [],
   "source": [
    "Books_rating_data_df = spark.read \\\n",
    "    .format(\"csv\") \\\n",
    "    .option(\"header\", \"true\") \\\n",
    "    .option(\"inferSchema\", \"true\") \\\n",
    "    .option(\"quote\", \"\\\"\") \\\n",
    "    .option(\"escape\", \"\\\"\") \\\n",
    "    .load(\"DE_CaseStudy_Dataset/Sales_Data/Books_rating.csv\")\n",
    "\n",
    "# Books_rating_data_df.count()"
   ]
  },
  {
   "cell_type": "code",
   "execution_count": 13,
   "id": "39a232ea-8be7-4517-b7c9-6671c12f2065",
   "metadata": {},
   "outputs": [
    {
     "name": "stdout",
     "output_type": "stream",
     "text": [
      "+----------+--------------------+-----+--------------+--------------------+------------------+------------+-----------+--------------------+--------------------+\n",
      "|        Id|               Title|Price|       User_id|         profileName|review/helpfulness|review/score|review/time|      review/summary|         review/text|\n",
      "+----------+--------------------+-----+--------------+--------------------+------------------+------------+-----------+--------------------+--------------------+\n",
      "|1882931173|Its Only Art If I...| NULL| AVCGYZL8FQQTD|Jim of Oz \"jim-of...|               7/7|         4.0|  940636800|Nice collection o...|This is only for ...|\n",
      "|0826414346|Dr. Seuss: Americ...| NULL|A30TK6U7DNS82R|       Kevin Killian|             10/10|         5.0| 1095724800|   Really Enjoyed It|I don't care much...|\n",
      "|0826414346|Dr. Seuss: Americ...| NULL|A3UH4UZ4RSVO82|        John Granger|             10/11|         5.0| 1078790400|Essential for eve...|If people become ...|\n",
      "|0826414346|Dr. Seuss: Americ...| NULL|A2MVUWT453QH61|Roy E. Perry \"ama...|               7/7|         4.0| 1090713600|Phlip Nel gives s...|Theodore Seuss Ge...|\n",
      "|0826414346|Dr. Seuss: Americ...| NULL|A22X4XUPKF66MR|D. H. Richards \"n...|               3/3|         4.0| 1107993600|Good academic ove...|Philip Nel - Dr. ...|\n",
      "|0826414346|Dr. Seuss: Americ...| NULL|A2F6NONFUDB6UK|              Malvin|               2/2|         4.0| 1127174400|One of America's ...|\"Dr. Seuss: Ameri...|\n",
      "|0826414346|Dr. Seuss: Americ...| NULL|A14OJS0VWMOSWO| Midwest Book Review|               3/4|         5.0| 1100131200|A memorably excel...|Theodor Seuss Gie...|\n",
      "|0826414346|Dr. Seuss: Americ...| NULL|A2RSSXTDZDUSH4|           J. Squire|               0/0|         5.0| 1231200000|Academia At It's ...|When I recieved t...|\n",
      "|0826414346|Dr. Seuss: Americ...| NULL|A25MD5I2GUIW6W|J. P. HIGBED \"big...|               0/0|         5.0| 1209859200|And to think that...|Trams (or any pub...|\n",
      "|0826414346|Dr. Seuss: Americ...| NULL|A3VA4XFS5WNJO3|     Donald Burnside|               3/5|         4.0| 1076371200|Fascinating accou...|As far as I am aw...|\n",
      "|0829814000|Wonderful Worship...| 19.4| AZ0IOBU20TBOP|  Rev. Pamela Tinnin|              8/10|         5.0|  991440000|Outstanding Resou...|I just finished t...|\n",
      "|0829814000|Wonderful Worship...| 19.4|A373VVEU6Z9M0N|Dr. Terry W. Dorsett|               1/1|         5.0| 1291766400|Small Churches CA...|Many small church...|\n",
      "|0829814000|Wonderful Worship...| 19.4| AGKGOH65VTRR4|Cynthia L. Lajoy ...|               1/1|         5.0| 1248307200|Not Just for Past...|I just finished r...|\n",
      "|0829814000|Wonderful Worship...| 19.4| A3OQWLU31BU1Y|       Maxwell Grant|               1/1|         5.0| 1222560000|Small church past...|I hadn't been a s...|\n",
      "|0595344550|Whispers of the W...|10.95|A3Q12RK71N74LB|         Book Reader|              7/11|         1.0| 1117065600|            not good|I bought this boo...|\n",
      "|0595344550|Whispers of the W...|10.95|A1E9M6APK30ZAU|           V. Powell|               1/2|         4.0| 1119571200|  Here is my opinion|I have to admit, ...|\n",
      "|0595344550|Whispers of the W...|10.95| AUR0VA5H0C66C|LoveToRead \"Actua...|               1/2|         1.0| 1119225600|        Buyer beware|This is a self-pu...|\n",
      "|0595344550|Whispers of the W...|10.95|A1YLDZ3VHR6QPZ|               Clara|               2/4|         5.0| 1115942400| Fall on your knee's|When I first read...|\n",
      "|0595344550|Whispers of the W...|10.95| ACO23CG8K8T77|               Tonya|               5/9|         5.0| 1117065600|      Bravo Veronica|I read the review...|\n",
      "|0595344550|Whispers of the W...|10.95|A1VK81CRRC7MLM|    missyLou \"apple\"|               1/3|         5.0| 1130025600|           Wonderful|I really enjoyed ...|\n",
      "+----------+--------------------+-----+--------------+--------------------+------------------+------------+-----------+--------------------+--------------------+\n",
      "only showing top 20 rows\n",
      "\n"
     ]
    }
   ],
   "source": [
    "Books_rating_data_df.show()"
   ]
  },
  {
   "cell_type": "code",
   "execution_count": 14,
   "id": "a91ac310-2745-48af-bce7-df57cd3e5f75",
   "metadata": {},
   "outputs": [],
   "source": [
    "# Books_rating_data_df.describe().show()"
   ]
  },
  {
   "cell_type": "code",
   "execution_count": 15,
   "id": "d9ad6036-aeb1-40b4-8385-7fb0efac5163",
   "metadata": {},
   "outputs": [
    {
     "name": "stdout",
     "output_type": "stream",
     "text": [
      "+----------+--------------------+-----+--------------+--------------------+------------------+------------+-----------+--------------------+--------------------+\n",
      "|        id|               title|price|       user_id|        profile_name|review_helpfulness|review_score|review_time|      review_summary|         review_text|\n",
      "+----------+--------------------+-----+--------------+--------------------+------------------+------------+-----------+--------------------+--------------------+\n",
      "|1882931173|Its Only Art If I...| NULL| AVCGYZL8FQQTD|Jim of Oz \"jim-of...|               7/7|         4.0|  940636800|Nice collection o...|This is only for ...|\n",
      "|0826414346|Dr. Seuss: Americ...| NULL|A30TK6U7DNS82R|       Kevin Killian|             10/10|         5.0| 1095724800|   Really Enjoyed It|I don't care much...|\n",
      "|0826414346|Dr. Seuss: Americ...| NULL|A3UH4UZ4RSVO82|        John Granger|             10/11|         5.0| 1078790400|Essential for eve...|If people become ...|\n",
      "|0826414346|Dr. Seuss: Americ...| NULL|A2MVUWT453QH61|Roy E. Perry \"ama...|               7/7|         4.0| 1090713600|Phlip Nel gives s...|Theodore Seuss Ge...|\n",
      "|0826414346|Dr. Seuss: Americ...| NULL|A22X4XUPKF66MR|D. H. Richards \"n...|               3/3|         4.0| 1107993600|Good academic ove...|Philip Nel - Dr. ...|\n",
      "|0826414346|Dr. Seuss: Americ...| NULL|A2F6NONFUDB6UK|              Malvin|               2/2|         4.0| 1127174400|One of America's ...|\"Dr. Seuss: Ameri...|\n",
      "|0826414346|Dr. Seuss: Americ...| NULL|A14OJS0VWMOSWO| Midwest Book Review|               3/4|         5.0| 1100131200|A memorably excel...|Theodor Seuss Gie...|\n",
      "|0826414346|Dr. Seuss: Americ...| NULL|A2RSSXTDZDUSH4|           J. Squire|               0/0|         5.0| 1231200000|Academia At It's ...|When I recieved t...|\n",
      "|0826414346|Dr. Seuss: Americ...| NULL|A25MD5I2GUIW6W|J. P. HIGBED \"big...|               0/0|         5.0| 1209859200|And to think that...|Trams (or any pub...|\n",
      "|0826414346|Dr. Seuss: Americ...| NULL|A3VA4XFS5WNJO3|     Donald Burnside|               3/5|         4.0| 1076371200|Fascinating accou...|As far as I am aw...|\n",
      "|0829814000|Wonderful Worship...| 19.4| AZ0IOBU20TBOP|  Rev. Pamela Tinnin|              8/10|         5.0|  991440000|Outstanding Resou...|I just finished t...|\n",
      "|0829814000|Wonderful Worship...| 19.4|A373VVEU6Z9M0N|Dr. Terry W. Dorsett|               1/1|         5.0| 1291766400|Small Churches CA...|Many small church...|\n",
      "|0829814000|Wonderful Worship...| 19.4| AGKGOH65VTRR4|Cynthia L. Lajoy ...|               1/1|         5.0| 1248307200|Not Just for Past...|I just finished r...|\n",
      "|0829814000|Wonderful Worship...| 19.4| A3OQWLU31BU1Y|       Maxwell Grant|               1/1|         5.0| 1222560000|Small church past...|I hadn't been a s...|\n",
      "|0595344550|Whispers of the W...|10.95|A3Q12RK71N74LB|         Book Reader|              7/11|         1.0| 1117065600|            not good|I bought this boo...|\n",
      "|0595344550|Whispers of the W...|10.95|A1E9M6APK30ZAU|           V. Powell|               1/2|         4.0| 1119571200|  Here is my opinion|I have to admit, ...|\n",
      "|0595344550|Whispers of the W...|10.95| AUR0VA5H0C66C|LoveToRead \"Actua...|               1/2|         1.0| 1119225600|        Buyer beware|This is a self-pu...|\n",
      "|0595344550|Whispers of the W...|10.95|A1YLDZ3VHR6QPZ|               Clara|               2/4|         5.0| 1115942400| Fall on your knee's|When I first read...|\n",
      "|0595344550|Whispers of the W...|10.95| ACO23CG8K8T77|               Tonya|               5/9|         5.0| 1117065600|      Bravo Veronica|I read the review...|\n",
      "|0595344550|Whispers of the W...|10.95|A1VK81CRRC7MLM|    missyLou \"apple\"|               1/3|         5.0| 1130025600|           Wonderful|I really enjoyed ...|\n",
      "+----------+--------------------+-----+--------------+--------------------+------------------+------------+-----------+--------------------+--------------------+\n",
      "only showing top 20 rows\n",
      "\n"
     ]
    }
   ],
   "source": [
    "book_reviews_mapped_df = Books_rating_data_df.select(\n",
    "    trim(col(\"Id\")).alias(\"id\"),\n",
    "    trim(col(\"Title\")).alias(\"title\"),\n",
    "    trim(col(\"Price\")).alias(\"price\"),\n",
    "    trim(col(\"User_id\")).alias(\"user_id\"),\n",
    "    trim(col(\"profileName\")).alias(\"profile_name\"),\n",
    "    trim(col(\"review/helpfulness\")).alias(\"review_helpfulness\"),\n",
    "    trim(col(\"review/score\")).alias(\"review_score\"),\n",
    "    trim(col(\"review/time\")).alias(\"review_time\"),\n",
    "    trim(col(\"review/summary\")).alias(\"review_summary\"),\n",
    "    trim(col(\"review/text\")).alias(\"review_text\")\n",
    ")\n",
    "\n",
    "book_reviews_mapped_df.show()"
   ]
  },
  {
   "cell_type": "code",
   "execution_count": 16,
   "id": "119f4e1f-068d-44af-bcf8-05b320a6452f",
   "metadata": {},
   "outputs": [],
   "source": [
    "#divide data, 70% for training, 30% for testing\n",
    "book_reviews_mapped_df_test = book_reviews_mapped_df.limit(1000)"
   ]
  },
  {
   "cell_type": "code",
   "execution_count": 17,
   "id": "8dc639b3-d517-4e0c-b8ca-becc89169a8a",
   "metadata": {},
   "outputs": [
    {
     "name": "stdout",
     "output_type": "stream",
     "text": [
      "Mode value for column 'review_summary': Cruel and Unusual\n"
     ]
    }
   ],
   "source": [
    "# Get the mode value for the 'review_summary' column\n",
    "mode_value = book_reviews_mapped_df_test.groupBy('review_summary').count().orderBy('count', ascending=False).first()[0]\n",
    "print(f\"Mode value for column 'review_summary': {mode_value}\")\n",
    "\n",
    "# Impute null values in the 'review_summary' column with the mode value\n",
    "book_reviews_mapped_df_test = book_reviews_mapped_df_test.withColumn('review_summary', when(col('review_summary').isNull(), mode_value).otherwise(col('review_summary')))"
   ]
  },
  {
   "cell_type": "code",
   "execution_count": 18,
   "id": "b60273bb-36ee-4635-af9a-d9daa9564566",
   "metadata": {},
   "outputs": [
    {
     "name": "stdout",
     "output_type": "stream",
     "text": [
      "+----------+--------------------+-----+--------------+--------------------+------------------+------------+-----------+--------------------+--------------------+-----+\n",
      "|        id|               title|price|       user_id|        profile_name|review_helpfulness|review_score|review_time|      review_summary|         review_text|label|\n",
      "+----------+--------------------+-----+--------------+--------------------+------------------+------------+-----------+--------------------+--------------------+-----+\n",
      "|1882931173|Its Only Art If I...| NULL| AVCGYZL8FQQTD|Jim of Oz \"jim-of...|               7/7|         4.0|  940636800|Nice collection o...|This is only for ...|    1|\n",
      "|0826414346|Dr. Seuss: Americ...| NULL|A30TK6U7DNS82R|       Kevin Killian|             10/10|         5.0| 1095724800|   Really Enjoyed It|I don't care much...|    1|\n",
      "|0826414346|Dr. Seuss: Americ...| NULL|A3UH4UZ4RSVO82|        John Granger|             10/11|         5.0| 1078790400|Essential for eve...|If people become ...|    1|\n",
      "|0826414346|Dr. Seuss: Americ...| NULL|A2MVUWT453QH61|Roy E. Perry \"ama...|               7/7|         4.0| 1090713600|Phlip Nel gives s...|Theodore Seuss Ge...|    1|\n",
      "|0826414346|Dr. Seuss: Americ...| NULL|A22X4XUPKF66MR|D. H. Richards \"n...|               3/3|         4.0| 1107993600|Good academic ove...|Philip Nel - Dr. ...|    1|\n",
      "|0826414346|Dr. Seuss: Americ...| NULL|A2F6NONFUDB6UK|              Malvin|               2/2|         4.0| 1127174400|One of America's ...|\"Dr. Seuss: Ameri...|    1|\n",
      "|0826414346|Dr. Seuss: Americ...| NULL|A14OJS0VWMOSWO| Midwest Book Review|               3/4|         5.0| 1100131200|A memorably excel...|Theodor Seuss Gie...|    1|\n",
      "|0826414346|Dr. Seuss: Americ...| NULL|A2RSSXTDZDUSH4|           J. Squire|               0/0|         5.0| 1231200000|Academia At It's ...|When I recieved t...|    1|\n",
      "|0826414346|Dr. Seuss: Americ...| NULL|A25MD5I2GUIW6W|J. P. HIGBED \"big...|               0/0|         5.0| 1209859200|And to think that...|Trams (or any pub...|    1|\n",
      "|0826414346|Dr. Seuss: Americ...| NULL|A3VA4XFS5WNJO3|     Donald Burnside|               3/5|         4.0| 1076371200|Fascinating accou...|As far as I am aw...|    1|\n",
      "|0829814000|Wonderful Worship...| 19.4| AZ0IOBU20TBOP|  Rev. Pamela Tinnin|              8/10|         5.0|  991440000|Outstanding Resou...|I just finished t...|    1|\n",
      "|0829814000|Wonderful Worship...| 19.4|A373VVEU6Z9M0N|Dr. Terry W. Dorsett|               1/1|         5.0| 1291766400|Small Churches CA...|Many small church...|    1|\n",
      "|0829814000|Wonderful Worship...| 19.4| AGKGOH65VTRR4|Cynthia L. Lajoy ...|               1/1|         5.0| 1248307200|Not Just for Past...|I just finished r...|    1|\n",
      "|0829814000|Wonderful Worship...| 19.4| A3OQWLU31BU1Y|       Maxwell Grant|               1/1|         5.0| 1222560000|Small church past...|I hadn't been a s...|    1|\n",
      "|0595344550|Whispers of the W...|10.95|A3Q12RK71N74LB|         Book Reader|              7/11|         1.0| 1117065600|            not good|I bought this boo...|    0|\n",
      "|0595344550|Whispers of the W...|10.95|A1E9M6APK30ZAU|           V. Powell|               1/2|         4.0| 1119571200|  Here is my opinion|I have to admit, ...|    1|\n",
      "|0595344550|Whispers of the W...|10.95| AUR0VA5H0C66C|LoveToRead \"Actua...|               1/2|         1.0| 1119225600|        Buyer beware|This is a self-pu...|    0|\n",
      "|0595344550|Whispers of the W...|10.95|A1YLDZ3VHR6QPZ|               Clara|               2/4|         5.0| 1115942400| Fall on your knee's|When I first read...|    1|\n",
      "|0595344550|Whispers of the W...|10.95| ACO23CG8K8T77|               Tonya|               5/9|         5.0| 1117065600|      Bravo Veronica|I read the review...|    1|\n",
      "|0595344550|Whispers of the W...|10.95|A1VK81CRRC7MLM|    missyLou \"apple\"|               1/3|         5.0| 1130025600|           Wonderful|I really enjoyed ...|    1|\n",
      "+----------+--------------------+-----+--------------+--------------------+------------------+------------+-----------+--------------------+--------------------+-----+\n",
      "only showing top 20 rows\n",
      "\n"
     ]
    }
   ],
   "source": [
    "book_reviews_mapped_df_test = book_reviews_mapped_df_test.withColumn(\"label\", (book_reviews_mapped_df_test[\"review_score\"] >= 3).cast(\"integer\"))\n",
    "\n",
    "book_reviews_mapped_df_test.show()"
   ]
  },
  {
   "cell_type": "code",
   "execution_count": 19,
   "id": "df5fd38b-f70a-46dc-a5e8-cc57c09029a9",
   "metadata": {},
   "outputs": [],
   "source": [
    "dividedData = book_reviews_mapped_df_test.randomSplit([0.7, 0.3]) \n",
    "trainingData = dividedData[0]\n",
    "testingData = dividedData[1]\n",
    "train_rows = trainingData.count()\n",
    "test_rows = testingData.count()\n",
    "# print (\"Training data rows:\", train_rows, \"; Testing data rows:\", test_rows)"
   ]
  },
  {
   "cell_type": "code",
   "execution_count": 20,
   "id": "914ed8b6-06c7-48db-8bef-366c6bc40c26",
   "metadata": {},
   "outputs": [
    {
     "name": "stdout",
     "output_type": "stream",
     "text": [
      "+----------+--------------------+-----+--------------+--------------------+------------------+------------+-----------+--------------------+--------------------+-----+--------------------+\n",
      "|        id|               title|price|       user_id|        profile_name|review_helpfulness|review_score|review_time|      review_summary|         review_text|label|review_summary_words|\n",
      "+----------+--------------------+-----+--------------+--------------------+------------------+------------+-----------+--------------------+--------------------+-----+--------------------+\n",
      "|0007106823|   Paolo Di Canio Hb| NULL|A1UPBP7ED9DTTY|Gavin O'brien \"go...|               6/8|         5.0| 1108252800|There's Only One ...|As a Celtic and W...|    1|[there's, only, o...|\n",
      "|0026204207|Foreignisms: A di...| NULL| AB1Z88ZD6NCB1|            CClio333|               0/0|         4.0| 1359244800|Good reference ma...|This is a great b...|    1|[good, reference,...|\n",
      "|006000486X|Tess and the High...| NULL|          NULL|                NULL|               9/9|         5.0| 1041638400|An awesome novel ...|After enjoying a ...|    1|[an, awesome, nov...|\n",
      "|006000486X|Tess and the High...| NULL|A148K8LOPWE6RK|                Jess|               0/0|         5.0| 1306281600|               &lt;3|I'm not a teenage...|    1|             [&lt;3]|\n",
      "|006000486X|Tess and the High...| NULL|A1BXZTM5IFHODP|                 Meg|               1/1|         3.0| 1183420800|Could have been b...|The plot and outl...|    1|[could, have, bee...|\n",
      "+----------+--------------------+-----+--------------+--------------------+------------------+------------+-----------+--------------------+--------------------+-----+--------------------+\n",
      "only showing top 5 rows\n",
      "\n"
     ]
    }
   ],
   "source": [
    "tokenizer = Tokenizer(inputCol=\"review_summary\", outputCol=\"review_summary_words\")\n",
    "tokenizedTrain = tokenizer.transform(trainingData)\n",
    "tokenizedTrain.show(n=5)"
   ]
  },
  {
   "cell_type": "code",
   "execution_count": 21,
   "id": "d1b1f213-567f-473b-b357-32fbf95f3edf",
   "metadata": {},
   "outputs": [
    {
     "name": "stdout",
     "output_type": "stream",
     "text": [
      "+----------+--------------------+-----+--------------+--------------------+------------------+------------+-----------+--------------------+--------------------+-----+--------------------+-------------------------------+\n",
      "|        id|               title|price|       user_id|        profile_name|review_helpfulness|review_score|review_time|      review_summary|         review_text|label|review_summary_words|review_summary_insightful_words|\n",
      "+----------+--------------------+-----+--------------+--------------------+------------------+------------+-----------+--------------------+--------------------+-----+--------------------+-------------------------------+\n",
      "|0007106823|   Paolo Di Canio Hb| NULL|A1UPBP7ED9DTTY|Gavin O'brien \"go...|               6/8|         5.0| 1108252800|There's Only One ...|As a Celtic and W...|    1|[there's, only, o...|                   [one, paolo]|\n",
      "|0026204207|Foreignisms: A di...| NULL| AB1Z88ZD6NCB1|            CClio333|               0/0|         4.0| 1359244800|Good reference ma...|This is a great b...|    1|[good, reference,...|           [good, reference,...|\n",
      "|006000486X|Tess and the High...| NULL|          NULL|                NULL|               9/9|         5.0| 1041638400|An awesome novel ...|After enjoying a ...|    1|[an, awesome, nov...|           [awesome, novel, ...|\n",
      "|006000486X|Tess and the High...| NULL|A148K8LOPWE6RK|                Jess|               0/0|         5.0| 1306281600|               &lt;3|I'm not a teenage...|    1|             [&lt;3]|                        [&lt;3]|\n",
      "|006000486X|Tess and the High...| NULL|A1BXZTM5IFHODP|                 Meg|               1/1|         3.0| 1183420800|Could have been b...|The plot and outl...|    1|[could, have, bee...|                    [better...]|\n",
      "+----------+--------------------+-----+--------------+--------------------+------------------+------------+-----------+--------------------+--------------------+-----+--------------------+-------------------------------+\n",
      "only showing top 5 rows\n",
      "\n"
     ]
    }
   ],
   "source": [
    "swr = StopWordsRemover(inputCol=tokenizer.getOutputCol(), \n",
    "                       outputCol=\"review_summary_insightful_words\")\n",
    "SwRemovedTrain = swr.transform(tokenizedTrain)\n",
    "SwRemovedTrain.show(n=5)"
   ]
  },
  {
   "cell_type": "code",
   "execution_count": 22,
   "id": "d6bd4d86-e195-4e85-8a9f-ce7532c54fb0",
   "metadata": {},
   "outputs": [
    {
     "name": "stdout",
     "output_type": "stream",
     "text": [
      "+----------+--------------------+-----+--------------+--------------------+------------------+------------+-----------+--------------------+--------------------+-----+--------------------+-------------------------------+--------------------+\n",
      "|        id|               title|price|       user_id|        profile_name|review_helpfulness|review_score|review_time|      review_summary|         review_text|label|review_summary_words|review_summary_insightful_words|            features|\n",
      "+----------+--------------------+-----+--------------+--------------------+------------------+------------+-----------+--------------------+--------------------+-----+--------------------+-------------------------------+--------------------+\n",
      "|0007106823|   Paolo Di Canio Hb| NULL|A1UPBP7ED9DTTY|Gavin O'brien \"go...|               6/8|         5.0| 1108252800|There's Only One ...|As a Celtic and W...|    1|[there's, only, o...|                   [one, paolo]|(262144,[7720,218...|\n",
      "|0026204207|Foreignisms: A di...| NULL| AB1Z88ZD6NCB1|            CClio333|               0/0|         4.0| 1359244800|Good reference ma...|This is a great b...|    1|[good, reference,...|           [good, reference,...|(262144,[79198,11...|\n",
      "|006000486X|Tess and the High...| NULL|          NULL|                NULL|               9/9|         5.0| 1041638400|An awesome novel ...|After enjoying a ...|    1|[an, awesome, nov...|           [awesome, novel, ...|(262144,[91192,13...|\n",
      "+----------+--------------------+-----+--------------+--------------------+------------------+------------+-----------+--------------------+--------------------+-----+--------------------+-------------------------------+--------------------+\n",
      "only showing top 3 rows\n",
      "\n"
     ]
    }
   ],
   "source": [
    "hashTF = HashingTF(inputCol=swr.getOutputCol(), outputCol=\"features\")\n",
    "numericTrainData = hashTF.transform(SwRemovedTrain)\n",
    "numericTrainData.show(n=3)"
   ]
  },
  {
   "cell_type": "code",
   "execution_count": 23,
   "id": "c6589601-c4bc-4454-aa82-cc682ed10287",
   "metadata": {},
   "outputs": [
    {
     "name": "stdout",
     "output_type": "stream",
     "text": [
      "Training done\n"
     ]
    }
   ],
   "source": [
    "numericTrainData = numericTrainData.cache()\n",
    "lr = LogisticRegression(labelCol=\"label\", featuresCol=\"features\", \n",
    "                        maxIter=10, regParam=0.01)\n",
    "\n",
    "model = lr.fit(numericTrainData)\n",
    "print (\"Training done\")"
   ]
  },
  {
   "cell_type": "code",
   "execution_count": 24,
   "id": "5e52e687-a25c-49e8-894a-e3aac52d31e4",
   "metadata": {},
   "outputs": [
    {
     "name": "stdout",
     "output_type": "stream",
     "text": [
      "+----------+--------------------+-----+--------------+-------------+------------------+------------+-----------+--------------------+--------------------+-----+--------------------+-------------------------------+--------------------+\n",
      "|        id|               title|price|       user_id| profile_name|review_helpfulness|review_score|review_time|      review_summary|         review_text|label|review_summary_words|review_summary_insightful_words|            features|\n",
      "+----------+--------------------+-----+--------------+-------------+------------------+------------+-----------+--------------------+--------------------+-----+--------------------+-------------------------------+--------------------+\n",
      "|006000486X|Tess and the High...| NULL|A1IQK80SXVPAWW|atlantis_girl|               4/4|         5.0| 1089849600|Best Avon True Ro...|I loved everythin...|    1|[best, avon, true...|           [best, avon, true...|(262144,[117068,1...|\n",
      "|006000486X|Tess and the High...| NULL|A1NZ6D6SD7B1AP|  C. McIntyre|               0/0|         4.0| 1212969600|good romance for ...|Tess is alone. Fo...|    1|[good, romance, f...|           [good, romance, t...|(262144,[113432,1...|\n",
      "+----------+--------------------+-----+--------------+-------------+------------------+------------+-----------+--------------------+--------------------+-----+--------------------+-------------------------------+--------------------+\n",
      "only showing top 2 rows\n",
      "\n"
     ]
    }
   ],
   "source": [
    "tokenizedTest = tokenizer.transform(testingData)\n",
    "SwRemovedTest = swr.transform(tokenizedTest)\n",
    "numericTest = hashTF.transform(SwRemovedTest)\n",
    "numericTest.show(n=2)"
   ]
  },
  {
   "cell_type": "code",
   "execution_count": 25,
   "id": "386006ef-e0f3-4e5e-a122-2d784bd37a9c",
   "metadata": {},
   "outputs": [
    {
     "name": "stdout",
     "output_type": "stream",
     "text": [
      "+-------------------------------+----------+-----+\n",
      "|review_summary_insightful_words|prediction|Label|\n",
      "+-------------------------------+----------+-----+\n",
      "|[best, avon, true, romance.]   |1.0       |1    |\n",
      "|[good, romance, teens]         |1.0       |1    |\n",
      "|[wonderful, fun!]              |1.0       |1    |\n",
      "|[good, little, critter, book]  |1.0       |0    |\n",
      "+-------------------------------+----------+-----+\n",
      "only showing top 4 rows\n",
      "\n",
      "+----------+--------------------+-----+--------------+-------------+------------------+------------+-----------+--------------------+--------------------+-----+--------------------+-------------------------------+--------------------+--------------------+--------------------+----------+\n",
      "|        id|               title|price|       user_id| profile_name|review_helpfulness|review_score|review_time|      review_summary|         review_text|label|review_summary_words|review_summary_insightful_words|            features|       rawPrediction|         probability|prediction|\n",
      "+----------+--------------------+-----+--------------+-------------+------------------+------------+-----------+--------------------+--------------------+-----+--------------------+-------------------------------+--------------------+--------------------+--------------------+----------+\n",
      "|006000486X|Tess and the High...| NULL|A1IQK80SXVPAWW|atlantis_girl|               4/4|         5.0| 1089849600|Best Avon True Ro...|I loved everythin...|    1|[best, avon, true...|           [best, avon, true...|(262144,[117068,1...|[-3.8985176514823...|[0.01986915300072...|       1.0|\n",
      "|006000486X|Tess and the High...| NULL|A1NZ6D6SD7B1AP|  C. McIntyre|               0/0|         4.0| 1212969600|good romance for ...|Tess is alone. Fo...|    1|[good, romance, f...|           [good, romance, t...|(262144,[113432,1...|[-3.1410648040585...|[0.04144479703611...|       1.0|\n",
      "|0060539453|Bye-Bye, Mom and Dad| 3.99|A3U0YAI0LXXYMR|      I. Rose|               3/3|         4.0| 1131321600|  Wonderful and Fun!|I am in love with...|    1|[wonderful, and, ...|              [wonderful, fun!]|(262144,[15585,23...|[-4.4839657093496...|[0.01116254807224...|       1.0|\n",
      "|0060539453|Bye-Bye, Mom and Dad| 3.99| AT3C9SZ3MB4U9|        GAMER|               4/5|         1.0| 1270512000|Not a very good L...|I grew up with th...|    0|[not, a, very, go...|           [good, little, cr...|(262144,[66357,11...|[-4.1626763710866...|[0.01532726043502...|       1.0|\n",
      "+----------+--------------------+-----+--------------+-------------+------------------+------------+-----------+--------------------+--------------------+-----+--------------------+-------------------------------+--------------------+--------------------+--------------------+----------+\n",
      "only showing top 4 rows\n",
      "\n"
     ]
    }
   ],
   "source": [
    "prediction = model.transform(numericTest)\n",
    "predictionFinal = prediction.select(\n",
    "    \"review_summary_insightful_words\", \"prediction\", \"Label\")\n",
    "predictionFinal.show(n=4, truncate = False)\n",
    "\n",
    "prediction.show(n=4)"
   ]
  },
  {
   "cell_type": "code",
   "execution_count": 26,
   "id": "fc2454e7-6fb3-401b-935d-e6466fca44d9",
   "metadata": {},
   "outputs": [
    {
     "name": "stdout",
     "output_type": "stream",
     "text": [
      "correct prediction: 258 , total data: 282 , accuracy: 0.9148936170212766\n"
     ]
    }
   ],
   "source": [
    "correctPrediction = predictionFinal.filter(\n",
    "    predictionFinal['prediction'] == predictionFinal['Label']).count()\n",
    "totalData = predictionFinal.count()\n",
    "print(\"correct prediction:\", correctPrediction, \", total data:\", totalData, \n",
    "      \", accuracy:\", correctPrediction/totalData)"
   ]
  },
  {
   "cell_type": "code",
   "execution_count": 27,
   "id": "7195b896-70ad-4698-9dab-d800c775de8e",
   "metadata": {},
   "outputs": [
    {
     "name": "stdout",
     "output_type": "stream",
     "text": [
      "root\n",
      " |-- id: string (nullable = true)\n",
      " |-- title: string (nullable = true)\n",
      " |-- price: string (nullable = true)\n",
      " |-- user_id: string (nullable = true)\n",
      " |-- profile_name: string (nullable = true)\n",
      " |-- review_helpfulness: string (nullable = true)\n",
      " |-- review_score: string (nullable = true)\n",
      " |-- review_time: string (nullable = true)\n",
      " |-- review_summary: string (nullable = true)\n",
      " |-- review_text: string (nullable = true)\n",
      " |-- label: integer (nullable = true)\n",
      " |-- review_summary_words: array (nullable = true)\n",
      " |    |-- element: string (containsNull = true)\n",
      " |-- review_summary_insightful_words: array (nullable = true)\n",
      " |    |-- element: string (containsNull = true)\n",
      " |-- features: vector (nullable = true)\n",
      " |-- rawPrediction: vector (nullable = true)\n",
      " |-- probability: vector (nullable = true)\n",
      " |-- prediction: double (nullable = false)\n",
      "\n"
     ]
    }
   ],
   "source": [
    "prediction.printSchema()"
   ]
  },
  {
   "cell_type": "code",
   "execution_count": 29,
   "id": "2c27de2f-0fd3-4243-8919-0f2cd24e68d5",
   "metadata": {},
   "outputs": [],
   "source": [
    "selected_columns = [\"id\", \"title\", \"price\", \"user_id\", \"profile_name\", \"review_helpfulness\",\n",
    "                    \"review_score\", \"review_time\", \"review_summary\", \"review_text\",\n",
    "                    \"label\", \"review_summary_words\", \"review_summary_insightful_words\",\n",
    "                    \"prediction\"]\n"
   ]
  },
  {
   "cell_type": "code",
   "execution_count": 30,
   "id": "3022699e-12bd-4579-8798-4581f2baab42",
   "metadata": {},
   "outputs": [],
   "source": [
    "Books_rating_prediction = prediction \\\n",
    "    .withColumn(\"price\", col(\"price\").cast(DoubleType())) \\\n",
    "    .withColumn(\"review_score\", col(\"review_score\").cast(DoubleType())) \\\n",
    "    .withColumn(\"review_time\", col(\"review_time\").cast(IntegerType()))"
   ]
  },
  {
   "cell_type": "code",
   "execution_count": 31,
   "id": "0108856d-85fc-4558-94da-edff887ae837",
   "metadata": {},
   "outputs": [],
   "source": [
    "jdbc_url = \"jdbc:postgresql://localhost:5432/postgres\"\n",
    "Books_table_name = \"ecomm.books\"\n",
    "Books_rating_table_name = \"ecomm.book_reviews\"\n",
    "properties = {\n",
    "    \"user\": \"postgres\",\n",
    "    \"password\": \"postgres\",\n",
    "    \"driver\": \"org.postgresql.Driver\"\n",
    "}\n",
    "\n",
    "# Write to PostgreSQL\n",
    "books_mapped_df.write.jdbc(url=jdbc_url, table=Books_table_name, mode=\"overwrite\", properties=properties)\n",
    "Books_rating_prediction.select(selected_columns).write.jdbc(url=jdbc_url, table=Books_rating_table_name, mode=\"overwrite\", properties=properties)"
   ]
  },
  {
   "cell_type": "code",
   "execution_count": null,
   "id": "db690452-e207-4bec-b35f-be97252d3e6a",
   "metadata": {},
   "outputs": [],
   "source": []
  }
 ],
 "metadata": {
  "kernelspec": {
   "display_name": "Python 3 (ipykernel)",
   "language": "python",
   "name": "python3"
  },
  "language_info": {
   "codemirror_mode": {
    "name": "ipython",
    "version": 3
   },
   "file_extension": ".py",
   "mimetype": "text/x-python",
   "name": "python",
   "nbconvert_exporter": "python",
   "pygments_lexer": "ipython3",
   "version": "3.12.3"
  }
 },
 "nbformat": 4,
 "nbformat_minor": 5
}
