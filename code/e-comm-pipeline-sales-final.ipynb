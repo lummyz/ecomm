{
 "cells": [
  {
   "cell_type": "code",
   "execution_count": 1,
   "id": "ac5c5d56-328c-42ac-b783-42cabfdf50bb",
   "metadata": {},
   "outputs": [],
   "source": [
    "import findspark\n",
    "findspark.init()\n",
    "import pyspark\n",
    "from pyspark.sql import SparkSession\n",
    "import os\n",
    "import sys\n",
    "from pyspark.sql.functions import *\n",
    "from pyspark.sql.types import *\n",
    "from calendar import month_name\n",
    "import re"
   ]
  },
  {
   "cell_type": "code",
   "execution_count": 2,
   "id": "ed371341-ecd6-45f6-9300-e0b92ded7198",
   "metadata": {},
   "outputs": [],
   "source": [
    "spark = SparkSession.builder \\\n",
    "    .appName('app_name') \\\n",
    "    .master('local[*]') \\\n",
    "    .config('spark.sql.execution.arrow.pyspark.enabled', True) \\\n",
    "    .config('spark.sql.session.timeZone', 'UTC') \\\n",
    "    .config('spark.driver.memory','10G') \\\n",
    "    .config('spark.ui.showConsoleProgress', True) \\\n",
    "    .config('spark.sql.repl.eagerEval.enabled', True) \\\n",
    "    .getOrCreate()"
   ]
  },
  {
   "cell_type": "code",
   "execution_count": 3,
   "id": "98edd809-b0d8-4814-ae5e-d7139602df38",
   "metadata": {},
   "outputs": [],
   "source": [
    "folder_path = \"DE_CaseStudy_Dataset/Sales_Data/\"\n",
    "\n",
    "valid_month_names = list(month_name[1:])\n",
    "file_name_pattern = re.compile(r\"Sales_(\\w+)_([1-2]\\d{3})\\.csv\")"
   ]
  },
  {
   "cell_type": "code",
   "execution_count": 4,
   "id": "925e86e0-4ed3-465f-ae62-9a742dd23e2c",
   "metadata": {},
   "outputs": [],
   "source": [
    "def is_valid_file_name(file_name):\n",
    "    match = file_name_pattern.match(file_name)\n",
    "    if match:\n",
    "        month, year = match.groups()\n",
    "        return month in valid_month_names and 2000 <= int(year) <= 2100\n",
    "    return False"
   ]
  },
  {
   "cell_type": "code",
   "execution_count": 5,
   "id": "6b055f78-6229-4434-b875-16ae224a788e",
   "metadata": {},
   "outputs": [
    {
     "name": "stdout",
     "output_type": "stream",
     "text": [
      "['books_data.csv', 'Books_rating.csv', 'Liquor_Sales.csv', 'Sales_April_2019.csv', 'Sales_August_2019.csv', 'Sales_December_2019.csv', 'Sales_February_2019.csv', 'Sales_January_2019.csv', 'Sales_July_2019.csv', 'Sales_June_2019.csv', 'Sales_March_2019.csv', 'Sales_May_2019.csv', 'Sales_November_2019.csv', 'Sales_October_2019.csv', 'Sales_September_2019.csv']\n"
     ]
    }
   ],
   "source": [
    "# Get a list of file names in the folder\n",
    "file_names = [f for f in os.listdir(folder_path) if os.path.isfile(os.path.join(folder_path, f))]\n",
    "\n",
    "print(file_names)"
   ]
  },
  {
   "cell_type": "code",
   "execution_count": 6,
   "id": "d36b481b-c6e7-4a3d-ae6f-8c4fa92e22da",
   "metadata": {},
   "outputs": [
    {
     "name": "stdout",
     "output_type": "stream",
     "text": [
      "['Sales_April_2019.csv', 'Sales_August_2019.csv', 'Sales_December_2019.csv', 'Sales_February_2019.csv', 'Sales_January_2019.csv', 'Sales_July_2019.csv', 'Sales_June_2019.csv', 'Sales_March_2019.csv', 'Sales_May_2019.csv', 'Sales_November_2019.csv', 'Sales_October_2019.csv', 'Sales_September_2019.csv']\n"
     ]
    }
   ],
   "source": [
    "# Filter the list of file names to include only valid ones\n",
    "valid_file_names = [f for f in file_names if is_valid_file_name(f)]\n",
    "\n",
    "print(valid_file_names)"
   ]
  },
  {
   "cell_type": "code",
   "execution_count": 7,
   "id": "57d15de9-53ad-4e98-9e8b-912b1a9cbda2",
   "metadata": {},
   "outputs": [],
   "source": [
    "sales_data_df = spark.read \\\n",
    "    .format(\"csv\") \\\n",
    "    .option(\"header\", \"true\") \\\n",
    "    .option(\"inferSchema\", \"true\") \\\n",
    "    .option(\"quote\", \"\\\"\") \\\n",
    "    .option(\"escape\", \"\\\"\") \\\n",
    "    .load([folder_path + f for f in valid_file_names])\n",
    "\n",
    "# sales_data_df.count()"
   ]
  },
  {
   "cell_type": "code",
   "execution_count": 8,
   "id": "948bf1ba-cfb1-4719-96aa-a653a8726ae6",
   "metadata": {},
   "outputs": [],
   "source": [
    "# sales_data_df.show()"
   ]
  },
  {
   "cell_type": "code",
   "execution_count": 9,
   "id": "a91ac310-2745-48af-bce7-df57cd3e5f75",
   "metadata": {},
   "outputs": [],
   "source": [
    "# sales_data_df.describe().show()"
   ]
  },
  {
   "cell_type": "code",
   "execution_count": 10,
   "id": "ce160ad5-9f06-4641-acd4-dfddeeb0160f",
   "metadata": {},
   "outputs": [
    {
     "name": "stdout",
     "output_type": "stream",
     "text": [
      "+--------+--------------------+----------------+----------+-------------------+--------------------+\n",
      "|Order ID|             Product|Quantity Ordered|Price Each|         Order Date|    Purchase Address|\n",
      "+--------+--------------------+----------------+----------+-------------------+--------------------+\n",
      "|  295665|  Macbook Pro Laptop|               1|    1700.0|2019-12-30 00:01:00|136 Church St, Ne...|\n",
      "|  295666|  LG Washing Machine|               1|     600.0|2019-12-29 07:03:00|562 2nd St, New Y...|\n",
      "|  295667|USB-C Charging Cable|               1|     11.95|2019-12-12 18:21:00|277 Main St, New ...|\n",
      "|  295668|    27in FHD Monitor|               1|    149.99|2019-12-22 15:13:00|410 6th St, San F...|\n",
      "|  295669|USB-C Charging Cable|               1|     11.95|2019-12-18 12:38:00|43 Hill St, Atlan...|\n",
      "|  295670|AA Batteries (4-p...|               1|      3.84|2019-12-31 22:58:00|200 Jefferson St,...|\n",
      "|  295671|USB-C Charging Cable|               1|     11.95|2019-12-16 15:10:00|928 12th St, Port...|\n",
      "|  295672|USB-C Charging Cable|               2|     11.95|2019-12-13 09:29:00|813 Hickory St, D...|\n",
      "|  295673|Bose SoundSport H...|               1|     99.99|2019-12-15 23:26:00|718 Wilson St, Da...|\n",
      "|  295674|AAA Batteries (4-...|               4|      2.99|2019-12-28 11:51:00|77 7th St, Dallas...|\n",
      "|  295675|USB-C Charging Cable|               2|     11.95|2019-12-13 13:52:00|594 1st St, San F...|\n",
      "|  295676|     ThinkPad Laptop|               1|    999.99|2019-12-28 17:19:00|410 Lincoln St, L...|\n",
      "|  295677|AA Batteries (4-p...|               2|      3.84|2019-12-20 19:19:00|866 Pine St, Bost...|\n",
      "|  295678|AAA Batteries (4-...|               2|      2.99|2019-12-06 09:38:00|187 Lincoln St, D...|\n",
      "|  295679|USB-C Charging Cable|               1|     11.95|2019-12-25 09:39:00|902 2nd St, Dalla...|\n",
      "|  295680|Lightning Chargin...|               1|     14.95|2019-12-01 14:30:00|338 Main St, Aust...|\n",
      "|  295681|        Google Phone|               1|     600.0|2019-12-25 12:37:00|79 Elm St, Boston...|\n",
      "|  295681|USB-C Charging Cable|               1|     11.95|2019-12-25 12:37:00|79 Elm St, Boston...|\n",
      "|  295681|Bose SoundSport H...|               1|     99.99|2019-12-25 12:37:00|79 Elm St, Boston...|\n",
      "|  295681|    Wired Headphones|               1|     11.99|2019-12-25 12:37:00|79 Elm St, Boston...|\n",
      "+--------+--------------------+----------------+----------+-------------------+--------------------+\n",
      "only showing top 20 rows\n",
      "\n"
     ]
    }
   ],
   "source": [
    "sales_data_df = sales_data_df.withColumn(\"Order Date\", to_timestamp(\"Order Date\", \"MM/dd/yy HH:mm\"))\n",
    "\n",
    "result = sales_data_df.select(\"Order Date\")\n",
    "\n",
    "sales_data_df.show()"
   ]
  },
  {
   "cell_type": "code",
   "execution_count": 11,
   "id": "d9ad6036-aeb1-40b4-8385-7fb0efac5163",
   "metadata": {},
   "outputs": [
    {
     "name": "stdout",
     "output_type": "stream",
     "text": [
      "+--------+--------------------+----------------+----------+-------------------+--------------------+\n",
      "|order_id|             product|quantity_ordered|price_each|         order_date|    purchase_address|\n",
      "+--------+--------------------+----------------+----------+-------------------+--------------------+\n",
      "|  295665|  Macbook Pro Laptop|               1|    1700.0|2019-12-30 00:01:00|136 Church St, Ne...|\n",
      "|  295666|  LG Washing Machine|               1|     600.0|2019-12-29 07:03:00|562 2nd St, New Y...|\n",
      "|  295667|USB-C Charging Cable|               1|     11.95|2019-12-12 18:21:00|277 Main St, New ...|\n",
      "|  295668|    27in FHD Monitor|               1|    149.99|2019-12-22 15:13:00|410 6th St, San F...|\n",
      "|  295669|USB-C Charging Cable|               1|     11.95|2019-12-18 12:38:00|43 Hill St, Atlan...|\n",
      "|  295670|AA Batteries (4-p...|               1|      3.84|2019-12-31 22:58:00|200 Jefferson St,...|\n",
      "|  295671|USB-C Charging Cable|               1|     11.95|2019-12-16 15:10:00|928 12th St, Port...|\n",
      "|  295672|USB-C Charging Cable|               2|     11.95|2019-12-13 09:29:00|813 Hickory St, D...|\n",
      "|  295673|Bose SoundSport H...|               1|     99.99|2019-12-15 23:26:00|718 Wilson St, Da...|\n",
      "|  295674|AAA Batteries (4-...|               4|      2.99|2019-12-28 11:51:00|77 7th St, Dallas...|\n",
      "|  295675|USB-C Charging Cable|               2|     11.95|2019-12-13 13:52:00|594 1st St, San F...|\n",
      "|  295676|     ThinkPad Laptop|               1|    999.99|2019-12-28 17:19:00|410 Lincoln St, L...|\n",
      "|  295677|AA Batteries (4-p...|               2|      3.84|2019-12-20 19:19:00|866 Pine St, Bost...|\n",
      "|  295678|AAA Batteries (4-...|               2|      2.99|2019-12-06 09:38:00|187 Lincoln St, D...|\n",
      "|  295679|USB-C Charging Cable|               1|     11.95|2019-12-25 09:39:00|902 2nd St, Dalla...|\n",
      "|  295680|Lightning Chargin...|               1|     14.95|2019-12-01 14:30:00|338 Main St, Aust...|\n",
      "|  295681|        Google Phone|               1|     600.0|2019-12-25 12:37:00|79 Elm St, Boston...|\n",
      "|  295681|USB-C Charging Cable|               1|     11.95|2019-12-25 12:37:00|79 Elm St, Boston...|\n",
      "|  295681|Bose SoundSport H...|               1|     99.99|2019-12-25 12:37:00|79 Elm St, Boston...|\n",
      "|  295681|    Wired Headphones|               1|     11.99|2019-12-25 12:37:00|79 Elm St, Boston...|\n",
      "+--------+--------------------+----------------+----------+-------------------+--------------------+\n",
      "only showing top 20 rows\n",
      "\n"
     ]
    }
   ],
   "source": [
    "sales_mapped_df = sales_data_df.select(\n",
    "    trim(col(\"Order ID\")).alias(\"order_id\"),\n",
    "    trim(col(\"Product\")).alias(\"product\"),\n",
    "    trim(col(\"Quantity Ordered\")).alias(\"quantity_ordered\"),\n",
    "    trim(col(\"Price Each\")).alias(\"price_each\"),\n",
    "    trim(col(\"Order Date\")).alias(\"order_date\"),\n",
    "    trim(col(\"Purchase Address\")).alias(\"purchase_address\")\n",
    ")\n",
    "\n",
    "sales_mapped_df.show()"
   ]
  },
  {
   "cell_type": "code",
   "execution_count": 12,
   "id": "c66814a0-8985-441d-a1c2-bc134d3813f3",
   "metadata": {},
   "outputs": [],
   "source": [
    "sales_df_cleaned = sales_mapped_df.na.drop(\"any\")"
   ]
  },
  {
   "cell_type": "code",
   "execution_count": 13,
   "id": "c826524b-4b79-4126-8911-2c4389aadbf0",
   "metadata": {},
   "outputs": [
    {
     "name": "stdout",
     "output_type": "stream",
     "text": [
      "[Column<'(order_id IS NULL) AS order_id'>, Column<'(product IS NULL) AS product'>, Column<'(quantity_ordered IS NULL) AS quantity_ordered'>, Column<'(price_each IS NULL) AS price_each'>, Column<'(order_date IS NULL) AS order_date'>, Column<'(purchase_address IS NULL) AS purchase_address'>]\n"
     ]
    }
   ],
   "source": [
    "# Check for nulls in each row\n",
    "columns_with_nulls = [col(column).isNull().alias(column) for column in sales_df_cleaned.columns]\n",
    "\n",
    "print(columns_with_nulls)"
   ]
  },
  {
   "cell_type": "code",
   "execution_count": 14,
   "id": "e2d61b94-1089-45e5-8d1d-30fc91b7d0aa",
   "metadata": {},
   "outputs": [
    {
     "name": "stdout",
     "output_type": "stream",
     "text": [
      "+--------+-------+----------------+----------+----------+----------------+-------------+\n",
      "|order_id|product|quantity_ordered|price_each|order_date|purchase_address|contains_null|\n",
      "+--------+-------+----------------+----------+----------+----------------+-------------+\n",
      "+--------+-------+----------------+----------+----------+----------------+-------------+\n",
      "\n",
      "+--------+--------------------+----------------+----------+-------------------+--------------------+\n",
      "|order_id|             product|quantity_ordered|price_each|         order_date|    purchase_address|\n",
      "+--------+--------------------+----------------+----------+-------------------+--------------------+\n",
      "|  295665|  Macbook Pro Laptop|               1|    1700.0|2019-12-30 00:01:00|136 Church St, Ne...|\n",
      "|  295666|  LG Washing Machine|               1|     600.0|2019-12-29 07:03:00|562 2nd St, New Y...|\n",
      "|  295667|USB-C Charging Cable|               1|     11.95|2019-12-12 18:21:00|277 Main St, New ...|\n",
      "|  295668|    27in FHD Monitor|               1|    149.99|2019-12-22 15:13:00|410 6th St, San F...|\n",
      "|  295669|USB-C Charging Cable|               1|     11.95|2019-12-18 12:38:00|43 Hill St, Atlan...|\n",
      "|  295670|AA Batteries (4-p...|               1|      3.84|2019-12-31 22:58:00|200 Jefferson St,...|\n",
      "|  295671|USB-C Charging Cable|               1|     11.95|2019-12-16 15:10:00|928 12th St, Port...|\n",
      "|  295672|USB-C Charging Cable|               2|     11.95|2019-12-13 09:29:00|813 Hickory St, D...|\n",
      "|  295673|Bose SoundSport H...|               1|     99.99|2019-12-15 23:26:00|718 Wilson St, Da...|\n",
      "|  295674|AAA Batteries (4-...|               4|      2.99|2019-12-28 11:51:00|77 7th St, Dallas...|\n",
      "|  295675|USB-C Charging Cable|               2|     11.95|2019-12-13 13:52:00|594 1st St, San F...|\n",
      "|  295676|     ThinkPad Laptop|               1|    999.99|2019-12-28 17:19:00|410 Lincoln St, L...|\n",
      "|  295677|AA Batteries (4-p...|               2|      3.84|2019-12-20 19:19:00|866 Pine St, Bost...|\n",
      "|  295678|AAA Batteries (4-...|               2|      2.99|2019-12-06 09:38:00|187 Lincoln St, D...|\n",
      "|  295679|USB-C Charging Cable|               1|     11.95|2019-12-25 09:39:00|902 2nd St, Dalla...|\n",
      "|  295680|Lightning Chargin...|               1|     14.95|2019-12-01 14:30:00|338 Main St, Aust...|\n",
      "|  295681|        Google Phone|               1|     600.0|2019-12-25 12:37:00|79 Elm St, Boston...|\n",
      "|  295681|USB-C Charging Cable|               1|     11.95|2019-12-25 12:37:00|79 Elm St, Boston...|\n",
      "|  295681|Bose SoundSport H...|               1|     99.99|2019-12-25 12:37:00|79 Elm St, Boston...|\n",
      "|  295681|    Wired Headphones|               1|     11.99|2019-12-25 12:37:00|79 Elm St, Boston...|\n",
      "+--------+--------------------+----------------+----------+-------------------+--------------------+\n",
      "only showing top 20 rows\n",
      "\n"
     ]
    }
   ],
   "source": [
    "df_with_nulls = sales_df_cleaned.withColumn(\"contains_null\", lit(0))\n",
    "for column_with_nulls in columns_with_nulls:\n",
    "    df_with_nulls = df_with_nulls.withColumn(\"contains_null\", col(\"contains_null\").cast(\"boolean\") | column_with_nulls)\n",
    "\n",
    "rows_with_nulls = df_with_nulls.filter(\n",
    "    (col(\"contains_null\") == True) \n",
    ")\n",
    "\n",
    "rows_with_nulls.show()\n",
    "\n",
    "sales_df_cleaned = df_with_nulls.filter(\n",
    "    (col(\"contains_null\") == False)  \n",
    ")\n",
    "\n",
    "sales_df_cleaned = sales_df_cleaned.drop(\"contains_null\")\n",
    "\n",
    "sales_df_cleaned.show()"
   ]
  },
  {
   "cell_type": "code",
   "execution_count": 15,
   "id": "8b4e5cd1-8c3a-4ad1-a424-0a2b9d79f0ff",
   "metadata": {},
   "outputs": [],
   "source": [
    "# Split the address into components\n",
    "sales_df_cleaned = sales_df_cleaned.withColumn(\"address_components\", split(sales_df_cleaned[\"purchase_address\"], \", \"))\n",
    "\n",
    "# Extract parts of the address\n",
    "sales_df_cleaned = sales_df_cleaned.withColumn(\"street\", sales_df_cleaned[\"address_components\"][0]) \\\n",
    "    .withColumn(\"city\", sales_df_cleaned[\"address_components\"][1]) \\\n",
    "    .withColumn(\"state_zip\", sales_df_cleaned[\"address_components\"][2])\n",
    "\n",
    "sales_df_cleaned = sales_df_cleaned.withColumn(\"city_state\", concat_ws(\", \", sales_df_cleaned[\"city\"], sales_df_cleaned[\"state_zip\"]))\n",
    "\n",
    "sales_df_cleaned = sales_df_cleaned.withColumn(\"state\", split(sales_df_cleaned[\"state_zip\"], \" \")[0])"
   ]
  },
  {
   "cell_type": "code",
   "execution_count": 16,
   "id": "47346062-e02f-4114-a1e2-7fa24fcaf1c8",
   "metadata": {},
   "outputs": [
    {
     "name": "stdout",
     "output_type": "stream",
     "text": [
      "+--------+--------------------+----------------+----------+-------------------+--------------------+--------------------+----------------+-------------+---------+--------------------+-----+\n",
      "|order_id|             product|quantity_ordered|price_each|         order_date|    purchase_address|  address_components|          street|         city|state_zip|          city_state|state|\n",
      "+--------+--------------------+----------------+----------+-------------------+--------------------+--------------------+----------------+-------------+---------+--------------------+-----+\n",
      "|  295665|  Macbook Pro Laptop|               1|    1700.0|2019-12-30 00:01:00|136 Church St, Ne...|[136 Church St, N...|   136 Church St|New York City| NY 10001|New York City, NY...|   NY|\n",
      "|  295666|  LG Washing Machine|               1|     600.0|2019-12-29 07:03:00|562 2nd St, New Y...|[562 2nd St, New ...|      562 2nd St|New York City| NY 10001|New York City, NY...|   NY|\n",
      "|  295667|USB-C Charging Cable|               1|     11.95|2019-12-12 18:21:00|277 Main St, New ...|[277 Main St, New...|     277 Main St|New York City| NY 10001|New York City, NY...|   NY|\n",
      "|  295668|    27in FHD Monitor|               1|    149.99|2019-12-22 15:13:00|410 6th St, San F...|[410 6th St, San ...|      410 6th St|San Francisco| CA 94016|San Francisco, CA...|   CA|\n",
      "|  295669|USB-C Charging Cable|               1|     11.95|2019-12-18 12:38:00|43 Hill St, Atlan...|[43 Hill St, Atla...|      43 Hill St|      Atlanta| GA 30301|   Atlanta, GA 30301|   GA|\n",
      "|  295670|AA Batteries (4-p...|               1|      3.84|2019-12-31 22:58:00|200 Jefferson St,...|[200 Jefferson St...|200 Jefferson St|New York City| NY 10001|New York City, NY...|   NY|\n",
      "|  295671|USB-C Charging Cable|               1|     11.95|2019-12-16 15:10:00|928 12th St, Port...|[928 12th St, Por...|     928 12th St|     Portland| OR 97035|  Portland, OR 97035|   OR|\n",
      "|  295672|USB-C Charging Cable|               2|     11.95|2019-12-13 09:29:00|813 Hickory St, D...|[813 Hickory St, ...|  813 Hickory St|       Dallas| TX 75001|    Dallas, TX 75001|   TX|\n",
      "|  295673|Bose SoundSport H...|               1|     99.99|2019-12-15 23:26:00|718 Wilson St, Da...|[718 Wilson St, D...|   718 Wilson St|       Dallas| TX 75001|    Dallas, TX 75001|   TX|\n",
      "|  295674|AAA Batteries (4-...|               4|      2.99|2019-12-28 11:51:00|77 7th St, Dallas...|[77 7th St, Dalla...|       77 7th St|       Dallas| TX 75001|    Dallas, TX 75001|   TX|\n",
      "|  295675|USB-C Charging Cable|               2|     11.95|2019-12-13 13:52:00|594 1st St, San F...|[594 1st St, San ...|      594 1st St|San Francisco| CA 94016|San Francisco, CA...|   CA|\n",
      "|  295676|     ThinkPad Laptop|               1|    999.99|2019-12-28 17:19:00|410 Lincoln St, L...|[410 Lincoln St, ...|  410 Lincoln St|  Los Angeles| CA 90001|Los Angeles, CA 9...|   CA|\n",
      "|  295677|AA Batteries (4-p...|               2|      3.84|2019-12-20 19:19:00|866 Pine St, Bost...|[866 Pine St, Bos...|     866 Pine St|       Boston| MA 02215|    Boston, MA 02215|   MA|\n",
      "|  295678|AAA Batteries (4-...|               2|      2.99|2019-12-06 09:38:00|187 Lincoln St, D...|[187 Lincoln St, ...|  187 Lincoln St|       Dallas| TX 75001|    Dallas, TX 75001|   TX|\n",
      "|  295679|USB-C Charging Cable|               1|     11.95|2019-12-25 09:39:00|902 2nd St, Dalla...|[902 2nd St, Dall...|      902 2nd St|       Dallas| TX 75001|    Dallas, TX 75001|   TX|\n",
      "|  295680|Lightning Chargin...|               1|     14.95|2019-12-01 14:30:00|338 Main St, Aust...|[338 Main St, Aus...|     338 Main St|       Austin| TX 73301|    Austin, TX 73301|   TX|\n",
      "|  295681|        Google Phone|               1|     600.0|2019-12-25 12:37:00|79 Elm St, Boston...|[79 Elm St, Bosto...|       79 Elm St|       Boston| MA 02215|    Boston, MA 02215|   MA|\n",
      "|  295681|USB-C Charging Cable|               1|     11.95|2019-12-25 12:37:00|79 Elm St, Boston...|[79 Elm St, Bosto...|       79 Elm St|       Boston| MA 02215|    Boston, MA 02215|   MA|\n",
      "|  295681|Bose SoundSport H...|               1|     99.99|2019-12-25 12:37:00|79 Elm St, Boston...|[79 Elm St, Bosto...|       79 Elm St|       Boston| MA 02215|    Boston, MA 02215|   MA|\n",
      "|  295681|    Wired Headphones|               1|     11.99|2019-12-25 12:37:00|79 Elm St, Boston...|[79 Elm St, Bosto...|       79 Elm St|       Boston| MA 02215|    Boston, MA 02215|   MA|\n",
      "+--------+--------------------+----------------+----------+-------------------+--------------------+--------------------+----------------+-------------+---------+--------------------+-----+\n",
      "only showing top 20 rows\n",
      "\n"
     ]
    }
   ],
   "source": [
    "sales_df_cleaned.show()"
   ]
  },
  {
   "cell_type": "code",
   "execution_count": 17,
   "id": "579e5102-66e8-41d4-a17d-5b65d799bd1c",
   "metadata": {},
   "outputs": [],
   "source": [
    "state_abbr_to_full_name = {\n",
    "    \"AL\": \"Alabama\", \"AK\": \"Alaska\", \"AZ\": \"Arizona\", \"AR\": \"Arkansas\",\n",
    "    \"CA\": \"California\", \"CO\": \"Colorado\", \"CT\": \"Connecticut\", \"DE\": \"Delaware\",\n",
    "    \"FL\": \"Florida\", \"GA\": \"Georgia\", \"HI\": \"Hawaii\", \"ID\": \"Idaho\",\n",
    "    \"IL\": \"Illinois\", \"IN\": \"Indiana\", \"IA\": \"Iowa\", \"KS\": \"Kansas\",\n",
    "    \"KY\": \"Kentucky\", \"LA\": \"Louisiana\", \"ME\": \"Maine\", \"MD\": \"Maryland\",\n",
    "    \"MA\": \"Massachusetts\", \"MI\": \"Michigan\", \"MN\": \"Minnesota\", \"MS\": \"Mississippi\",\n",
    "    \"MO\": \"Missouri\", \"MT\": \"Montana\", \"NE\": \"Nebraska\", \"NV\": \"Nevada\",\n",
    "    \"NH\": \"New Hampshire\", \"NJ\": \"New Jersey\", \"NM\": \"New Mexico\", \"NY\": \"New York\",\n",
    "    \"NC\": \"North Carolina\", \"ND\": \"North Dakota\", \"OH\": \"Ohio\", \"OK\": \"Oklahoma\",\n",
    "    \"OR\": \"Oregon\", \"PA\": \"Pennsylvania\", \"RI\": \"Rhode Island\", \"SC\": \"South Carolina\",\n",
    "    \"SD\": \"South Dakota\", \"TN\": \"Tennessee\", \"TX\": \"Texas\", \"UT\": \"Utah\",\n",
    "    \"VT\": \"Vermont\", \"VA\": \"Virginia\", \"WA\": \"Washington\", \"WV\": \"West Virginia\",\n",
    "    \"WI\": \"Wisconsin\", \"WY\": \"Wyoming\"\n",
    "}\n"
   ]
  },
  {
   "cell_type": "code",
   "execution_count": 18,
   "id": "aad538bb-4fd4-458a-850d-4a9085da25a0",
   "metadata": {},
   "outputs": [
    {
     "name": "stdout",
     "output_type": "stream",
     "text": [
      "+--------+--------------------+----------------+----------+-------------------+--------------------+--------------------+----------------+-------------+---------+--------------------+-----+---------------+\n",
      "|order_id|             product|quantity_ordered|price_each|         order_date|    purchase_address|  address_components|          street|         city|state_zip|          city_state|state|state_full_name|\n",
      "+--------+--------------------+----------------+----------+-------------------+--------------------+--------------------+----------------+-------------+---------+--------------------+-----+---------------+\n",
      "|  295665|  Macbook Pro Laptop|               1|    1700.0|2019-12-30 00:01:00|136 Church St, Ne...|[136 Church St, N...|   136 Church St|New York City| NY 10001|New York City, NY...|   NY|       New York|\n",
      "|  295666|  LG Washing Machine|               1|     600.0|2019-12-29 07:03:00|562 2nd St, New Y...|[562 2nd St, New ...|      562 2nd St|New York City| NY 10001|New York City, NY...|   NY|       New York|\n",
      "|  295667|USB-C Charging Cable|               1|     11.95|2019-12-12 18:21:00|277 Main St, New ...|[277 Main St, New...|     277 Main St|New York City| NY 10001|New York City, NY...|   NY|       New York|\n",
      "|  295668|    27in FHD Monitor|               1|    149.99|2019-12-22 15:13:00|410 6th St, San F...|[410 6th St, San ...|      410 6th St|San Francisco| CA 94016|San Francisco, CA...|   CA|     California|\n",
      "|  295669|USB-C Charging Cable|               1|     11.95|2019-12-18 12:38:00|43 Hill St, Atlan...|[43 Hill St, Atla...|      43 Hill St|      Atlanta| GA 30301|   Atlanta, GA 30301|   GA|        Georgia|\n",
      "|  295670|AA Batteries (4-p...|               1|      3.84|2019-12-31 22:58:00|200 Jefferson St,...|[200 Jefferson St...|200 Jefferson St|New York City| NY 10001|New York City, NY...|   NY|       New York|\n",
      "|  295671|USB-C Charging Cable|               1|     11.95|2019-12-16 15:10:00|928 12th St, Port...|[928 12th St, Por...|     928 12th St|     Portland| OR 97035|  Portland, OR 97035|   OR|         Oregon|\n",
      "|  295672|USB-C Charging Cable|               2|     11.95|2019-12-13 09:29:00|813 Hickory St, D...|[813 Hickory St, ...|  813 Hickory St|       Dallas| TX 75001|    Dallas, TX 75001|   TX|          Texas|\n",
      "|  295673|Bose SoundSport H...|               1|     99.99|2019-12-15 23:26:00|718 Wilson St, Da...|[718 Wilson St, D...|   718 Wilson St|       Dallas| TX 75001|    Dallas, TX 75001|   TX|          Texas|\n",
      "|  295674|AAA Batteries (4-...|               4|      2.99|2019-12-28 11:51:00|77 7th St, Dallas...|[77 7th St, Dalla...|       77 7th St|       Dallas| TX 75001|    Dallas, TX 75001|   TX|          Texas|\n",
      "|  295675|USB-C Charging Cable|               2|     11.95|2019-12-13 13:52:00|594 1st St, San F...|[594 1st St, San ...|      594 1st St|San Francisco| CA 94016|San Francisco, CA...|   CA|     California|\n",
      "|  295676|     ThinkPad Laptop|               1|    999.99|2019-12-28 17:19:00|410 Lincoln St, L...|[410 Lincoln St, ...|  410 Lincoln St|  Los Angeles| CA 90001|Los Angeles, CA 9...|   CA|     California|\n",
      "|  295677|AA Batteries (4-p...|               2|      3.84|2019-12-20 19:19:00|866 Pine St, Bost...|[866 Pine St, Bos...|     866 Pine St|       Boston| MA 02215|    Boston, MA 02215|   MA|  Massachusetts|\n",
      "|  295678|AAA Batteries (4-...|               2|      2.99|2019-12-06 09:38:00|187 Lincoln St, D...|[187 Lincoln St, ...|  187 Lincoln St|       Dallas| TX 75001|    Dallas, TX 75001|   TX|          Texas|\n",
      "|  295679|USB-C Charging Cable|               1|     11.95|2019-12-25 09:39:00|902 2nd St, Dalla...|[902 2nd St, Dall...|      902 2nd St|       Dallas| TX 75001|    Dallas, TX 75001|   TX|          Texas|\n",
      "|  295680|Lightning Chargin...|               1|     14.95|2019-12-01 14:30:00|338 Main St, Aust...|[338 Main St, Aus...|     338 Main St|       Austin| TX 73301|    Austin, TX 73301|   TX|          Texas|\n",
      "|  295681|        Google Phone|               1|     600.0|2019-12-25 12:37:00|79 Elm St, Boston...|[79 Elm St, Bosto...|       79 Elm St|       Boston| MA 02215|    Boston, MA 02215|   MA|  Massachusetts|\n",
      "|  295681|USB-C Charging Cable|               1|     11.95|2019-12-25 12:37:00|79 Elm St, Boston...|[79 Elm St, Bosto...|       79 Elm St|       Boston| MA 02215|    Boston, MA 02215|   MA|  Massachusetts|\n",
      "|  295681|Bose SoundSport H...|               1|     99.99|2019-12-25 12:37:00|79 Elm St, Boston...|[79 Elm St, Bosto...|       79 Elm St|       Boston| MA 02215|    Boston, MA 02215|   MA|  Massachusetts|\n",
      "|  295681|    Wired Headphones|               1|     11.99|2019-12-25 12:37:00|79 Elm St, Boston...|[79 Elm St, Bosto...|       79 Elm St|       Boston| MA 02215|    Boston, MA 02215|   MA|  Massachusetts|\n",
      "+--------+--------------------+----------------+----------+-------------------+--------------------+--------------------+----------------+-------------+---------+--------------------+-----+---------------+\n",
      "only showing top 20 rows\n",
      "\n"
     ]
    }
   ],
   "source": [
    "from pyspark.sql.functions import create_map, col, lit\n",
    "from itertools import chain\n",
    "\n",
    "state_map = create_map([lit(x) for x in chain(*state_abbr_to_full_name.items())])\n",
    "\n",
    "sales_df_cleaned = sales_df_cleaned.withColumn(\"state_full_name\", state_map[col(\"state\")])\n",
    "\n",
    "sales_df_cleaned.show()"
   ]
  },
  {
   "cell_type": "code",
   "execution_count": 19,
   "id": "4307b434-33dd-49f2-9350-fa53a7e94bdd",
   "metadata": {},
   "outputs": [
    {
     "name": "stdout",
     "output_type": "stream",
     "text": [
      "+--------+--------------------+----------------+----------+-------------------+--------------------+--------------------+----------------+-------------+---------+--------------------+-----+---------------+----------+-----------+---------+----------+------------+------------+\n",
      "|order_id|             product|quantity_ordered|price_each|         order_date|    purchase_address|  address_components|          street|         city|state_zip|          city_state|state|state_full_name|order_year|order_month|order_day|order_hour|order_minute|order_second|\n",
      "+--------+--------------------+----------------+----------+-------------------+--------------------+--------------------+----------------+-------------+---------+--------------------+-----+---------------+----------+-----------+---------+----------+------------+------------+\n",
      "|  295665|  Macbook Pro Laptop|               1|    1700.0|2019-12-30 00:01:00|136 Church St, Ne...|[136 Church St, N...|   136 Church St|New York City| NY 10001|New York City, NY...|   NY|       New York|      2019|         12|       30|         0|           1|           0|\n",
      "|  295666|  LG Washing Machine|               1|     600.0|2019-12-29 07:03:00|562 2nd St, New Y...|[562 2nd St, New ...|      562 2nd St|New York City| NY 10001|New York City, NY...|   NY|       New York|      2019|         12|       29|         7|           3|           0|\n",
      "|  295667|USB-C Charging Cable|               1|     11.95|2019-12-12 18:21:00|277 Main St, New ...|[277 Main St, New...|     277 Main St|New York City| NY 10001|New York City, NY...|   NY|       New York|      2019|         12|       12|        18|          21|           0|\n",
      "|  295668|    27in FHD Monitor|               1|    149.99|2019-12-22 15:13:00|410 6th St, San F...|[410 6th St, San ...|      410 6th St|San Francisco| CA 94016|San Francisco, CA...|   CA|     California|      2019|         12|       22|        15|          13|           0|\n",
      "|  295669|USB-C Charging Cable|               1|     11.95|2019-12-18 12:38:00|43 Hill St, Atlan...|[43 Hill St, Atla...|      43 Hill St|      Atlanta| GA 30301|   Atlanta, GA 30301|   GA|        Georgia|      2019|         12|       18|        12|          38|           0|\n",
      "|  295670|AA Batteries (4-p...|               1|      3.84|2019-12-31 22:58:00|200 Jefferson St,...|[200 Jefferson St...|200 Jefferson St|New York City| NY 10001|New York City, NY...|   NY|       New York|      2019|         12|       31|        22|          58|           0|\n",
      "|  295671|USB-C Charging Cable|               1|     11.95|2019-12-16 15:10:00|928 12th St, Port...|[928 12th St, Por...|     928 12th St|     Portland| OR 97035|  Portland, OR 97035|   OR|         Oregon|      2019|         12|       16|        15|          10|           0|\n",
      "|  295672|USB-C Charging Cable|               2|     11.95|2019-12-13 09:29:00|813 Hickory St, D...|[813 Hickory St, ...|  813 Hickory St|       Dallas| TX 75001|    Dallas, TX 75001|   TX|          Texas|      2019|         12|       13|         9|          29|           0|\n",
      "|  295673|Bose SoundSport H...|               1|     99.99|2019-12-15 23:26:00|718 Wilson St, Da...|[718 Wilson St, D...|   718 Wilson St|       Dallas| TX 75001|    Dallas, TX 75001|   TX|          Texas|      2019|         12|       15|        23|          26|           0|\n",
      "|  295674|AAA Batteries (4-...|               4|      2.99|2019-12-28 11:51:00|77 7th St, Dallas...|[77 7th St, Dalla...|       77 7th St|       Dallas| TX 75001|    Dallas, TX 75001|   TX|          Texas|      2019|         12|       28|        11|          51|           0|\n",
      "|  295675|USB-C Charging Cable|               2|     11.95|2019-12-13 13:52:00|594 1st St, San F...|[594 1st St, San ...|      594 1st St|San Francisco| CA 94016|San Francisco, CA...|   CA|     California|      2019|         12|       13|        13|          52|           0|\n",
      "|  295676|     ThinkPad Laptop|               1|    999.99|2019-12-28 17:19:00|410 Lincoln St, L...|[410 Lincoln St, ...|  410 Lincoln St|  Los Angeles| CA 90001|Los Angeles, CA 9...|   CA|     California|      2019|         12|       28|        17|          19|           0|\n",
      "|  295677|AA Batteries (4-p...|               2|      3.84|2019-12-20 19:19:00|866 Pine St, Bost...|[866 Pine St, Bos...|     866 Pine St|       Boston| MA 02215|    Boston, MA 02215|   MA|  Massachusetts|      2019|         12|       20|        19|          19|           0|\n",
      "|  295678|AAA Batteries (4-...|               2|      2.99|2019-12-06 09:38:00|187 Lincoln St, D...|[187 Lincoln St, ...|  187 Lincoln St|       Dallas| TX 75001|    Dallas, TX 75001|   TX|          Texas|      2019|         12|        6|         9|          38|           0|\n",
      "|  295679|USB-C Charging Cable|               1|     11.95|2019-12-25 09:39:00|902 2nd St, Dalla...|[902 2nd St, Dall...|      902 2nd St|       Dallas| TX 75001|    Dallas, TX 75001|   TX|          Texas|      2019|         12|       25|         9|          39|           0|\n",
      "|  295680|Lightning Chargin...|               1|     14.95|2019-12-01 14:30:00|338 Main St, Aust...|[338 Main St, Aus...|     338 Main St|       Austin| TX 73301|    Austin, TX 73301|   TX|          Texas|      2019|         12|        1|        14|          30|           0|\n",
      "|  295681|        Google Phone|               1|     600.0|2019-12-25 12:37:00|79 Elm St, Boston...|[79 Elm St, Bosto...|       79 Elm St|       Boston| MA 02215|    Boston, MA 02215|   MA|  Massachusetts|      2019|         12|       25|        12|          37|           0|\n",
      "|  295681|USB-C Charging Cable|               1|     11.95|2019-12-25 12:37:00|79 Elm St, Boston...|[79 Elm St, Bosto...|       79 Elm St|       Boston| MA 02215|    Boston, MA 02215|   MA|  Massachusetts|      2019|         12|       25|        12|          37|           0|\n",
      "|  295681|Bose SoundSport H...|               1|     99.99|2019-12-25 12:37:00|79 Elm St, Boston...|[79 Elm St, Bosto...|       79 Elm St|       Boston| MA 02215|    Boston, MA 02215|   MA|  Massachusetts|      2019|         12|       25|        12|          37|           0|\n",
      "|  295681|    Wired Headphones|               1|     11.99|2019-12-25 12:37:00|79 Elm St, Boston...|[79 Elm St, Bosto...|       79 Elm St|       Boston| MA 02215|    Boston, MA 02215|   MA|  Massachusetts|      2019|         12|       25|        12|          37|           0|\n",
      "+--------+--------------------+----------------+----------+-------------------+--------------------+--------------------+----------------+-------------+---------+--------------------+-----+---------------+----------+-----------+---------+----------+------------+------------+\n",
      "only showing top 20 rows\n",
      "\n"
     ]
    }
   ],
   "source": [
    "sales_df_cleaned = sales_df_cleaned.withColumn(\"order_year\", year(\"order_date\"))\n",
    "sales_df_cleaned = sales_df_cleaned.withColumn(\"order_month\", month(\"order_date\"))\n",
    "sales_df_cleaned = sales_df_cleaned.withColumn(\"order_day\", dayofmonth(\"order_date\"))\n",
    "sales_df_cleaned = sales_df_cleaned.withColumn(\"order_hour\", hour(\"order_date\"))\n",
    "sales_df_cleaned = sales_df_cleaned.withColumn(\"order_minute\", minute(\"order_date\"))\n",
    "sales_df_cleaned = sales_df_cleaned.withColumn(\"order_second\", second(\"order_date\"))\n",
    "\n",
    "sales_df_cleaned.show()"
   ]
  },
  {
   "cell_type": "code",
   "execution_count": 20,
   "id": "0788792c-4239-417d-a180-54665d1016b4",
   "metadata": {},
   "outputs": [
    {
     "name": "stdout",
     "output_type": "stream",
     "text": [
      "root\n",
      " |-- order_id: string (nullable = true)\n",
      " |-- product: string (nullable = true)\n",
      " |-- quantity_ordered: string (nullable = true)\n",
      " |-- price_each: string (nullable = true)\n",
      " |-- order_date: string (nullable = true)\n",
      " |-- purchase_address: string (nullable = true)\n",
      " |-- address_components: array (nullable = true)\n",
      " |    |-- element: string (containsNull = false)\n",
      " |-- street: string (nullable = true)\n",
      " |-- city: string (nullable = true)\n",
      " |-- state_zip: string (nullable = true)\n",
      " |-- city_state: string (nullable = false)\n",
      " |-- state: string (nullable = true)\n",
      " |-- state_full_name: string (nullable = true)\n",
      " |-- order_year: integer (nullable = true)\n",
      " |-- order_month: integer (nullable = true)\n",
      " |-- order_day: integer (nullable = true)\n",
      " |-- order_hour: integer (nullable = true)\n",
      " |-- order_minute: integer (nullable = true)\n",
      " |-- order_second: integer (nullable = true)\n",
      "\n"
     ]
    }
   ],
   "source": [
    "sales_df_cleaned.printSchema()"
   ]
  },
  {
   "cell_type": "code",
   "execution_count": 21,
   "id": "d332ebea-b12d-4d8c-a3a1-0c7c7a21729b",
   "metadata": {},
   "outputs": [],
   "source": [
    "from pyspark.ml.feature import Tokenizer, StopWordsRemover, HashingTF, IDF, VectorAssembler\n",
    "\n",
    "tokenizer = Tokenizer(inputCol=\"product\", outputCol=\"product_words\")\n",
    "tokenizedTrain = tokenizer.transform(sales_df_cleaned)"
   ]
  },
  {
   "cell_type": "code",
   "execution_count": 22,
   "id": "44986b71-1f46-4847-b00c-48fc6913174f",
   "metadata": {},
   "outputs": [],
   "source": [
    "swr = StopWordsRemover(inputCol=tokenizer.getOutputCol(), \n",
    "                       outputCol=\"product_words_insightful_words\")\n",
    "sales_df_cleaned = swr.transform(tokenizedTrain)"
   ]
  },
  {
   "cell_type": "code",
   "execution_count": 23,
   "id": "a053b8c7-b0ec-4494-9f2a-0ababdbf841e",
   "metadata": {
    "scrolled": true
   },
   "outputs": [
    {
     "name": "stdout",
     "output_type": "stream",
     "text": [
      "+--------+--------------------+----------------+----------+-------------------+--------------------------------------+----------------------------------------+-------------+-------------+---------+-----------------------+-----+---------------+----------+-----------+---------+----------+------------+------------+------------------------+------------------------------+\n",
      "|order_id|product             |quantity_ordered|price_each|order_date         |purchase_address                      |address_components                      |street       |city         |state_zip|city_state             |state|state_full_name|order_year|order_month|order_day|order_hour|order_minute|order_second|product_words           |product_words_insightful_words|\n",
      "+--------+--------------------+----------------+----------+-------------------+--------------------------------------+----------------------------------------+-------------+-------------+---------+-----------------------+-----+---------------+----------+-----------+---------+----------+------------+------------+------------------------+------------------------------+\n",
      "|295665  |Macbook Pro Laptop  |1               |1700.0    |2019-12-30 00:01:00|136 Church St, New York City, NY 10001|[136 Church St, New York City, NY 10001]|136 Church St|New York City|NY 10001 |New York City, NY 10001|NY   |New York       |2019      |12         |30       |0         |1           |0           |[macbook, pro, laptop]  |[macbook, pro, laptop]        |\n",
      "|295666  |LG Washing Machine  |1               |600.0     |2019-12-29 07:03:00|562 2nd St, New York City, NY 10001   |[562 2nd St, New York City, NY 10001]   |562 2nd St   |New York City|NY 10001 |New York City, NY 10001|NY   |New York       |2019      |12         |29       |7         |3           |0           |[lg, washing, machine]  |[lg, washing, machine]        |\n",
      "|295667  |USB-C Charging Cable|1               |11.95     |2019-12-12 18:21:00|277 Main St, New York City, NY 10001  |[277 Main St, New York City, NY 10001]  |277 Main St  |New York City|NY 10001 |New York City, NY 10001|NY   |New York       |2019      |12         |12       |18        |21          |0           |[usb-c, charging, cable]|[usb-c, charging, cable]      |\n",
      "|295668  |27in FHD Monitor    |1               |149.99    |2019-12-22 15:13:00|410 6th St, San Francisco, CA 94016   |[410 6th St, San Francisco, CA 94016]   |410 6th St   |San Francisco|CA 94016 |San Francisco, CA 94016|CA   |California     |2019      |12         |22       |15        |13          |0           |[27in, fhd, monitor]    |[27in, fhd, monitor]          |\n",
      "|295669  |USB-C Charging Cable|1               |11.95     |2019-12-18 12:38:00|43 Hill St, Atlanta, GA 30301         |[43 Hill St, Atlanta, GA 30301]         |43 Hill St   |Atlanta      |GA 30301 |Atlanta, GA 30301      |GA   |Georgia        |2019      |12         |18       |12        |38          |0           |[usb-c, charging, cable]|[usb-c, charging, cable]      |\n",
      "+--------+--------------------+----------------+----------+-------------------+--------------------------------------+----------------------------------------+-------------+-------------+---------+-----------------------+-----+---------------+----------+-----------+---------+----------+------------+------------+------------------------+------------------------------+\n",
      "only showing top 5 rows\n",
      "\n"
     ]
    }
   ],
   "source": [
    "sales_df_cleaned.show(truncate= False, n=5)"
   ]
  },
  {
   "cell_type": "code",
   "execution_count": 24,
   "id": "b4e9803f-1de0-46bf-a56b-a1a1f7b46438",
   "metadata": {},
   "outputs": [],
   "source": [
    "from transformers import BertModel, BertTokenizer\n",
    "import torch"
   ]
  },
  {
   "cell_type": "code",
   "execution_count": 25,
   "id": "8714464f-63b6-4f32-ba25-a552dea38ac2",
   "metadata": {},
   "outputs": [],
   "source": [
    "model_name = \"bert-base-uncased\"\n",
    "tokenizer = BertTokenizer.from_pretrained(model_name)\n",
    "model = BertModel.from_pretrained(model_name)"
   ]
  },
  {
   "cell_type": "code",
   "execution_count": 26,
   "id": "9383effc-76d0-48fe-803c-8888fc3829ee",
   "metadata": {},
   "outputs": [],
   "source": [
    "def get_bert_embeddings(product_name):\n",
    "    tokens = tokenizer.encode(product_name, add_special_tokens=True)\n",
    "    input_ids = torch.tensor(tokens).unsqueeze(0)\n",
    "    with torch.no_grad():\n",
    "        outputs = model(input_ids)\n",
    "        embeddings = outputs.last_hidden_state.mean(dim=1).squeeze().tolist()\n",
    "    return embeddings\n"
   ]
  },
  {
   "cell_type": "code",
   "execution_count": 27,
   "id": "843b731f-9caa-413f-9b20-a495390272e2",
   "metadata": {},
   "outputs": [],
   "source": [
    "get_bert_embeddings_udf = udf(get_bert_embeddings)"
   ]
  },
  {
   "cell_type": "code",
   "execution_count": 28,
   "id": "7f281b90-d36c-4632-8532-d671669e288d",
   "metadata": {},
   "outputs": [],
   "source": [
    "df_with_embeddings = sales_df_cleaned.withColumn(\"bert_embeddings\", get_bert_embeddings_udf(\"product\"))"
   ]
  },
  {
   "cell_type": "code",
   "execution_count": 29,
   "id": "29c49ad0-4952-44ba-8fca-f370adb84d7c",
   "metadata": {},
   "outputs": [],
   "source": [
    "from pyspark.ml.linalg import Vectors, VectorUDT\n",
    "\n",
    "from pyspark.sql.functions import udf\n",
    "from pyspark.sql.types import ArrayType, DoubleType\n"
   ]
  },
  {
   "cell_type": "code",
   "execution_count": 30,
   "id": "24a8b8ec-1184-4442-b39c-e8c05527da94",
   "metadata": {},
   "outputs": [],
   "source": [
    "def embeddings_to_vector(embeddings):\n",
    "    return Vectors.dense(embeddings)\n",
    "\n",
    "embeddings_to_vector_udf = udf(embeddings_to_vector, VectorUDT())\n",
    "\n",
    "df_with_embeddings = df_with_embeddings.withColumn(\"bert_embeddings_vector\", embeddings_to_vector_udf(\"bert_embeddings\"))"
   ]
  },
  {
   "cell_type": "code",
   "execution_count": 31,
   "id": "e4d0464d-da4f-4cf7-9c01-3fd871d96954",
   "metadata": {},
   "outputs": [],
   "source": [
    "# df_with_embeddings.show()"
   ]
  },
  {
   "cell_type": "code",
   "execution_count": 32,
   "id": "eb6909dc-96e9-463c-b37f-9e8baffb619f",
   "metadata": {},
   "outputs": [
    {
     "name": "stdout",
     "output_type": "stream",
     "text": [
      "root\n",
      " |-- order_id: string (nullable = true)\n",
      " |-- product: string (nullable = true)\n",
      " |-- quantity_ordered: string (nullable = true)\n",
      " |-- price_each: string (nullable = true)\n",
      " |-- order_date: string (nullable = true)\n",
      " |-- purchase_address: string (nullable = true)\n",
      " |-- address_components: array (nullable = true)\n",
      " |    |-- element: string (containsNull = false)\n",
      " |-- street: string (nullable = true)\n",
      " |-- city: string (nullable = true)\n",
      " |-- state_zip: string (nullable = true)\n",
      " |-- city_state: string (nullable = false)\n",
      " |-- state: string (nullable = true)\n",
      " |-- state_full_name: string (nullable = true)\n",
      " |-- order_year: integer (nullable = true)\n",
      " |-- order_month: integer (nullable = true)\n",
      " |-- order_day: integer (nullable = true)\n",
      " |-- order_hour: integer (nullable = true)\n",
      " |-- order_minute: integer (nullable = true)\n",
      " |-- order_second: integer (nullable = true)\n",
      " |-- product_words: array (nullable = true)\n",
      " |    |-- element: string (containsNull = true)\n",
      " |-- product_words_insightful_words: array (nullable = true)\n",
      " |    |-- element: string (containsNull = true)\n",
      " |-- bert_embeddings: string (nullable = true)\n",
      " |-- bert_embeddings_vector: vector (nullable = true)\n",
      "\n"
     ]
    }
   ],
   "source": [
    "df_with_embeddings.printSchema()"
   ]
  },
  {
   "cell_type": "code",
   "execution_count": 33,
   "id": "bdaad7ce-224d-4947-b983-28bfb2244c99",
   "metadata": {},
   "outputs": [],
   "source": [
    "from pyspark.sql.functions import split, col\n",
    "\n",
    "df_with_embeddings = df_with_embeddings.withColumn(\"bert_embeddings_array\", split(col(\"bert_embeddings\"), \",\").cast(\"array<float>\"))\n",
    "\n",
    "limited_df = df_with_embeddings"
   ]
  },
  {
   "cell_type": "code",
   "execution_count": 34,
   "id": "c7275a8b-0e66-43a7-a3a0-3ac7a1be6589",
   "metadata": {},
   "outputs": [
    {
     "name": "stdout",
     "output_type": "stream",
     "text": [
      "root\n",
      " |-- order_id: string (nullable = true)\n",
      " |-- product: string (nullable = true)\n",
      " |-- quantity_ordered: string (nullable = true)\n",
      " |-- price_each: string (nullable = true)\n",
      " |-- order_date: string (nullable = true)\n",
      " |-- purchase_address: string (nullable = true)\n",
      " |-- address_components: array (nullable = true)\n",
      " |    |-- element: string (containsNull = false)\n",
      " |-- street: string (nullable = true)\n",
      " |-- city: string (nullable = true)\n",
      " |-- state_zip: string (nullable = true)\n",
      " |-- city_state: string (nullable = false)\n",
      " |-- state: string (nullable = true)\n",
      " |-- state_full_name: string (nullable = true)\n",
      " |-- order_year: integer (nullable = true)\n",
      " |-- order_month: integer (nullable = true)\n",
      " |-- order_day: integer (nullable = true)\n",
      " |-- order_hour: integer (nullable = true)\n",
      " |-- order_minute: integer (nullable = true)\n",
      " |-- order_second: integer (nullable = true)\n",
      " |-- product_words: array (nullable = true)\n",
      " |    |-- element: string (containsNull = true)\n",
      " |-- product_words_insightful_words: array (nullable = true)\n",
      " |    |-- element: string (containsNull = true)\n",
      " |-- bert_embeddings: string (nullable = true)\n",
      " |-- bert_embeddings_vector: vector (nullable = true)\n",
      " |-- bert_embeddings_array: array (nullable = true)\n",
      " |    |-- element: float (containsNull = true)\n",
      "\n"
     ]
    }
   ],
   "source": [
    "limited_df.printSchema()"
   ]
  },
  {
   "cell_type": "code",
   "execution_count": 35,
   "id": "d0638a30-4874-4f7a-b01d-f22bc41b02b3",
   "metadata": {},
   "outputs": [],
   "source": [
    "from pyspark.ml.feature import PCA\n",
    "from pyspark.ml.clustering import KMeans\n",
    "\n",
    "pca = PCA(k=2, inputCol=\"bert_embeddings_vector\", outputCol=\"pca_features\")\n",
    "model = pca.fit(limited_df)\n",
    "limited_df = model.transform(limited_df)"
   ]
  },
  {
   "cell_type": "code",
   "execution_count": 36,
   "id": "84b4a88c-f37f-4fa8-9c18-3297f0c04f71",
   "metadata": {},
   "outputs": [],
   "source": [
    "#clustering\n",
    "kmeans = KMeans(k=10, featuresCol=\"pca_features\", predictionCol=\"category\")\n",
    "model = kmeans.fit(limited_df)\n",
    "limited_df = model.transform(limited_df)\n",
    "\n",
    "# limited_df.select(\"order_id\", \"product\", \"category\").show()"
   ]
  },
  {
   "cell_type": "code",
   "execution_count": 37,
   "id": "c2239458-475c-4906-8bd9-e3d9936f3ddf",
   "metadata": {},
   "outputs": [],
   "source": [
    "limited_df_cat.select(\"order_id\", \"product\", \"category\", \"category_label\").show()"
   ]
  },
  {
   "cell_type": "code",
   "execution_count": 38,
   "id": "9ac3767a-ef2f-4df7-b483-1b9ed5097df6",
   "metadata": {},
   "outputs": [],
   "source": [
    "# limited_df_cat.printSchema()"
   ]
  },
  {
   "cell_type": "code",
   "execution_count": 39,
   "id": "f8b04265-9e7c-4f9d-a558-8753e4433e1f",
   "metadata": {},
   "outputs": [],
   "source": [
    "to_load_limited_df_cat = limited_df_cat.drop(\"bert_embeddings\", \"bert_embeddings_vector\", \"bert_embeddings_array\", \"pca_features\", \"product_words\", \"product_words_insightful_words\", \"address_components\")\n",
    "\n",
    "sales_df_cleaned = sales_df_cleaned.drop(\"bert_embeddings\", \"bert_embeddings_vector\", \"bert_embeddings_array\", \"pca_features\", \"product_words\", \"product_words_insightful_words\", \"address_components\")"
   ]
  },
  {
   "cell_type": "code",
   "execution_count": 40,
   "id": "57a1f271-d2f3-4d8c-975a-3f0604d6ee33",
   "metadata": {},
   "outputs": [],
   "source": [
    "sales_df_cleaned_type = sales_df_cleaned \\\n",
    "    .withColumn(\"quantity_ordered\", col(\"quantity_ordered\").cast(IntegerType())) \\\n",
    "    .withColumn(\"price_each\", col(\"price_each\").cast(DoubleType())) \\\n",
    "    .withColumn(\"order_date\", col(\"order_date\").cast(TimestampType()))"
   ]
  },
  {
   "cell_type": "code",
   "execution_count": 41,
   "id": "0108856d-85fc-4558-94da-edff887ae837",
   "metadata": {},
   "outputs": [],
   "source": [
    "jdbc_url = \"jdbc:postgresql://localhost:5432/postgres\"\n",
    "table_name = \"ecomm.sales\"\n",
    "table_name2 = \"ecomm.sales_category\"\n",
    "properties = {\n",
    "    \"user\": \"postgres\",\n",
    "    \"password\": \"postgres\",\n",
    "    \"driver\": \"org.postgresql.Driver\"\n",
    "}\n",
    "\n",
    "# Write to PostgreSQL\n",
    "sales_df_cleaned_type.write.jdbc(url=jdbc_url, table=table_name, mode=\"overwrite\", properties=properties)\n",
    "to_load_limited_df_cat.write.jdbc(url=jdbc_url, table=table_name2, mode=\"overwrite\", properties=properties)"
   ]
  }
 ],
 "metadata": {
  "kernelspec": {
   "display_name": "Python 3 (ipykernel)",
   "language": "python",
   "name": "python3"
  },
  "language_info": {
   "codemirror_mode": {
    "name": "ipython",
    "version": 3
   },
   "file_extension": ".py",
   "mimetype": "text/x-python",
   "name": "python",
   "nbconvert_exporter": "python",
   "pygments_lexer": "ipython3",
   "version": "3.12.3"
  }
 },
 "nbformat": 4,
 "nbformat_minor": 5
}
